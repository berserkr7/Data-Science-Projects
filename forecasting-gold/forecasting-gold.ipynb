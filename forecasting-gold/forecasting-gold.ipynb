{
 "cells": [
  {
   "cell_type": "markdown",
   "metadata": {},
   "source": [
    "# Восстановление золота из руды"
   ]
  },
  {
   "cell_type": "markdown",
   "metadata": {},
   "source": [
    "Подготовим прототип модели машинного обучения для «Цифры». Компания разрабатывает решения для эффективной работы промышленных предприятий.\n",
    "\n",
    "Модель должна предсказать коэффициент восстановления золота из золотосодержащей руды. Используйте данные с параметрами добычи и очистки. \n",
    "\n",
    "Модель поможет оптимизировать производство, чтобы не запускать предприятие с убыточными характеристиками.\n",
    "\n",
    "Нам нужно:\n",
    "\n",
    "1. Подготовить данные;\n",
    "2. Провести исследовательский анализ данных;\n",
    "3. Построить и обучить модель.\n",
    "\n"
   ]
  },
  {
   "cell_type": "markdown",
   "metadata": {},
   "source": [
    "## Цель работы:"
   ]
  },
  {
   "cell_type": "markdown",
   "metadata": {},
   "source": [
    "Подготовить модель машинного обучения для компании \"Цифра\". Модель должна предсказать коэффициент восстановления золота из золотосодержащей руды.\n",
    "\n",
    "В качестве метрики используется введенная метрика sMAPE"
   ]
  },
  {
   "cell_type": "markdown",
   "metadata": {},
   "source": [
    "## Описание признаков"
   ]
  },
  {
   "cell_type": "markdown",
   "metadata": {},
   "source": [
    "\n",
    "\n",
    "1. **date** - дата\n",
    "\n",
    "\n",
    "2. **Параметры этапа флотации**\n",
    "    * rougher.state.floatbank10_a_air\n",
    "    * rougher.state.floatbank10_a_level\n",
    "    * rougher.state.floatbank10_b_air\n",
    "    * rougher.state.floatbank10_b_level\n",
    "    * rougher.state.floatbank10_c_air\n",
    "    * rougher.state.floatbank10_c_level\n",
    "    * rougher.state.floatbank10_d_air\n",
    "    * rougher.state.floatbank10_d_level\n",
    "    * rougher.state.floatbank10_e_air\n",
    "    * rougher.state.floatbank10_e_level\n",
    "    * rougher.state.floatbank10_f_air\n",
    "    * rougher.state.floatbank10_f_level\n",
    "    \n",
    "    \n",
    "    \n",
    "    \n",
    "3. **Расчетные характеристики этапа флотации**\n",
    "    * rougher.calculation.sulfate_to_au_concentrate\n",
    "    * rougher.calculation.floatbank10_sulfate_to_au_feed\n",
    "    * rougher.calculation.floatbank11_sulfate_to_au_feed\n",
    "    * rougher.calculation.au_pb_ratio\n",
    "\n",
    "\n",
    "\n",
    "\n",
    "4. **Флотация**\n",
    "    * rougher.input.feed_ag - доля серебра в сырье\n",
    "    * rougher.input.feed_pb - доля свинца в сырье\n",
    "    * rougher.input.feed_rate - скорость подачи сырья\n",
    "    * **rougher.input.feed_size - размер гранул сырья**\n",
    "    * rougher.input.feed_sol - пульпа сырья\n",
    "    * **rougher.input.feed_au - доля золота в сырье**\n",
    "    * rougher.input.floatbank10_sulfate - вещество для флотационной установки для сырья\n",
    "    * rougher.input.floatbank10_xanthate - вещество для флотационной установки для сырья\n",
    "    * rougher.input.floatbank11_sulfate - вещество для флотационной установки для сырья\n",
    "    * rougher.input.floatbank11_xanthate - вещество для флотационной установки для сырья\n",
    "    * rougher.output.concentrate_ag - доля серебра в черновом концентрате\n",
    "    * rougher.output.concentrate_pb - доля свинца в черновом концентрате\n",
    "    * rougher.output.concentrate_sol - доля пульпы в черновом концентрате\n",
    "    * **rougher.output.concentrate_au - доля золота в черновом концентрате**\n",
    "    * **rougher.output.recovery - эффективность обогащения финального концентрата (таргет)**\n",
    "    * rougher.output.tail_ag - доля серебра в хвосте после флотации\n",
    "    * rougher.output.tail_pb - доля свинца в хвосте после флотации\n",
    "    * rougher.output.tail_sol - доля пульпы в хвосте после флотации\n",
    "    * **rougher.output.tail_au - доля золота в хвосте после флотации**\n",
    "    \n",
    "    \n",
    "\n",
    "\n",
    "\n",
    "\n",
    "5. **Параметры первичной очистки:***\n",
    "    * primary_cleaner.state.floatbank8_a_air - \n",
    "    * primary_cleaner.state.floatbank8_a_level\n",
    "    * primary_cleaner.state.floatbank8_b_air\n",
    "    * primary_cleaner.state.floatbank8_b_level\n",
    "    * primary_cleaner.state.floatbank8_c_air\n",
    "    * primary_cleaner.state.floatbank8_c_level\n",
    "    * primary_cleaner.state.floatbank8_d_air\n",
    "    * primary_cleaner.state.floatbank8_d_level\n",
    "    \n",
    "    \n",
    "    \n",
    "\n",
    "6. **Первичная очистка**\n",
    "    * primary_cleaner.input.sulfate - сульфат в первичной очистке сырья\n",
    "    * primary_cleaner.input.depressant - депресант в первичной очистке сырья\n",
    "    * **primary_cleaner.input.feed_size - размер гранул сырья в первичной очистке**\n",
    "    * primary_cleaner.input.xanthate - ксантогенат в первичной очистке сырья\n",
    "    * primary_cleaner.output.concentrate_ag - концентрация серебра в концентрате после первичной очистки \n",
    "    * primary_cleaner.output.concentrate_pb - концентрация свинца в концентрате после первичной очистки \n",
    "    * primary_cleaner.output.concentrate_sol -  концентрация пульпы в концентрате после первичной очистки \n",
    "    * **primary_cleaner.output.concentrate_au -  концентрация золота в концентрате после первичной очистки** \n",
    "    * primary_cleaner.output.tail_ag - концентрация серебра в хвосте после первичной очистки \n",
    "    * primary_cleaner.output.tail_pb - концентрация свинца в хвосте после первичной очистки \n",
    "    * primary_cleaner.output.tail_sol - концентрация пульпы в хвосте после первичной очистки \n",
    "    * **primary_cleaner.output.tail_au - концентрация золота в хвосте после первичной очистки**\n",
    "\n",
    "\n",
    "\n",
    "\n",
    "7. **Параметры вторичной очистки:**\n",
    "    * secondary_cleaner.state.floatbank2_a_air\n",
    "    * secondary_cleaner.state.floatbank2_a_level\n",
    "    * secondary_cleaner.state.floatbank2_b_air\n",
    "    * secondary_cleaner.state.floatbank2_b_level\n",
    "    * secondary_cleaner.state.floatbank3_a_air\n",
    "    * secondary_cleaner.state.floatbank3_a_level\n",
    "    * secondary_cleaner.state.floatbank3_b_air\n",
    "    * secondary_cleaner.state.floatbank3_b_level\n",
    "    * secondary_cleaner.state.floatbank4_a_air\n",
    "    * secondary_cleaner.state.floatbank4_a_level\n",
    "    * secondary_cleaner.state.floatbank4_b_air\n",
    "    * secondary_cleaner.state.floatbank4_b_level\n",
    "    * secondary_cleaner.state.floatbank5_a_air\n",
    "    * secondary_cleaner.state.floatbank5_a_level\n",
    "    * secondary_cleaner.state.floatbank5_b_air\n",
    "    * secondary_cleaner.state.floatbank5_b_level\n",
    "    * secondary_cleaner.state.floatbank6_a_air\n",
    "    * secondary_cleaner.state.floatbank6_a_level\n",
    "\n",
    "\n",
    "\n",
    "\n",
    "\n",
    "8. **Вторичная очистка:**\n",
    "    * secondary_cleaner.output.tail_ag - доля серебра в хвостах после вторичной очистки\n",
    "    * secondary_cleaner.output.tail_pb - доля свинца в хвостах после вторичной очистки\n",
    "    * secondary_cleaner.output.tail_sol - доля пульпы в хвостах после вторичной очистки\n",
    "    * **secondary_cleaner.output.tail_au - доля золота в хвостах после вторичной очистки**\n",
    "\n",
    "\n",
    "\n",
    "\n",
    "    \n",
    "    \n",
    "9. **Финальные характеристики:**\n",
    "    * final.output.concentrate_ag - финальной значение концентрата с содержанием серебра\n",
    "    * final.output.concentrate_pb - финальной значение концентрата с содержанием свинца\n",
    "    * final.output.concentrate_sol - финальной значение концентрата с содержанием пульпы (смеси воды и вещества)\n",
    "    * **final.output.concentrate_au - финальной значение концентрата с содержанием золота**\n",
    "    * **final.output.recovery - эффективность обогащения финального концентрата (таргет)**\n",
    "    * final.output.tail_ag - финальный концентрат серебра в хвостах\n",
    "    * final.output.tail_pb - финальный концентрат свинца в хвостах\n",
    "    * final.output.tail_sol - финальный концентрат пульпы в хвостах\n",
    "    * **final.output.tail_au - финальный концентрат золота в хвостах**\n",
    "    \n",
    "    \n",
    "    "
   ]
  },
  {
   "cell_type": "markdown",
   "metadata": {},
   "source": [
    "## Подготовка данных"
   ]
  },
  {
   "cell_type": "code",
   "execution_count": 1,
   "metadata": {},
   "outputs": [],
   "source": [
    "import pandas as pd\n",
    "import numpy as np\n",
    "from sklearn.preprocessing import StandardScaler, MinMaxScaler\n",
    "from imblearn.pipeline import Pipeline\n",
    "import matplotlib.pyplot as plt\n",
    "from sklearn.impute import KNNImputer \n",
    "from sklearn.preprocessing import FunctionTransformer # для своих функций в pipeline\n",
    "from sklearn.base import BaseEstimator, TransformerMixin\n",
    "import seaborn as sns\n",
    "from sklearn.metrics import make_scorer\n",
    "from sklearn.metrics import mean_absolute_error\n",
    "from sklearn.tree import DecisionTreeRegressor\n",
    "from sklearn.compose import ColumnTransformer\n",
    "from sklearn import set_config\n",
    "from sklearn.dummy import DummyRegressor\n",
    "from sklearn.svm import SVR\n",
    "from sklearn.ensemble import RandomForestRegressor\n",
    "from sklearn.model_selection import RandomizedSearchCV\n",
    "\n"
   ]
  },
  {
   "cell_type": "code",
   "execution_count": 2,
   "metadata": {},
   "outputs": [],
   "source": [
    "try:\n",
    "    train = pd.read_csv('gold_recovery_train_new.csv')\n",
    "    test = pd.read_csv('gold_recovery_test_new.csv') \n",
    "    full = pd.read_csv('gold_recovery_full_new.csv') \n",
    "\n",
    "except:\n",
    "    pass\n",
    "\n"
   ]
  },
  {
   "cell_type": "markdown",
   "metadata": {},
   "source": [
    "### Сравнение расчетов показателей"
   ]
  },
  {
   "cell_type": "markdown",
   "metadata": {},
   "source": [
    "Запишем формулу для расчета показателей"
   ]
  },
  {
   "cell_type": "code",
   "execution_count": 3,
   "metadata": {},
   "outputs": [],
   "source": [
    "def rougher_output_recovery(row):\n",
    "    C = row['rougher.output.concentrate_au']\n",
    "    F = row['rougher.input.feed_au']\n",
    "    T = row['rougher.output.tail_au']\n",
    "    recovery = ((C*(F - T)) / (F*(C - T))) * 100\n",
    "    return recovery"
   ]
  },
  {
   "cell_type": "code",
   "execution_count": 4,
   "metadata": {},
   "outputs": [
    {
     "data": {
      "text/plain": [
       "0        87.107763\n",
       "1        86.843261\n",
       "2        86.842308\n",
       "3        87.226430\n",
       "4        86.688794\n",
       "           ...    \n",
       "14144    89.574376\n",
       "14145    87.724007\n",
       "14146    88.890579\n",
       "14147    89.858126\n",
       "14148    89.514960\n",
       "Length: 14149, dtype: float64"
      ]
     },
     "execution_count": 4,
     "metadata": {},
     "output_type": "execute_result"
    }
   ],
   "source": [
    "train.apply(rougher_output_recovery, axis=1)"
   ]
  },
  {
   "cell_type": "code",
   "execution_count": 5,
   "metadata": {},
   "outputs": [
    {
     "data": {
      "text/plain": [
       "0        87.107763\n",
       "1        86.843261\n",
       "2        86.842308\n",
       "3        87.226430\n",
       "4        86.688794\n",
       "           ...    \n",
       "14144    89.574376\n",
       "14145    87.724007\n",
       "14146    88.890579\n",
       "14147    89.858126\n",
       "14148    89.514960\n",
       "Name: rougher.output.recovery, Length: 14149, dtype: float64"
      ]
     },
     "execution_count": 5,
     "metadata": {},
     "output_type": "execute_result"
    }
   ],
   "source": [
    "train['rougher.output.recovery']"
   ]
  },
  {
   "cell_type": "code",
   "execution_count": 6,
   "metadata": {},
   "outputs": [
    {
     "data": {
      "text/plain": [
       "9.73512347450521e-15"
      ]
     },
     "execution_count": 6,
     "metadata": {},
     "output_type": "execute_result"
    }
   ],
   "source": [
    "mean_absolute_error(train['rougher.output.recovery'], train.apply(rougher_output_recovery, axis=1))"
   ]
  },
  {
   "cell_type": "markdown",
   "metadata": {},
   "source": [
    "\n",
    "<div class=\"alert alert-info\">\n",
    "    <br /> \n",
    "    <font size=\"3\", color = \"black\">\n",
    "<br /> \n",
    "Отклонение в расчетах в 15 знаке после запятой, что близко к нулю, значит формула для расчета верна!"
   ]
  },
  {
   "cell_type": "markdown",
   "metadata": {},
   "source": [
    "### Обработка выбросов"
   ]
  },
  {
   "cell_type": "markdown",
   "metadata": {},
   "source": [
    "**сначала удалю выбросы из train, затем удалю столбцы из train, которых нет в test. И уже на основании их буду строить модели. Я считаю, что бы мы сразу удалили столбцы, в которых были выбросы (а не строки как сейчас), то данные были бы немного недостоверны**"
   ]
  },
  {
   "cell_type": "markdown",
   "metadata": {},
   "source": [
    "**найдем выбросы, нас интересуют аномальные значения в столбцах:**\n",
    "*  Проверю, что сумма хвостов на первичной очистке не может быть нулевой\n",
    "*  Также буду проверять, что сумма значения концентраций на этапах не могут быть нулевыми\n",
    "*  Проверю, что финальное значение концентрации золота не меньше, чем в черновом концентрате\n",
    "* также проверю на выбросы размер гранул сырья\n",
    "\n",
    "Возможно, что значения 0 - это ошибки в оборудовании."
   ]
  },
  {
   "cell_type": "markdown",
   "metadata": {},
   "source": [
    "**1 проверка**"
   ]
  },
  {
   "cell_type": "markdown",
   "metadata": {},
   "source": [
    "**Хвост на первичной:**"
   ]
  },
  {
   "cell_type": "code",
   "execution_count": 7,
   "metadata": {},
   "outputs": [
    {
     "data": {
      "text/html": [
       "<div>\n",
       "<style scoped>\n",
       "    .dataframe tbody tr th:only-of-type {\n",
       "        vertical-align: middle;\n",
       "    }\n",
       "\n",
       "    .dataframe tbody tr th {\n",
       "        vertical-align: top;\n",
       "    }\n",
       "\n",
       "    .dataframe thead th {\n",
       "        text-align: right;\n",
       "    }\n",
       "</style>\n",
       "<table border=\"1\" class=\"dataframe\">\n",
       "  <thead>\n",
       "    <tr style=\"text-align: right;\">\n",
       "      <th></th>\n",
       "      <th>0</th>\n",
       "    </tr>\n",
       "  </thead>\n",
       "  <tbody>\n",
       "    <tr>\n",
       "      <th>0</th>\n",
       "      <td>19.578118</td>\n",
       "    </tr>\n",
       "    <tr>\n",
       "      <th>1</th>\n",
       "      <td>21.653174</td>\n",
       "    </tr>\n",
       "    <tr>\n",
       "      <th>2</th>\n",
       "      <td>22.033287</td>\n",
       "    </tr>\n",
       "    <tr>\n",
       "      <th>3</th>\n",
       "      <td>21.246772</td>\n",
       "    </tr>\n",
       "    <tr>\n",
       "      <th>4</th>\n",
       "      <td>21.869358</td>\n",
       "    </tr>\n",
       "  </tbody>\n",
       "</table>\n",
       "</div>"
      ],
      "text/plain": [
       "           0\n",
       "0  19.578118\n",
       "1  21.653174\n",
       "2  22.033287\n",
       "3  21.246772\n",
       "4  21.869358"
      ]
     },
     "execution_count": 7,
     "metadata": {},
     "output_type": "execute_result"
    }
   ],
   "source": [
    "tail = train[['primary_cleaner.output.tail_ag',\n",
    "            'primary_cleaner.output.tail_pb',\n",
    "            'primary_cleaner.output.tail_au']]\\\n",
    "            .sum(axis='columns').to_frame()\n",
    "\n",
    "tail.head()"
   ]
  },
  {
   "cell_type": "markdown",
   "metadata": {},
   "source": [
    "Удалим из train аномальные наблюдения с такими индексами"
   ]
  },
  {
   "cell_type": "code",
   "execution_count": 8,
   "metadata": {},
   "outputs": [
    {
     "data": {
      "text/plain": [
       "Int64Index([ 1243,  1929,  2533,  2534,  2535,  2536,  2537,  3389,  3741,\n",
       "             3742,  3743,  3744,  3745,  3746,  3747,  3748,  3749,  3750,\n",
       "             3751,  3752,  3753,  3754,  3755,  3756,  3757,  3758,  4497,\n",
       "             4821,  4822,  4823,  4824,  4825,  5568,  6867,  6868,  7078,\n",
       "             7079,  7080,  7311,  8485,  8598,  9853,  9893,  9909,  9910,\n",
       "             9911,  9985, 10013, 10019, 10908, 10909, 10910, 10936, 10937,\n",
       "            10938, 10939, 10940, 11035, 12196, 12274, 12275, 12276, 12277,\n",
       "            12865, 13474, 13475, 13476, 13863],\n",
       "           dtype='int64')"
      ]
     },
     "execution_count": 8,
     "metadata": {},
     "output_type": "execute_result"
    }
   ],
   "source": [
    "tail[tail[0] == 0].index"
   ]
  },
  {
   "cell_type": "code",
   "execution_count": 9,
   "metadata": {},
   "outputs": [],
   "source": [
    "train = train.drop(index=tail[tail[0] == 0].index, axis=1)"
   ]
  },
  {
   "cell_type": "markdown",
   "metadata": {},
   "source": [
    "**вторая проверка**"
   ]
  },
  {
   "cell_type": "markdown",
   "metadata": {},
   "source": [
    "rougher.output.concentrate_ag - доля серебра в черновом концентрате\n",
    "rougher.output.concentrate_pb - доля свинца в черновом концентрате\n",
    "rougher.output.concentrate_sol - доля пульпы в черновом концентрате\n",
    "rougher.output.concentrate_au - доля золота в черновом концентрате"
   ]
  },
  {
   "cell_type": "code",
   "execution_count": 10,
   "metadata": {},
   "outputs": [
    {
     "data": {
      "text/html": [
       "<div>\n",
       "<style scoped>\n",
       "    .dataframe tbody tr th:only-of-type {\n",
       "        vertical-align: middle;\n",
       "    }\n",
       "\n",
       "    .dataframe tbody tr th {\n",
       "        vertical-align: top;\n",
       "    }\n",
       "\n",
       "    .dataframe thead th {\n",
       "        text-align: right;\n",
       "    }\n",
       "</style>\n",
       "<table border=\"1\" class=\"dataframe\">\n",
       "  <thead>\n",
       "    <tr style=\"text-align: right;\">\n",
       "      <th></th>\n",
       "      <th>0</th>\n",
       "    </tr>\n",
       "  </thead>\n",
       "  <tbody>\n",
       "    <tr>\n",
       "      <th>0</th>\n",
       "      <td>66.424950</td>\n",
       "    </tr>\n",
       "    <tr>\n",
       "      <th>1</th>\n",
       "      <td>67.012710</td>\n",
       "    </tr>\n",
       "    <tr>\n",
       "      <th>2</th>\n",
       "      <td>66.103793</td>\n",
       "    </tr>\n",
       "    <tr>\n",
       "      <th>3</th>\n",
       "      <td>65.752751</td>\n",
       "    </tr>\n",
       "    <tr>\n",
       "      <th>4</th>\n",
       "      <td>65.908382</td>\n",
       "    </tr>\n",
       "    <tr>\n",
       "      <th>...</th>\n",
       "      <td>...</td>\n",
       "    </tr>\n",
       "    <tr>\n",
       "      <th>14144</th>\n",
       "      <td>70.781325</td>\n",
       "    </tr>\n",
       "    <tr>\n",
       "      <th>14145</th>\n",
       "      <td>70.539603</td>\n",
       "    </tr>\n",
       "    <tr>\n",
       "      <th>14146</th>\n",
       "      <td>55.376330</td>\n",
       "    </tr>\n",
       "    <tr>\n",
       "      <th>14147</th>\n",
       "      <td>69.201689</td>\n",
       "    </tr>\n",
       "    <tr>\n",
       "      <th>14148</th>\n",
       "      <td>69.544003</td>\n",
       "    </tr>\n",
       "  </tbody>\n",
       "</table>\n",
       "<p>14081 rows × 1 columns</p>\n",
       "</div>"
      ],
      "text/plain": [
       "               0\n",
       "0      66.424950\n",
       "1      67.012710\n",
       "2      66.103793\n",
       "3      65.752751\n",
       "4      65.908382\n",
       "...          ...\n",
       "14144  70.781325\n",
       "14145  70.539603\n",
       "14146  55.376330\n",
       "14147  69.201689\n",
       "14148  69.544003\n",
       "\n",
       "[14081 rows x 1 columns]"
      ]
     },
     "execution_count": 10,
     "metadata": {},
     "output_type": "execute_result"
    }
   ],
   "source": [
    "tail = train[['rougher.output.concentrate_ag',\n",
    "                  'rougher.output.concentrate_au',\n",
    "                  'rougher.output.concentrate_pb',\n",
    "                     'rougher.output.concentrate_sol']]\\\n",
    "                  .sum(axis='columns').to_frame()\n",
    "tail"
   ]
  },
  {
   "cell_type": "markdown",
   "metadata": {},
   "source": [
    "Удалим из train аномальные наблюдения с такими индексами"
   ]
  },
  {
   "cell_type": "code",
   "execution_count": 11,
   "metadata": {},
   "outputs": [
    {
     "data": {
      "text/plain": [
       "Int64Index([   45,    46,    47,    48,    49,    50,    51,   759,  1682,\n",
       "             1696,\n",
       "            ...\n",
       "            10309, 10310, 10327, 10328, 10329, 10330, 10331, 10332, 10333,\n",
       "            10334],\n",
       "           dtype='int64', length=296)"
      ]
     },
     "execution_count": 11,
     "metadata": {},
     "output_type": "execute_result"
    }
   ],
   "source": [
    "tail[tail[0] == 0].index"
   ]
  },
  {
   "cell_type": "code",
   "execution_count": 12,
   "metadata": {},
   "outputs": [],
   "source": [
    "train = train.drop(index=tail[tail[0] == 0].index, axis=1)"
   ]
  },
  {
   "cell_type": "code",
   "execution_count": 13,
   "metadata": {},
   "outputs": [
    {
     "data": {
      "text/plain": [
       "(13785, 87)"
      ]
     },
     "execution_count": 13,
     "metadata": {},
     "output_type": "execute_result"
    }
   ],
   "source": [
    "train.shape"
   ]
  },
  {
   "cell_type": "code",
   "execution_count": 14,
   "metadata": {},
   "outputs": [],
   "source": [
    "tail = train[[ 'primary_cleaner.output.concentrate_ag',\n",
    "     'primary_cleaner.output.concentrate_au',\n",
    "      'primary_cleaner.output.concentrate_pb',\n",
    "      'primary_cleaner.output.concentrate_sol']].sum(axis='columns').to_frame()"
   ]
  },
  {
   "cell_type": "code",
   "execution_count": 15,
   "metadata": {},
   "outputs": [
    {
     "data": {
      "text/plain": [
       "Int64Index([   19,    22,    30,    71,    74,    89,    90,    98,   748,\n",
       "              749,  1416,  1700,  1709,  1828,  3401,  4819,  4820,  4972,\n",
       "             5640,  5641,  5642,  5643,  5723,  5783,  6591,  6719,  6720,\n",
       "             6721,  6722,  6723,  6724,  6773,  6774,  6781,  6858,  6859,\n",
       "             7055,  7056,  7850,  7851,  7852,  8534,  8643,  8771,  8906,\n",
       "             9309,  9310,  9311,  9312,  9313,  9314,  9315,  9316,  9317,\n",
       "             9318,  9319,  9320,  9468,  9469,  9470,  9471,  9472, 10050,\n",
       "            10053, 10066, 10126, 10253],\n",
       "           dtype='int64')"
      ]
     },
     "execution_count": 15,
     "metadata": {},
     "output_type": "execute_result"
    }
   ],
   "source": [
    "tail[tail[0] == 0].index"
   ]
  },
  {
   "cell_type": "code",
   "execution_count": 16,
   "metadata": {},
   "outputs": [],
   "source": [
    "train = train.drop(index=tail[tail[0] == 0].index, axis=1)"
   ]
  },
  {
   "cell_type": "code",
   "execution_count": 17,
   "metadata": {},
   "outputs": [
    {
     "data": {
      "text/plain": [
       "(13718, 87)"
      ]
     },
     "execution_count": 17,
     "metadata": {},
     "output_type": "execute_result"
    }
   ],
   "source": [
    "train.shape"
   ]
  },
  {
   "cell_type": "code",
   "execution_count": 18,
   "metadata": {},
   "outputs": [],
   "source": [
    "tail = train[['rougher.input.feed_ag',\n",
    "     'rougher.input.feed_au',\n",
    "     'rougher.input.feed_pb',\n",
    "     'rougher.input.feed_sol']].sum(axis='columns').to_frame()"
   ]
  },
  {
   "cell_type": "code",
   "execution_count": 19,
   "metadata": {},
   "outputs": [
    {
     "data": {
      "text/plain": [
       "Int64Index([], dtype='int64')"
      ]
     },
     "execution_count": 19,
     "metadata": {},
     "output_type": "execute_result"
    }
   ],
   "source": [
    "tail[tail[0] == 0].index"
   ]
  },
  {
   "cell_type": "code",
   "execution_count": 20,
   "metadata": {},
   "outputs": [],
   "source": [
    "train = train.drop(index=tail[tail[0] == 0].index, axis=1)"
   ]
  },
  {
   "cell_type": "code",
   "execution_count": 21,
   "metadata": {},
   "outputs": [
    {
     "data": {
      "text/plain": [
       "(13718, 87)"
      ]
     },
     "execution_count": 21,
     "metadata": {},
     "output_type": "execute_result"
    }
   ],
   "source": [
    "train.shape"
   ]
  },
  {
   "cell_type": "code",
   "execution_count": 22,
   "metadata": {},
   "outputs": [],
   "source": [
    "tail = train[['final.output.concentrate_ag',\n",
    "    'final.output.concentrate_au',\n",
    "     'final.output.concentrate_pb',\n",
    "     'final.output.concentrate_sol']].sum(axis='columns').to_frame()"
   ]
  },
  {
   "cell_type": "code",
   "execution_count": 23,
   "metadata": {},
   "outputs": [
    {
     "data": {
      "text/plain": [
       "Int64Index([  644,  1193,  1194,  1195,  1196,  2019,  2020,  2236,  3394,\n",
       "             3395,  3396,  3397,  3400,  4215,  4314,  4564,  4652,  4653,\n",
       "             4722,  4723,  4724,  4965,  4966,  4967,  4968,  4969,  5139,\n",
       "             5140,  5784,  5871,  5872,  6016,  6017,  6018,  6019,  6254,\n",
       "             6430,  7050,  7051,  7052,  7053,  7054,  7406,  7518,  7519,\n",
       "             7556,  8665,  8884,  8898,  8899,  8900,  8919,  8920,  9894,\n",
       "            10020],\n",
       "           dtype='int64')"
      ]
     },
     "execution_count": 23,
     "metadata": {},
     "output_type": "execute_result"
    }
   ],
   "source": [
    "tail[tail[0] == 0].index"
   ]
  },
  {
   "cell_type": "code",
   "execution_count": 24,
   "metadata": {},
   "outputs": [],
   "source": [
    "train = train.drop(index=tail[tail[0] == 0].index, axis=1)"
   ]
  },
  {
   "cell_type": "code",
   "execution_count": 25,
   "metadata": {},
   "outputs": [
    {
     "data": {
      "text/plain": [
       "(13663, 87)"
      ]
     },
     "execution_count": 25,
     "metadata": {},
     "output_type": "execute_result"
    }
   ],
   "source": [
    "train.shape"
   ]
  },
  {
   "cell_type": "markdown",
   "metadata": {},
   "source": [
    "**проверка 3**"
   ]
  },
  {
   "cell_type": "code",
   "execution_count": 26,
   "metadata": {},
   "outputs": [
    {
     "data": {
      "text/html": [
       "<div>\n",
       "<style scoped>\n",
       "    .dataframe tbody tr th:only-of-type {\n",
       "        vertical-align: middle;\n",
       "    }\n",
       "\n",
       "    .dataframe tbody tr th {\n",
       "        vertical-align: top;\n",
       "    }\n",
       "\n",
       "    .dataframe thead th {\n",
       "        text-align: right;\n",
       "    }\n",
       "</style>\n",
       "<table border=\"1\" class=\"dataframe\">\n",
       "  <thead>\n",
       "    <tr style=\"text-align: right;\">\n",
       "      <th></th>\n",
       "      <th>final.output.concentrate_au</th>\n",
       "      <th>rougher.output.concentrate_au</th>\n",
       "    </tr>\n",
       "  </thead>\n",
       "  <tbody>\n",
       "    <tr>\n",
       "      <th>0</th>\n",
       "      <td>42.192020</td>\n",
       "      <td>19.793808</td>\n",
       "    </tr>\n",
       "    <tr>\n",
       "      <th>1</th>\n",
       "      <td>42.701629</td>\n",
       "      <td>20.050975</td>\n",
       "    </tr>\n",
       "    <tr>\n",
       "      <th>2</th>\n",
       "      <td>42.657501</td>\n",
       "      <td>19.737170</td>\n",
       "    </tr>\n",
       "    <tr>\n",
       "      <th>3</th>\n",
       "      <td>42.689819</td>\n",
       "      <td>19.320810</td>\n",
       "    </tr>\n",
       "    <tr>\n",
       "      <th>4</th>\n",
       "      <td>42.774141</td>\n",
       "      <td>19.216101</td>\n",
       "    </tr>\n",
       "    <tr>\n",
       "      <th>...</th>\n",
       "      <td>...</td>\n",
       "      <td>...</td>\n",
       "    </tr>\n",
       "    <tr>\n",
       "      <th>14144</th>\n",
       "      <td>46.713954</td>\n",
       "      <td>18.603550</td>\n",
       "    </tr>\n",
       "    <tr>\n",
       "      <th>14145</th>\n",
       "      <td>46.866780</td>\n",
       "      <td>18.441436</td>\n",
       "    </tr>\n",
       "    <tr>\n",
       "      <th>14146</th>\n",
       "      <td>46.795691</td>\n",
       "      <td>15.111231</td>\n",
       "    </tr>\n",
       "    <tr>\n",
       "      <th>14147</th>\n",
       "      <td>46.408188</td>\n",
       "      <td>17.834772</td>\n",
       "    </tr>\n",
       "    <tr>\n",
       "      <th>14148</th>\n",
       "      <td>46.299438</td>\n",
       "      <td>17.804134</td>\n",
       "    </tr>\n",
       "  </tbody>\n",
       "</table>\n",
       "<p>13663 rows × 2 columns</p>\n",
       "</div>"
      ],
      "text/plain": [
       "       final.output.concentrate_au  rougher.output.concentrate_au\n",
       "0                        42.192020                      19.793808\n",
       "1                        42.701629                      20.050975\n",
       "2                        42.657501                      19.737170\n",
       "3                        42.689819                      19.320810\n",
       "4                        42.774141                      19.216101\n",
       "...                            ...                            ...\n",
       "14144                    46.713954                      18.603550\n",
       "14145                    46.866780                      18.441436\n",
       "14146                    46.795691                      15.111231\n",
       "14147                    46.408188                      17.834772\n",
       "14148                    46.299438                      17.804134\n",
       "\n",
       "[13663 rows x 2 columns]"
      ]
     },
     "execution_count": 26,
     "metadata": {},
     "output_type": "execute_result"
    }
   ],
   "source": [
    "t = train[['final.output.concentrate_au', 'rougher.output.concentrate_au']]\n",
    "t"
   ]
  },
  {
   "cell_type": "code",
   "execution_count": 27,
   "metadata": {},
   "outputs": [
    {
     "data": {
      "text/html": [
       "<div>\n",
       "<style scoped>\n",
       "    .dataframe tbody tr th:only-of-type {\n",
       "        vertical-align: middle;\n",
       "    }\n",
       "\n",
       "    .dataframe tbody tr th {\n",
       "        vertical-align: top;\n",
       "    }\n",
       "\n",
       "    .dataframe thead th {\n",
       "        text-align: right;\n",
       "    }\n",
       "</style>\n",
       "<table border=\"1\" class=\"dataframe\">\n",
       "  <thead>\n",
       "    <tr style=\"text-align: right;\">\n",
       "      <th></th>\n",
       "      <th>final.output.concentrate_au</th>\n",
       "      <th>rougher.output.concentrate_au</th>\n",
       "    </tr>\n",
       "  </thead>\n",
       "  <tbody>\n",
       "    <tr>\n",
       "      <th>643</th>\n",
       "      <td>12.718924</td>\n",
       "      <td>12.815611</td>\n",
       "    </tr>\n",
       "    <tr>\n",
       "      <th>647</th>\n",
       "      <td>12.350079</td>\n",
       "      <td>16.297189</td>\n",
       "    </tr>\n",
       "    <tr>\n",
       "      <th>1191</th>\n",
       "      <td>11.315601</td>\n",
       "      <td>18.630887</td>\n",
       "    </tr>\n",
       "    <tr>\n",
       "      <th>1701</th>\n",
       "      <td>15.391811</td>\n",
       "      <td>18.217797</td>\n",
       "    </tr>\n",
       "    <tr>\n",
       "      <th>2021</th>\n",
       "      <td>16.611216</td>\n",
       "      <td>23.415633</td>\n",
       "    </tr>\n",
       "    <tr>\n",
       "      <th>2345</th>\n",
       "      <td>10.589361</td>\n",
       "      <td>21.020386</td>\n",
       "    </tr>\n",
       "    <tr>\n",
       "      <th>2346</th>\n",
       "      <td>20.274648</td>\n",
       "      <td>20.813338</td>\n",
       "    </tr>\n",
       "    <tr>\n",
       "      <th>2471</th>\n",
       "      <td>21.980065</td>\n",
       "      <td>21.998480</td>\n",
       "    </tr>\n",
       "    <tr>\n",
       "      <th>3413</th>\n",
       "      <td>9.588225</td>\n",
       "      <td>22.296125</td>\n",
       "    </tr>\n",
       "    <tr>\n",
       "      <th>4216</th>\n",
       "      <td>13.320769</td>\n",
       "      <td>24.220716</td>\n",
       "    </tr>\n",
       "    <tr>\n",
       "      <th>4654</th>\n",
       "      <td>12.048729</td>\n",
       "      <td>24.479518</td>\n",
       "    </tr>\n",
       "    <tr>\n",
       "      <th>4858</th>\n",
       "      <td>20.077845</td>\n",
       "      <td>20.719905</td>\n",
       "    </tr>\n",
       "    <tr>\n",
       "      <th>5114</th>\n",
       "      <td>9.722424</td>\n",
       "      <td>20.447696</td>\n",
       "    </tr>\n",
       "    <tr>\n",
       "      <th>5118</th>\n",
       "      <td>18.257618</td>\n",
       "      <td>20.323862</td>\n",
       "    </tr>\n",
       "    <tr>\n",
       "      <th>5138</th>\n",
       "      <td>11.576322</td>\n",
       "      <td>23.797445</td>\n",
       "    </tr>\n",
       "    <tr>\n",
       "      <th>5141</th>\n",
       "      <td>18.997769</td>\n",
       "      <td>23.500238</td>\n",
       "    </tr>\n",
       "    <tr>\n",
       "      <th>5873</th>\n",
       "      <td>12.741757</td>\n",
       "      <td>23.993700</td>\n",
       "    </tr>\n",
       "    <tr>\n",
       "      <th>6020</th>\n",
       "      <td>15.157673</td>\n",
       "      <td>20.392735</td>\n",
       "    </tr>\n",
       "    <tr>\n",
       "      <th>6149</th>\n",
       "      <td>14.630062</td>\n",
       "      <td>25.422948</td>\n",
       "    </tr>\n",
       "    <tr>\n",
       "      <th>6213</th>\n",
       "      <td>17.366797</td>\n",
       "      <td>20.203998</td>\n",
       "    </tr>\n",
       "    <tr>\n",
       "      <th>6431</th>\n",
       "      <td>10.623752</td>\n",
       "      <td>22.514416</td>\n",
       "    </tr>\n",
       "    <tr>\n",
       "      <th>7405</th>\n",
       "      <td>1.482979</td>\n",
       "      <td>19.466912</td>\n",
       "    </tr>\n",
       "    <tr>\n",
       "      <th>7436</th>\n",
       "      <td>8.300503</td>\n",
       "      <td>21.751651</td>\n",
       "    </tr>\n",
       "    <tr>\n",
       "      <th>7455</th>\n",
       "      <td>20.215990</td>\n",
       "      <td>21.187852</td>\n",
       "    </tr>\n",
       "    <tr>\n",
       "      <th>7465</th>\n",
       "      <td>13.815236</td>\n",
       "      <td>23.338904</td>\n",
       "    </tr>\n",
       "    <tr>\n",
       "      <th>7645</th>\n",
       "      <td>10.860680</td>\n",
       "      <td>21.629783</td>\n",
       "    </tr>\n",
       "    <tr>\n",
       "      <th>7842</th>\n",
       "      <td>10.612920</td>\n",
       "      <td>22.879480</td>\n",
       "    </tr>\n",
       "    <tr>\n",
       "      <th>7843</th>\n",
       "      <td>12.876973</td>\n",
       "      <td>22.645729</td>\n",
       "    </tr>\n",
       "    <tr>\n",
       "      <th>7846</th>\n",
       "      <td>17.839002</td>\n",
       "      <td>23.518120</td>\n",
       "    </tr>\n",
       "    <tr>\n",
       "      <th>8344</th>\n",
       "      <td>18.388294</td>\n",
       "      <td>19.192222</td>\n",
       "    </tr>\n",
       "    <tr>\n",
       "      <th>8524</th>\n",
       "      <td>18.172325</td>\n",
       "      <td>20.672450</td>\n",
       "    </tr>\n",
       "    <tr>\n",
       "      <th>8572</th>\n",
       "      <td>17.749175</td>\n",
       "      <td>20.845452</td>\n",
       "    </tr>\n",
       "    <tr>\n",
       "      <th>8670</th>\n",
       "      <td>14.987591</td>\n",
       "      <td>20.256690</td>\n",
       "    </tr>\n",
       "    <tr>\n",
       "      <th>8691</th>\n",
       "      <td>14.241259</td>\n",
       "      <td>18.493686</td>\n",
       "    </tr>\n",
       "    <tr>\n",
       "      <th>8881</th>\n",
       "      <td>17.092395</td>\n",
       "      <td>22.620784</td>\n",
       "    </tr>\n",
       "    <tr>\n",
       "      <th>8885</th>\n",
       "      <td>19.681533</td>\n",
       "      <td>25.398682</td>\n",
       "    </tr>\n",
       "    <tr>\n",
       "      <th>8901</th>\n",
       "      <td>23.504592</td>\n",
       "      <td>25.212473</td>\n",
       "    </tr>\n",
       "    <tr>\n",
       "      <th>8925</th>\n",
       "      <td>7.198318</td>\n",
       "      <td>21.620093</td>\n",
       "    </tr>\n",
       "    <tr>\n",
       "      <th>9092</th>\n",
       "      <td>8.201920</td>\n",
       "      <td>14.925577</td>\n",
       "    </tr>\n",
       "    <tr>\n",
       "      <th>9321</th>\n",
       "      <td>7.891570</td>\n",
       "      <td>20.818396</td>\n",
       "    </tr>\n",
       "    <tr>\n",
       "      <th>9665</th>\n",
       "      <td>14.807410</td>\n",
       "      <td>18.615233</td>\n",
       "    </tr>\n",
       "    <tr>\n",
       "      <th>9667</th>\n",
       "      <td>15.135414</td>\n",
       "      <td>18.089471</td>\n",
       "    </tr>\n",
       "    <tr>\n",
       "      <th>9895</th>\n",
       "      <td>11.750788</td>\n",
       "      <td>20.820157</td>\n",
       "    </tr>\n",
       "    <tr>\n",
       "      <th>10521</th>\n",
       "      <td>8.959882</td>\n",
       "      <td>19.925486</td>\n",
       "    </tr>\n",
       "    <tr>\n",
       "      <th>11335</th>\n",
       "      <td>13.412890</td>\n",
       "      <td>20.335201</td>\n",
       "    </tr>\n",
       "    <tr>\n",
       "      <th>11744</th>\n",
       "      <td>6.340183</td>\n",
       "      <td>20.348739</td>\n",
       "    </tr>\n",
       "    <tr>\n",
       "      <th>12597</th>\n",
       "      <td>8.481923</td>\n",
       "      <td>18.175120</td>\n",
       "    </tr>\n",
       "    <tr>\n",
       "      <th>12867</th>\n",
       "      <td>12.603614</td>\n",
       "      <td>18.645479</td>\n",
       "    </tr>\n",
       "    <tr>\n",
       "      <th>13074</th>\n",
       "      <td>10.524354</td>\n",
       "      <td>14.831510</td>\n",
       "    </tr>\n",
       "    <tr>\n",
       "      <th>13363</th>\n",
       "      <td>6.907081</td>\n",
       "      <td>20.140695</td>\n",
       "    </tr>\n",
       "    <tr>\n",
       "      <th>13581</th>\n",
       "      <td>18.128890</td>\n",
       "      <td>19.572236</td>\n",
       "    </tr>\n",
       "    <tr>\n",
       "      <th>13864</th>\n",
       "      <td>19.880770</td>\n",
       "      <td>22.904334</td>\n",
       "    </tr>\n",
       "    <tr>\n",
       "      <th>13919</th>\n",
       "      <td>1.063992</td>\n",
       "      <td>24.485372</td>\n",
       "    </tr>\n",
       "    <tr>\n",
       "      <th>13967</th>\n",
       "      <td>15.685009</td>\n",
       "      <td>20.053625</td>\n",
       "    </tr>\n",
       "    <tr>\n",
       "      <th>13968</th>\n",
       "      <td>8.044110</td>\n",
       "      <td>21.827814</td>\n",
       "    </tr>\n",
       "    <tr>\n",
       "      <th>13977</th>\n",
       "      <td>17.185282</td>\n",
       "      <td>19.276798</td>\n",
       "    </tr>\n",
       "  </tbody>\n",
       "</table>\n",
       "</div>"
      ],
      "text/plain": [
       "       final.output.concentrate_au  rougher.output.concentrate_au\n",
       "643                      12.718924                      12.815611\n",
       "647                      12.350079                      16.297189\n",
       "1191                     11.315601                      18.630887\n",
       "1701                     15.391811                      18.217797\n",
       "2021                     16.611216                      23.415633\n",
       "2345                     10.589361                      21.020386\n",
       "2346                     20.274648                      20.813338\n",
       "2471                     21.980065                      21.998480\n",
       "3413                      9.588225                      22.296125\n",
       "4216                     13.320769                      24.220716\n",
       "4654                     12.048729                      24.479518\n",
       "4858                     20.077845                      20.719905\n",
       "5114                      9.722424                      20.447696\n",
       "5118                     18.257618                      20.323862\n",
       "5138                     11.576322                      23.797445\n",
       "5141                     18.997769                      23.500238\n",
       "5873                     12.741757                      23.993700\n",
       "6020                     15.157673                      20.392735\n",
       "6149                     14.630062                      25.422948\n",
       "6213                     17.366797                      20.203998\n",
       "6431                     10.623752                      22.514416\n",
       "7405                      1.482979                      19.466912\n",
       "7436                      8.300503                      21.751651\n",
       "7455                     20.215990                      21.187852\n",
       "7465                     13.815236                      23.338904\n",
       "7645                     10.860680                      21.629783\n",
       "7842                     10.612920                      22.879480\n",
       "7843                     12.876973                      22.645729\n",
       "7846                     17.839002                      23.518120\n",
       "8344                     18.388294                      19.192222\n",
       "8524                     18.172325                      20.672450\n",
       "8572                     17.749175                      20.845452\n",
       "8670                     14.987591                      20.256690\n",
       "8691                     14.241259                      18.493686\n",
       "8881                     17.092395                      22.620784\n",
       "8885                     19.681533                      25.398682\n",
       "8901                     23.504592                      25.212473\n",
       "8925                      7.198318                      21.620093\n",
       "9092                      8.201920                      14.925577\n",
       "9321                      7.891570                      20.818396\n",
       "9665                     14.807410                      18.615233\n",
       "9667                     15.135414                      18.089471\n",
       "9895                     11.750788                      20.820157\n",
       "10521                     8.959882                      19.925486\n",
       "11335                    13.412890                      20.335201\n",
       "11744                     6.340183                      20.348739\n",
       "12597                     8.481923                      18.175120\n",
       "12867                    12.603614                      18.645479\n",
       "13074                    10.524354                      14.831510\n",
       "13363                     6.907081                      20.140695\n",
       "13581                    18.128890                      19.572236\n",
       "13864                    19.880770                      22.904334\n",
       "13919                     1.063992                      24.485372\n",
       "13967                    15.685009                      20.053625\n",
       "13968                     8.044110                      21.827814\n",
       "13977                    17.185282                      19.276798"
      ]
     },
     "execution_count": 27,
     "metadata": {},
     "output_type": "execute_result"
    }
   ],
   "source": [
    "t[t['rougher.output.concentrate_au'] > t['final.output.concentrate_au']]"
   ]
  },
  {
   "cell_type": "markdown",
   "metadata": {},
   "source": [
    "\n",
    "<div class=\"alert alert-info\">\n",
    "    <br /> \n",
    "    <font size=\"3\", color = \"black\">\n",
    "<br /> \n",
    "        \n",
    "Предположу, что такая ситуация произошла из-за неправильной настройки параметров первичной и вторичной очистки, из-за этого потреяли какую-то часть золота."
   ]
  },
  {
   "cell_type": "markdown",
   "metadata": {},
   "source": [
    "**Поскольку нам важно, чтобы данные были как можно лучше для обучения, то такую ситуацию нам лучше удалить.**"
   ]
  },
  {
   "cell_type": "code",
   "execution_count": 28,
   "metadata": {},
   "outputs": [],
   "source": [
    "train = train.drop(index=(t[t['rougher.output.concentrate_au'] > t['final.output.concentrate_au']]).index, axis=1)"
   ]
  },
  {
   "cell_type": "code",
   "execution_count": 29,
   "metadata": {},
   "outputs": [
    {
     "data": {
      "text/plain": [
       "(13607, 87)"
      ]
     },
     "execution_count": 29,
     "metadata": {},
     "output_type": "execute_result"
    }
   ],
   "source": [
    "train.shape"
   ]
  },
  {
   "cell_type": "markdown",
   "metadata": {},
   "source": [
    "**4 проверка, размер гранул сырья**"
   ]
  },
  {
   "cell_type": "code",
   "execution_count": 30,
   "metadata": {},
   "outputs": [
    {
     "data": {
      "text/plain": [
       "Text(0.5, 1.0, 'Размер гранул сырья')"
      ]
     },
     "execution_count": 30,
     "metadata": {},
     "output_type": "execute_result"
    },
    {
     "data": {
      "image/png": "[encoded data removed]",
      "text/plain": [
       "<Figure size 640x480 with 1 Axes>"
      ]
     },
     "metadata": {},
     "output_type": "display_data"
    }
   ],
   "source": [
    "train['rougher.input.feed_size'].hist(bins=50)\n",
    "plt.xlabel('Размер')\n",
    "plt.ylabel('Количество наблюдений')\n",
    "plt.title('Размер гранул сырья')"
   ]
  },
  {
   "cell_type": "markdown",
   "metadata": {},
   "source": [
    "\n",
    "<div class=\"alert alert-info\">\n",
    "    <br /> \n",
    "    <font size=\"3\", color = \"black\">\n",
    "<br /> \n",
    "Видим длинный хвост, предположу, что наблюдения больше 200 - это выбросы, удалим их:"
   ]
  },
  {
   "cell_type": "code",
   "execution_count": 31,
   "metadata": {},
   "outputs": [],
   "source": [
    "train = train.drop(index=train[train['rougher.input.feed_size'] >= 200].index, axis=1)"
   ]
  },
  {
   "cell_type": "code",
   "execution_count": 32,
   "metadata": {},
   "outputs": [
    {
     "data": {
      "text/plain": [
       "(13540, 87)"
      ]
     },
     "execution_count": 32,
     "metadata": {},
     "output_type": "execute_result"
    }
   ],
   "source": [
    "train.shape"
   ]
  },
  {
   "cell_type": "code",
   "execution_count": 33,
   "metadata": {},
   "outputs": [
    {
     "data": {
      "text/plain": [
       "0.9569580889108771"
      ]
     },
     "execution_count": 33,
     "metadata": {},
     "output_type": "execute_result"
    }
   ],
   "source": [
    "13540/14149"
   ]
  },
  {
   "cell_type": "markdown",
   "metadata": {},
   "source": [
    "\n",
    "<div class=\"alert alert-info\">\n",
    "    <br /> \n",
    "    <font size=\"3\", color = \"black\">\n",
    "<br /> \n",
    "Удалили 4.4% данных"
   ]
  },
  {
   "cell_type": "markdown",
   "metadata": {},
   "source": [
    "### Заполнение пропусков"
   ]
  },
  {
   "cell_type": "markdown",
   "metadata": {},
   "source": [
    "**Напишу свой класс для заполнения пропусков, используем метод 'ffill', а для граничных случаев, когда в самом начале есть пропуск будем использовать полиноминальную интерполяцию:**"
   ]
  },
  {
   "cell_type": "code",
   "execution_count": 34,
   "metadata": {},
   "outputs": [],
   "source": [
    "class Imputer_ffill(BaseEstimator, TransformerMixin):\n",
    "    \n",
    "    def __init__(self):\n",
    "        pass\n",
    "    \n",
    "    def fit(self, X, y=None):\n",
    "        X = X.fillna(method='ffill')\n",
    "        if X.isna().mean().sum() != 0:\n",
    "            X = X.interpolate(method='polynomial', order=2, axis=1)\n",
    "        else:\n",
    "            pass\n",
    "        return X\n",
    "    \n",
    "    def fit_transform(self,  X, y=None):\n",
    "        X = X.fillna(method='ffill')\n",
    "        if X.isna().mean().sum() != 0:\n",
    "            X = X.interpolate(method='polynomial', order=2, axis=1)\n",
    "        else:\n",
    "            pass\n",
    "        return X  \n",
    "    \n",
    "    def transform(self,  X, y=None):\n",
    "        X = X.fillna(method='ffill')\n",
    "        if X.isna().mean().sum() != 0:\n",
    "            X = X.interpolate(method='polynomial', order=2, axis=1)\n",
    "        else:\n",
    "            pass\n",
    "        return X\n"
   ]
  },
  {
   "cell_type": "markdown",
   "metadata": {},
   "source": [
    "### Признаки на test"
   ]
  },
  {
   "cell_type": "markdown",
   "metadata": {},
   "source": [
    "Добавим в test признаки (таргеты) из полного набора "
   ]
  },
  {
   "cell_type": "markdown",
   "metadata": {},
   "source": [
    " 'final.output.recovery' и  'rougher.output.recovery'нам нужно спрогнозировать. Их мы не можем взять из полного набора данных  для проверки моделей. \n"
   ]
  },
  {
   "cell_type": "markdown",
   "metadata": {},
   "source": [
    "\n",
    "<div class=\"alert alert-info\">\n",
    "    <br /> \n",
    "    <font size=\"3\", color = \"black\">\n",
    "<br />\n",
    "Касательно того, почему в test нет некоторых признаков: в test нет признаков, которые получаются далее в этапе производства, ведь нам нужно построить предсказания. Следовательно, чтобы модель обучалась корректно мы убрали эти фичи. Также некоторые фичи были производными других."
   ]
  },
  {
   "cell_type": "code",
   "execution_count": 35,
   "metadata": {},
   "outputs": [],
   "source": [
    "test = test.merge(full[['date', 'final.output.recovery', 'rougher.output.recovery']], how='left', on='date')"
   ]
  },
  {
   "cell_type": "markdown",
   "metadata": {},
   "source": [
    "Посмотрим каких признаков нет в тесте"
   ]
  },
  {
   "cell_type": "code",
   "execution_count": 36,
   "metadata": {},
   "outputs": [],
   "source": [
    "columns_train = set([i for i in train.columns])\n",
    "columns_test = set([i for i in test.columns])\n"
   ]
  },
  {
   "cell_type": "code",
   "execution_count": 37,
   "metadata": {
    "scrolled": true
   },
   "outputs": [
    {
     "data": {
      "text/plain": [
       "32"
      ]
     },
     "execution_count": 37,
     "metadata": {},
     "output_type": "execute_result"
    }
   ],
   "source": [
    "# Возвращает разность множеств A и B \n",
    "# (элементы, входящие в A, но не входящие в B).A.difference_update(B)\n",
    "len(columns_train.difference(columns_test))"
   ]
  },
  {
   "cell_type": "markdown",
   "metadata": {},
   "source": [
    "Удалим из train другие столбцы, которых нет в test"
   ]
  },
  {
   "cell_type": "code",
   "execution_count": 38,
   "metadata": {},
   "outputs": [],
   "source": [
    "train = train.drop(list(columns_train.difference(columns_test)), axis=1)"
   ]
  },
  {
   "cell_type": "code",
   "execution_count": 39,
   "metadata": {},
   "outputs": [
    {
     "data": {
      "text/plain": [
       "(5290, 55)"
      ]
     },
     "execution_count": 39,
     "metadata": {},
     "output_type": "execute_result"
    }
   ],
   "source": [
    "test.shape"
   ]
  },
  {
   "cell_type": "markdown",
   "metadata": {},
   "source": [
    "### Поиск дубликатов"
   ]
  },
  {
   "cell_type": "code",
   "execution_count": 40,
   "metadata": {},
   "outputs": [
    {
     "data": {
      "text/plain": [
       "0"
      ]
     },
     "execution_count": 40,
     "metadata": {},
     "output_type": "execute_result"
    }
   ],
   "source": [
    "# Дубликатов нет\n",
    "train.duplicated().sum()"
   ]
  },
  {
   "cell_type": "markdown",
   "metadata": {},
   "source": [
    "## EDA"
   ]
  },
  {
   "cell_type": "markdown",
   "metadata": {},
   "source": [
    "\n",
    "<div class=\"alert alert-info\">\n",
    "    <br /> \n",
    "    <font size=\"3\", color = \"black\">\n",
    "<br />\n",
    "Поскольку в данной работу будем использовать модели на основе деревьев, то проблема мультиколлинеарности для нас не страшна. В качестве признакового пространства возьмем все признаки, кроме date, для будущих прогнозов этот признак не поможет дать хорошее предсказание. Удалим его"
   ]
  },
  {
   "cell_type": "code",
   "execution_count": 41,
   "metadata": {},
   "outputs": [],
   "source": [
    "train = train.drop(['date'], axis=1)"
   ]
  },
  {
   "cell_type": "code",
   "execution_count": 42,
   "metadata": {},
   "outputs": [],
   "source": [
    "test = test.drop(['date'], axis=1)"
   ]
  },
  {
   "cell_type": "markdown",
   "metadata": {},
   "source": [
    "### Сравнение размеров гранул на train и test"
   ]
  },
  {
   "cell_type": "markdown",
   "metadata": {},
   "source": [
    "\n",
    "<div class=\"alert alert-info\">\n",
    "    <br /> \n",
    "    <font size=\"3\", color = \"black\">\n",
    "<br />Построим гистограммы распределенией train и test, нормализовав данные"
   ]
  },
  {
   "cell_type": "code",
   "execution_count": 43,
   "metadata": {
    "scrolled": true
   },
   "outputs": [
    {
     "data": {
      "image/png": "[encoded data removed]",
      "text/plain": [
       "<Figure size 640x480 with 1 Axes>"
      ]
     },
     "metadata": {},
     "output_type": "display_data"
    }
   ],
   "source": [
    "plt.hist(train['rougher.input.feed_size'], density=True, bins=50)\n",
    "plt.hist(test['rougher.input.feed_size'], density=True, bins=50, alpha=0.7);\n",
    "\n"
   ]
  },
  {
   "cell_type": "markdown",
   "metadata": {},
   "source": [
    "\n",
    "<div class=\"alert alert-info\">\n",
    "    <br /> \n",
    "    <font size=\"3\", color = \"black\">\n",
    "<br />\n",
    "        С помощью двухвыборочного критерия Колмогорова-Смирнова сравним выборки, что проверить их взяты ли они из одной выборки.\n",
    "\n",
    "* H0: разницы между выборками нет, взяты из одного распределения\n",
    "* H1: существенная разница между выборками есть, взяты из разных распределений"
   ]
  },
  {
   "cell_type": "code",
   "execution_count": 44,
   "metadata": {},
   "outputs": [],
   "source": [
    "from scipy.stats import ks_2samp"
   ]
  },
  {
   "cell_type": "code",
   "execution_count": 45,
   "metadata": {},
   "outputs": [
    {
     "data": {
      "text/plain": [
       "KstestResult(statistic=0.25086573982291493, pvalue=1.9479302284915763e-211, statistic_location=45.98429677187978, statistic_sign=-1)"
      ]
     },
     "execution_count": 45,
     "metadata": {},
     "output_type": "execute_result"
    }
   ],
   "source": [
    "ks_2samp(train['rougher.input.feed_size'], test['rougher.input.feed_size'])"
   ]
  },
  {
   "cell_type": "markdown",
   "metadata": {},
   "source": [
    "Мы видим, что pvalue < 0.05, следовательно мы отвергаем нулевую гипотезу. У нас есть достаточно доказательств, чтобы сказать, что два выборочных набора данных не происходят из одного распределения."
   ]
  },
  {
   "cell_type": "markdown",
   "metadata": {},
   "source": [
    "Изучим описательные статистики распределений:"
   ]
  },
  {
   "cell_type": "code",
   "execution_count": 46,
   "metadata": {},
   "outputs": [
    {
     "data": {
      "text/plain": [
       "count    13403.000000\n",
       "mean        59.056629\n",
       "std         15.194883\n",
       "min          9.659576\n",
       "25%         48.994399\n",
       "50%         55.422584\n",
       "75%         65.880153\n",
       "max        197.806748\n",
       "Name: rougher.input.feed_size, dtype: float64"
      ]
     },
     "execution_count": 46,
     "metadata": {},
     "output_type": "execute_result"
    }
   ],
   "source": [
    "train['rougher.input.feed_size'].describe()"
   ]
  },
  {
   "cell_type": "code",
   "execution_count": 47,
   "metadata": {},
   "outputs": [
    {
     "data": {
      "text/plain": [
       "count    5289.000000\n",
       "mean       55.951097\n",
       "std        19.081758\n",
       "min         0.046369\n",
       "25%        43.906347\n",
       "50%        50.841029\n",
       "75%        62.431047\n",
       "max       392.494040\n",
       "Name: rougher.input.feed_size, dtype: float64"
      ]
     },
     "execution_count": 47,
     "metadata": {},
     "output_type": "execute_result"
    }
   ],
   "source": [
    "test['rougher.input.feed_size'].describe()"
   ]
  },
  {
   "cell_type": "markdown",
   "metadata": {},
   "source": [
    "\n",
    "<div class=\"alert alert-info\">\n",
    "    <br /> \n",
    "    <font size=\"3\", color = \"black\">\n",
    "<br />\n",
    "        Видим разницу по стандратному отклонению на 4 единицы, а также среднее на 4 единицы. Несмотря на проведенный тест вверху, опираясь на экспертную оценку, могу сказать, что расхождение не должно привести к существенной деградации модели. Это называется дрифтом данных."
   ]
  },
  {
   "cell_type": "code",
   "execution_count": null,
   "metadata": {},
   "outputs": [],
   "source": []
  },
  {
   "cell_type": "markdown",
   "metadata": {},
   "source": [
    "### Концентрация металлов на различных этапах очистки"
   ]
  },
  {
   "cell_type": "markdown",
   "metadata": {},
   "source": [
    "Рассмотрим концентрацию металлов различных этапах очистки:\n"
   ]
  },
  {
   "cell_type": "markdown",
   "metadata": {},
   "source": [
    "\n",
    "<div class=\"alert alert-info\">\n",
    "    <br /> \n",
    "    <font size=\"3\", color = \"black\">\n",
    "<br />\n",
    "        Видим, что концентрация серебра с каждым последующим этапом снижается"
   ]
  },
  {
   "cell_type": "code",
   "execution_count": 48,
   "metadata": {},
   "outputs": [
    {
     "data": {
      "image/png": "[encoded data removed]",
      "text/plain": [
       "<Figure size 640x480 with 1 Axes>"
      ]
     },
     "metadata": {},
     "output_type": "display_data"
    }
   ],
   "source": [
    "\n",
    "\n",
    "full['rougher.input.feed_ag'].hist(bins=30, label='feed_ag', alpha=1)\n",
    "full['rougher.output.concentrate_ag'].hist(bins=30, label='output.concentrate_ag', alpha=0.7)\n",
    "full['primary_cleaner.output.concentrate_ag'].hist(bins=30, label='primary_cleaner', alpha=0.5)\n",
    "full['final.output.concentrate_ag'].hist(bins=30, label='final', alpha=1)\n",
    "plt.ylabel('Количество наблюдений')\n",
    "plt.title('Концентрация серебра на различных этапах')\n",
    "plt.xticks(rotation=45)\n",
    "plt.legend();"
   ]
  },
  {
   "cell_type": "markdown",
   "metadata": {},
   "source": [
    "\n",
    "<div class=\"alert alert-info\">\n",
    "    <br /> \n",
    "    <font size=\"3\", color = \"black\">\n",
    "<br />\n",
    "       \n",
    "Концентрация золота. Видим, что с каждым этапом концентрация золота растет!"
   ]
  },
  {
   "cell_type": "code",
   "execution_count": 49,
   "metadata": {},
   "outputs": [
    {
     "data": {
      "image/png": "[encoded data removed]",
      "text/plain": [
       "<Figure size 640x480 with 1 Axes>"
      ]
     },
     "metadata": {},
     "output_type": "display_data"
    }
   ],
   "source": [
    "\n",
    "full['rougher.input.feed_au'].hist(bins=30, label='feed_au', alpha=1)\n",
    "full['rougher.output.concentrate_au'].hist(bins=30, label='output.concentrate_au', alpha=0.7)\n",
    "full['primary_cleaner.output.concentrate_au'].hist(bins=30, label='primary_cleaner', alpha=0.5)\n",
    "full['final.output.concentrate_au'].hist(bins=30, label='final', alpha=1)\n",
    "plt.ylabel('Количество наблюдений')\n",
    "plt.title('Концентрация серебра на различных этапах')\n",
    "plt.xticks(rotation=45)\n",
    "plt.legend();"
   ]
  },
  {
   "cell_type": "markdown",
   "metadata": {},
   "source": [
    "\n",
    "<div class=\"alert alert-info\">\n",
    "    <br /> \n",
    "    <font size=\"3\", color = \"black\">\n",
    "<br />\n",
    "       \n",
    "Концентрация свинца. Видим, что с каждым этапом концентрация свинца растет, видимо это связано с химическими характеристиками и трудностью отделения свинца от золота на данных этапах."
   ]
  },
  {
   "cell_type": "code",
   "execution_count": 50,
   "metadata": {},
   "outputs": [
    {
     "data": {
      "image/png": "[encoded data removed]",
      "text/plain": [
       "<Figure size 640x480 with 1 Axes>"
      ]
     },
     "metadata": {},
     "output_type": "display_data"
    }
   ],
   "source": [
    "\n",
    "full['rougher.input.feed_pb'].hist(bins=30, label='feed_pb', alpha=1)\n",
    "full['rougher.output.concentrate_pb'].hist(bins=30, label='output.concentrate_pb', alpha=0.7)\n",
    "full['primary_cleaner.output.concentrate_pb'].hist(bins=30, label='primary_cleaner', alpha=0.5)\n",
    "full['final.output.concentrate_pb'].hist(bins=30, label='final', alpha=1)\n",
    "plt.ylabel('Количество наблюдений')\n",
    "plt.title('Концентрация серебра на различных этапах')\n",
    "plt.xticks(rotation=45)\n",
    "plt.legend();"
   ]
  },
  {
   "cell_type": "markdown",
   "metadata": {},
   "source": [
    "### Суммарная концентрация всех веществ на разных стадиях"
   ]
  },
  {
   "cell_type": "markdown",
   "metadata": {},
   "source": [
    "\n",
    "<div class=\"alert alert-info\">\n",
    "    <br /> \n",
    "    <font size=\"3\", color = \"black\">\n",
    "<br />\n",
    "       \n",
    "Посчитаем суммарные концентрации веществ на разных этапах"
   ]
  },
  {
   "cell_type": "code",
   "execution_count": 51,
   "metadata": {},
   "outputs": [],
   "source": [
    "full['rougher'] = full[['rougher.output.concentrate_ag',\n",
    "     'rougher.output.concentrate_au',\n",
    "     'rougher.output.concentrate_pb',\n",
    "     'rougher.output.concentrate_sol']].sum(axis='columns')"
   ]
  },
  {
   "cell_type": "code",
   "execution_count": 52,
   "metadata": {},
   "outputs": [],
   "source": [
    "full['primary_cleaner'] = full[[ 'primary_cleaner.output.concentrate_ag',\n",
    "     'primary_cleaner.output.concentrate_au',\n",
    "      'primary_cleaner.output.concentrate_pb',\n",
    "      'primary_cleaner.output.concentrate_sol']].sum(axis='columns')"
   ]
  },
  {
   "cell_type": "code",
   "execution_count": 53,
   "metadata": {},
   "outputs": [],
   "source": [
    "full['input_feed'] = full[['rougher.input.feed_ag',\n",
    "     'rougher.input.feed_au',\n",
    "     'rougher.input.feed_pb',\n",
    "     'rougher.input.feed_sol']].sum(axis='columns')"
   ]
  },
  {
   "cell_type": "code",
   "execution_count": 54,
   "metadata": {},
   "outputs": [],
   "source": [
    "full['final'] = full[['final.output.concentrate_ag',\n",
    "    'final.output.concentrate_au',\n",
    "     'final.output.concentrate_pb',\n",
    "     'final.output.concentrate_sol']].sum(axis='columns')"
   ]
  },
  {
   "cell_type": "markdown",
   "metadata": {},
   "source": [
    "\n",
    "<div class=\"alert alert-info\">\n",
    "    <br /> \n",
    "    <font size=\"3\", color = \"black\">\n",
    "<br />\n",
    "       \n",
    " Если рассмотреть распрделение без выбросов, то оно стремится к нормальному."
   ]
  },
  {
   "cell_type": "code",
   "execution_count": 55,
   "metadata": {},
   "outputs": [
    {
     "data": {
      "image/png": "[encoded data removed]",
      "text/plain": [
       "<Figure size 640x480 with 1 Axes>"
      ]
     },
     "metadata": {},
     "output_type": "display_data"
    }
   ],
   "source": [
    "full.query('input_feed>=10')['input_feed'].hist(bins=30)\n",
    "plt.ylabel('Количество наблюдений')\n",
    "plt.xlabel('Суммарная концентрация веществ ')\n",
    "plt.title('Распределение суммарной концентрации на сырье');"
   ]
  },
  {
   "cell_type": "markdown",
   "metadata": {},
   "source": [
    "\n",
    "<div class=\"alert alert-info\">\n",
    "    <br /> \n",
    "    <font size=\"3\", color = \"black\">\n",
    "<br />\n",
    "       \n",
    " Если рассмотреть распрделение без выбросов, то оно стремится к нормальному."
   ]
  },
  {
   "cell_type": "code",
   "execution_count": 56,
   "metadata": {},
   "outputs": [
    {
     "data": {
      "image/png": "[encoded data removed]",
      "text/plain": [
       "<Figure size 640x480 with 1 Axes>"
      ]
     },
     "metadata": {},
     "output_type": "display_data"
    }
   ],
   "source": [
    "full.query('rougher>=10')['rougher'].hist(bins=30)\n",
    "plt.ylabel('Количество наблюдений')\n",
    "plt.xlabel('Суммарная концентрация веществ')\n",
    "plt.title('Распределение суммарной концентрации на черновом концентрате');"
   ]
  },
  {
   "cell_type": "markdown",
   "metadata": {},
   "source": [
    "\n",
    "<font size=\"4\", color = \"black\"><b>✍ **Комментарий студента**</b></font>\n",
    "    <br /> \n",
    "    <font size=\"3\", color = \"black\">\n",
    "<br />\n",
    "       \n",
    "Если рассмотреть распрделение без выбросов, то оно стремится к нормальному."
   ]
  },
  {
   "cell_type": "code",
   "execution_count": 57,
   "metadata": {},
   "outputs": [
    {
     "data": {
      "image/png": "[encoded data removed]",
      "text/plain": [
       "<Figure size 640x480 with 1 Axes>"
      ]
     },
     "metadata": {},
     "output_type": "display_data"
    }
   ],
   "source": [
    "full.query('primary_cleaner>=10')['primary_cleaner'].hist(bins=30)\n",
    "plt.ylabel('Количество наблюдений')\n",
    "plt.xlabel('Суммарная концентрация веществ')\n",
    "plt.title('Распределение суммарной концентрации на первичной очистке');"
   ]
  },
  {
   "cell_type": "markdown",
   "metadata": {},
   "source": [
    "\n",
    "<div class=\"alert alert-info\">\n",
    "    <br /> \n",
    "    <font size=\"3\", color = \"black\">\n",
    "<br />\n",
    "       \n",
    "Как видим, на этапе сырья у нас есть выбросы в 0. Значит мы сделали верно, что на train удалили такой предельный случай. Если рассмотреть распрделение без выбросов, то оно стремится к нормальному."
   ]
  },
  {
   "cell_type": "code",
   "execution_count": 58,
   "metadata": {},
   "outputs": [
    {
     "data": {
      "image/png": "[encoded data removed]",
      "text/plain": [
       "<Figure size 640x480 with 1 Axes>"
      ]
     },
     "metadata": {},
     "output_type": "display_data"
    }
   ],
   "source": [
    "full.query('final>=10')['final'].hist(bins=30)\n",
    "plt.ylabel('Количество наблюдений')\n",
    "plt.xlabel('Суммарная концентрация веществ')\n",
    "plt.title('Распределение суммарной концентрации на выходе');"
   ]
  },
  {
   "cell_type": "markdown",
   "metadata": {},
   "source": [
    "### Признаковое пространство"
   ]
  },
  {
   "cell_type": "code",
   "execution_count": 59,
   "metadata": {},
   "outputs": [],
   "source": [
    "X = train.drop(['final.output.recovery', 'rougher.output.recovery'],axis=1).columns\n",
    "y_rougher = ['rougher.output.recovery']\n",
    "y_final = ['final.output.recovery']"
   ]
  },
  {
   "cell_type": "markdown",
   "metadata": {},
   "source": [
    "### Создаем свою метрику"
   ]
  },
  {
   "cell_type": "code",
   "execution_count": 60,
   "metadata": {},
   "outputs": [],
   "source": [
    "from sklearn.metrics import make_scorer"
   ]
  },
  {
   "cell_type": "code",
   "execution_count": 61,
   "metadata": {},
   "outputs": [],
   "source": [
    "def smape(target, predict):\n",
    "    target = target.values\n",
    "    sMAPE = np.mean((abs(target - predict))/((abs(target) + abs(predict))/2))*100\n",
    "    return sMAPE"
   ]
  },
  {
   "cell_type": "code",
   "execution_count": 62,
   "metadata": {},
   "outputs": [],
   "source": [
    "sMAPE = make_scorer(smape, greater_is_better=False)"
   ]
  },
  {
   "cell_type": "code",
   "execution_count": 63,
   "metadata": {},
   "outputs": [],
   "source": [
    "def final_smape(smape_rougher, smape_final):\n",
    "    return print(f'Итоговый sMAPE: {(0.25*(smape_rougher) + 0.75*(smape_final))}')"
   ]
  },
  {
   "cell_type": "markdown",
   "metadata": {},
   "source": [
    "### Pipeline"
   ]
  },
  {
   "cell_type": "markdown",
   "metadata": {},
   "source": [
    "\n",
    "<div class=\"alert alert-info\">\n",
    "    <br /> \n",
    "    <font size=\"3\", color = \"black\">\n",
    "<br />\n",
    "       \n",
    "Создадим pipeline во избежание утечки данных"
   ]
  },
  {
   "cell_type": "code",
   "execution_count": 64,
   "metadata": {},
   "outputs": [],
   "source": [
    "numeric_features = X"
   ]
  },
  {
   "cell_type": "code",
   "execution_count": 65,
   "metadata": {},
   "outputs": [],
   "source": [
    "numeric_transformer = Pipeline(steps=[\n",
    "    ('scaler', StandardScaler())])"
   ]
  },
  {
   "cell_type": "code",
   "execution_count": 66,
   "metadata": {},
   "outputs": [],
   "source": [
    "preprocessor = ColumnTransformer(\n",
    "    transformers=[\n",
    "        ('num', numeric_transformer, X)])"
   ]
  },
  {
   "cell_type": "code",
   "execution_count": 67,
   "metadata": {},
   "outputs": [
    {
     "data": {
      "text/html": [
       "<style>#sk-container-id-1 {color: black;background-color: white;}#sk-container-id-1 pre{padding: 0;}#sk-container-id-1 div.sk-toggleable {background-color: white;}#sk-container-id-1 label.sk-toggleable__label {cursor: pointer;display: block;width: 100%;margin-bottom: 0;padding: 0.3em;box-sizing: border-box;text-align: center;}#sk-container-id-1 label.sk-toggleable__label-arrow:before {content: \"▸\";float: left;margin-right: 0.25em;color: #696969;}#sk-container-id-1 label.sk-toggleable__label-arrow:hover:before {color: black;}#sk-container-id-1 div.sk-estimator:hover label.sk-toggleable__label-arrow:before {color: black;}#sk-container-id-1 div.sk-toggleable__content {max-height: 0;max-width: 0;overflow: hidden;text-align: left;background-color: #f0f8ff;}#sk-container-id-1 div.sk-toggleable__content pre {margin: 0.2em;color: black;border-radius: 0.25em;background-color: #f0f8ff;}#sk-container-id-1 input.sk-toggleable__control:checked~div.sk-toggleable__content {max-height: 200px;max-width: 100%;overflow: auto;}#sk-container-id-1 input.sk-toggleable__control:checked~label.sk-toggleable__label-arrow:before {content: \"▾\";}#sk-container-id-1 div.sk-estimator input.sk-toggleable__control:checked~label.sk-toggleable__label {background-color: #d4ebff;}#sk-container-id-1 div.sk-label input.sk-toggleable__control:checked~label.sk-toggleable__label {background-color: #d4ebff;}#sk-container-id-1 input.sk-hidden--visually {border: 0;clip: rect(1px 1px 1px 1px);clip: rect(1px, 1px, 1px, 1px);height: 1px;margin: -1px;overflow: hidden;padding: 0;position: absolute;width: 1px;}#sk-container-id-1 div.sk-estimator {font-family: monospace;background-color: #f0f8ff;border: 1px dotted black;border-radius: 0.25em;box-sizing: border-box;margin-bottom: 0.5em;}#sk-container-id-1 div.sk-estimator:hover {background-color: #d4ebff;}#sk-container-id-1 div.sk-parallel-item::after {content: \"\";width: 100%;border-bottom: 1px solid gray;flex-grow: 1;}#sk-container-id-1 div.sk-label:hover label.sk-toggleable__label {background-color: #d4ebff;}#sk-container-id-1 div.sk-serial::before {content: \"\";position: absolute;border-left: 1px solid gray;box-sizing: border-box;top: 0;bottom: 0;left: 50%;z-index: 0;}#sk-container-id-1 div.sk-serial {display: flex;flex-direction: column;align-items: center;background-color: white;padding-right: 0.2em;padding-left: 0.2em;position: relative;}#sk-container-id-1 div.sk-item {position: relative;z-index: 1;}#sk-container-id-1 div.sk-parallel {display: flex;align-items: stretch;justify-content: center;background-color: white;position: relative;}#sk-container-id-1 div.sk-item::before, #sk-container-id-1 div.sk-parallel-item::before {content: \"\";position: absolute;border-left: 1px solid gray;box-sizing: border-box;top: 0;bottom: 0;left: 50%;z-index: -1;}#sk-container-id-1 div.sk-parallel-item {display: flex;flex-direction: column;z-index: 1;position: relative;background-color: white;}#sk-container-id-1 div.sk-parallel-item:first-child::after {align-self: flex-end;width: 50%;}#sk-container-id-1 div.sk-parallel-item:last-child::after {align-self: flex-start;width: 50%;}#sk-container-id-1 div.sk-parallel-item:only-child::after {width: 0;}#sk-container-id-1 div.sk-dashed-wrapped {border: 1px dashed gray;margin: 0 0.4em 0.5em 0.4em;box-sizing: border-box;padding-bottom: 0.4em;background-color: white;}#sk-container-id-1 div.sk-label label {font-family: monospace;font-weight: bold;display: inline-block;line-height: 1.2em;}#sk-container-id-1 div.sk-label-container {text-align: center;}#sk-container-id-1 div.sk-container {/* jupyter's `normalize.less` sets `[hidden] { display: none; }` but bootstrap.min.css set `[hidden] { display: none !important; }` so we also need the `!important` here to be able to override the default hidden behavior on the sphinx rendered scikit-learn.org. See: https://github.com/scikit-learn/scikit-learn/issues/21755 */display: inline-block !important;position: relative;}#sk-container-id-1 div.sk-text-repr-fallback {display: none;}</style><div id=\"sk-container-id-1\" class=\"sk-top-container\"><div class=\"sk-text-repr-fallback\"><pre>Pipeline(steps=[(&#x27;imputer&#x27;, Imputer_ffill()),\n",
       "                (&#x27;preprocessor_feature&#x27;,\n",
       "                 ColumnTransformer(transformers=[(&#x27;num&#x27;,\n",
       "                                                  Pipeline(steps=[(&#x27;scaler&#x27;,\n",
       "                                                                   StandardScaler())]),\n",
       "                                                  Index([&#x27;primary_cleaner.input.sulfate&#x27;, &#x27;primary_cleaner.input.depressant&#x27;,\n",
       "       &#x27;primary_cleaner.input.feed_size&#x27;, &#x27;primary_cleaner.input.xanthate&#x27;,\n",
       "       &#x27;primary_cleaner.state.floatbank8_a_air&#x27;,\n",
       "       &#x27;primary_cleane...\n",
       "       &#x27;secondary_cleaner.state.floatbank4_b_level&#x27;,\n",
       "       &#x27;secondary_cleaner.state.floatbank5_a_air&#x27;,\n",
       "       &#x27;secondary_cleaner.state.floatbank5_a_level&#x27;,\n",
       "       &#x27;secondary_cleaner.state.floatbank5_b_air&#x27;,\n",
       "       &#x27;secondary_cleaner.state.floatbank5_b_level&#x27;,\n",
       "       &#x27;secondary_cleaner.state.floatbank6_a_air&#x27;,\n",
       "       &#x27;secondary_cleaner.state.floatbank6_a_level&#x27;],\n",
       "      dtype=&#x27;object&#x27;))])),\n",
       "                (&#x27;model&#x27;, DecisionTreeRegressor())])</pre><b>In a Jupyter environment, please rerun this cell to show the HTML representation or trust the notebook. <br />On GitHub, the HTML representation is unable to render, please try loading this page with nbviewer.org.</b></div><div class=\"sk-container\" hidden><div class=\"sk-item sk-dashed-wrapped\"><div class=\"sk-label-container\"><div class=\"sk-label sk-toggleable\"><input class=\"sk-toggleable__control sk-hidden--visually\" id=\"sk-estimator-id-1\" type=\"checkbox\" ><label for=\"sk-estimator-id-1\" class=\"sk-toggleable__label sk-toggleable__label-arrow\">Pipeline</label><div class=\"sk-toggleable__content\"><pre>Pipeline(steps=[(&#x27;imputer&#x27;, Imputer_ffill()),\n",
       "                (&#x27;preprocessor_feature&#x27;,\n",
       "                 ColumnTransformer(transformers=[(&#x27;num&#x27;,\n",
       "                                                  Pipeline(steps=[(&#x27;scaler&#x27;,\n",
       "                                                                   StandardScaler())]),\n",
       "                                                  Index([&#x27;primary_cleaner.input.sulfate&#x27;, &#x27;primary_cleaner.input.depressant&#x27;,\n",
       "       &#x27;primary_cleaner.input.feed_size&#x27;, &#x27;primary_cleaner.input.xanthate&#x27;,\n",
       "       &#x27;primary_cleaner.state.floatbank8_a_air&#x27;,\n",
       "       &#x27;primary_cleane...\n",
       "       &#x27;secondary_cleaner.state.floatbank4_b_level&#x27;,\n",
       "       &#x27;secondary_cleaner.state.floatbank5_a_air&#x27;,\n",
       "       &#x27;secondary_cleaner.state.floatbank5_a_level&#x27;,\n",
       "       &#x27;secondary_cleaner.state.floatbank5_b_air&#x27;,\n",
       "       &#x27;secondary_cleaner.state.floatbank5_b_level&#x27;,\n",
       "       &#x27;secondary_cleaner.state.floatbank6_a_air&#x27;,\n",
       "       &#x27;secondary_cleaner.state.floatbank6_a_level&#x27;],\n",
       "      dtype=&#x27;object&#x27;))])),\n",
       "                (&#x27;model&#x27;, DecisionTreeRegressor())])</pre></div></div></div><div class=\"sk-serial\"><div class=\"sk-item\"><div class=\"sk-estimator sk-toggleable\"><input class=\"sk-toggleable__control sk-hidden--visually\" id=\"sk-estimator-id-2\" type=\"checkbox\" ><label for=\"sk-estimator-id-2\" class=\"sk-toggleable__label sk-toggleable__label-arrow\">Imputer_ffill</label><div class=\"sk-toggleable__content\"><pre>Imputer_ffill()</pre></div></div></div><div class=\"sk-item sk-dashed-wrapped\"><div class=\"sk-label-container\"><div class=\"sk-label sk-toggleable\"><input class=\"sk-toggleable__control sk-hidden--visually\" id=\"sk-estimator-id-3\" type=\"checkbox\" ><label for=\"sk-estimator-id-3\" class=\"sk-toggleable__label sk-toggleable__label-arrow\">preprocessor_feature: ColumnTransformer</label><div class=\"sk-toggleable__content\"><pre>ColumnTransformer(transformers=[(&#x27;num&#x27;,\n",
       "                                 Pipeline(steps=[(&#x27;scaler&#x27;, StandardScaler())]),\n",
       "                                 Index([&#x27;primary_cleaner.input.sulfate&#x27;, &#x27;primary_cleaner.input.depressant&#x27;,\n",
       "       &#x27;primary_cleaner.input.feed_size&#x27;, &#x27;primary_cleaner.input.xanthate&#x27;,\n",
       "       &#x27;primary_cleaner.state.floatbank8_a_air&#x27;,\n",
       "       &#x27;primary_cleaner.state.floatbank8_a_level&#x27;,\n",
       "       &#x27;primary_cleaner.state.floatbank8_b_air&#x27;...\n",
       "       &#x27;secondary_cleaner.state.floatbank4_b_air&#x27;,\n",
       "       &#x27;secondary_cleaner.state.floatbank4_b_level&#x27;,\n",
       "       &#x27;secondary_cleaner.state.floatbank5_a_air&#x27;,\n",
       "       &#x27;secondary_cleaner.state.floatbank5_a_level&#x27;,\n",
       "       &#x27;secondary_cleaner.state.floatbank5_b_air&#x27;,\n",
       "       &#x27;secondary_cleaner.state.floatbank5_b_level&#x27;,\n",
       "       &#x27;secondary_cleaner.state.floatbank6_a_air&#x27;,\n",
       "       &#x27;secondary_cleaner.state.floatbank6_a_level&#x27;],\n",
       "      dtype=&#x27;object&#x27;))])</pre></div></div></div><div class=\"sk-parallel\"><div class=\"sk-parallel-item\"><div class=\"sk-item\"><div class=\"sk-label-container\"><div class=\"sk-label sk-toggleable\"><input class=\"sk-toggleable__control sk-hidden--visually\" id=\"sk-estimator-id-4\" type=\"checkbox\" ><label for=\"sk-estimator-id-4\" class=\"sk-toggleable__label sk-toggleable__label-arrow\">num</label><div class=\"sk-toggleable__content\"><pre>Index([&#x27;primary_cleaner.input.sulfate&#x27;, &#x27;primary_cleaner.input.depressant&#x27;,\n",
       "       &#x27;primary_cleaner.input.feed_size&#x27;, &#x27;primary_cleaner.input.xanthate&#x27;,\n",
       "       &#x27;primary_cleaner.state.floatbank8_a_air&#x27;,\n",
       "       &#x27;primary_cleaner.state.floatbank8_a_level&#x27;,\n",
       "       &#x27;primary_cleaner.state.floatbank8_b_air&#x27;,\n",
       "       &#x27;primary_cleaner.state.floatbank8_b_level&#x27;,\n",
       "       &#x27;primary_cleaner.state.floatbank8_c_air&#x27;,\n",
       "       &#x27;primary_cleaner.state.floatbank8_c_level&#x27;,\n",
       "       &#x27;primary_cleaner.state.floatbank8_d_air&#x27;,\n",
       "       &#x27;primary_cleaner.state.floatbank8_d_level&#x27;, &#x27;rougher.input.feed_ag&#x27;,\n",
       "       &#x27;rougher.input.feed_pb&#x27;, &#x27;rougher.input.feed_rate&#x27;,\n",
       "       &#x27;rougher.input.feed_size&#x27;, &#x27;rougher.input.feed_sol&#x27;,\n",
       "       &#x27;rougher.input.feed_au&#x27;, &#x27;rougher.input.floatbank10_sulfate&#x27;,\n",
       "       &#x27;rougher.input.floatbank10_xanthate&#x27;,\n",
       "       &#x27;rougher.input.floatbank11_sulfate&#x27;,\n",
       "       &#x27;rougher.input.floatbank11_xanthate&#x27;, &#x27;rougher.state.floatbank10_a_air&#x27;,\n",
       "       &#x27;rougher.state.floatbank10_a_level&#x27;, &#x27;rougher.state.floatbank10_b_air&#x27;,\n",
       "       &#x27;rougher.state.floatbank10_b_level&#x27;, &#x27;rougher.state.floatbank10_c_air&#x27;,\n",
       "       &#x27;rougher.state.floatbank10_c_level&#x27;, &#x27;rougher.state.floatbank10_d_air&#x27;,\n",
       "       &#x27;rougher.state.floatbank10_d_level&#x27;, &#x27;rougher.state.floatbank10_e_air&#x27;,\n",
       "       &#x27;rougher.state.floatbank10_e_level&#x27;, &#x27;rougher.state.floatbank10_f_air&#x27;,\n",
       "       &#x27;rougher.state.floatbank10_f_level&#x27;,\n",
       "       &#x27;secondary_cleaner.state.floatbank2_a_air&#x27;,\n",
       "       &#x27;secondary_cleaner.state.floatbank2_a_level&#x27;,\n",
       "       &#x27;secondary_cleaner.state.floatbank2_b_air&#x27;,\n",
       "       &#x27;secondary_cleaner.state.floatbank2_b_level&#x27;,\n",
       "       &#x27;secondary_cleaner.state.floatbank3_a_air&#x27;,\n",
       "       &#x27;secondary_cleaner.state.floatbank3_a_level&#x27;,\n",
       "       &#x27;secondary_cleaner.state.floatbank3_b_air&#x27;,\n",
       "       &#x27;secondary_cleaner.state.floatbank3_b_level&#x27;,\n",
       "       &#x27;secondary_cleaner.state.floatbank4_a_air&#x27;,\n",
       "       &#x27;secondary_cleaner.state.floatbank4_a_level&#x27;,\n",
       "       &#x27;secondary_cleaner.state.floatbank4_b_air&#x27;,\n",
       "       &#x27;secondary_cleaner.state.floatbank4_b_level&#x27;,\n",
       "       &#x27;secondary_cleaner.state.floatbank5_a_air&#x27;,\n",
       "       &#x27;secondary_cleaner.state.floatbank5_a_level&#x27;,\n",
       "       &#x27;secondary_cleaner.state.floatbank5_b_air&#x27;,\n",
       "       &#x27;secondary_cleaner.state.floatbank5_b_level&#x27;,\n",
       "       &#x27;secondary_cleaner.state.floatbank6_a_air&#x27;,\n",
       "       &#x27;secondary_cleaner.state.floatbank6_a_level&#x27;],\n",
       "      dtype=&#x27;object&#x27;)</pre></div></div></div><div class=\"sk-serial\"><div class=\"sk-item\"><div class=\"sk-serial\"><div class=\"sk-item\"><div class=\"sk-estimator sk-toggleable\"><input class=\"sk-toggleable__control sk-hidden--visually\" id=\"sk-estimator-id-5\" type=\"checkbox\" ><label for=\"sk-estimator-id-5\" class=\"sk-toggleable__label sk-toggleable__label-arrow\">StandardScaler</label><div class=\"sk-toggleable__content\"><pre>StandardScaler()</pre></div></div></div></div></div></div></div></div></div></div><div class=\"sk-item\"><div class=\"sk-estimator sk-toggleable\"><input class=\"sk-toggleable__control sk-hidden--visually\" id=\"sk-estimator-id-6\" type=\"checkbox\" ><label for=\"sk-estimator-id-6\" class=\"sk-toggleable__label sk-toggleable__label-arrow\">DecisionTreeRegressor</label><div class=\"sk-toggleable__content\"><pre>DecisionTreeRegressor()</pre></div></div></div></div></div></div></div>"
      ],
      "text/plain": [
       "Pipeline(steps=[('imputer', Imputer_ffill()),\n",
       "                ('preprocessor_feature',\n",
       "                 ColumnTransformer(transformers=[('num',\n",
       "                                                  Pipeline(steps=[('scaler',\n",
       "                                                                   StandardScaler())]),\n",
       "                                                  Index(['primary_cleaner.input.sulfate', 'primary_cleaner.input.depressant',\n",
       "       'primary_cleaner.input.feed_size', 'primary_cleaner.input.xanthate',\n",
       "       'primary_cleaner.state.floatbank8_a_air',\n",
       "       'primary_cleane...\n",
       "       'secondary_cleaner.state.floatbank4_b_level',\n",
       "       'secondary_cleaner.state.floatbank5_a_air',\n",
       "       'secondary_cleaner.state.floatbank5_a_level',\n",
       "       'secondary_cleaner.state.floatbank5_b_air',\n",
       "       'secondary_cleaner.state.floatbank5_b_level',\n",
       "       'secondary_cleaner.state.floatbank6_a_air',\n",
       "       'secondary_cleaner.state.floatbank6_a_level'],\n",
       "      dtype='object'))])),\n",
       "                ('model', DecisionTreeRegressor())])"
      ]
     },
     "execution_count": 67,
     "metadata": {},
     "output_type": "execute_result"
    }
   ],
   "source": [
    "pipe = Pipeline(steps=[\n",
    "    ('imputer', Imputer_ffill()),\n",
    "    ('preprocessor_feature', preprocessor),\n",
    "    ('model', DecisionTreeRegressor())\n",
    "    \n",
    "])\n",
    "\n",
    "pipe"
   ]
  },
  {
   "cell_type": "code",
   "execution_count": 68,
   "metadata": {},
   "outputs": [
    {
     "data": {
      "text/html": [
       "<style>#sk-container-id-2 {color: black;background-color: white;}#sk-container-id-2 pre{padding: 0;}#sk-container-id-2 div.sk-toggleable {background-color: white;}#sk-container-id-2 label.sk-toggleable__label {cursor: pointer;display: block;width: 100%;margin-bottom: 0;padding: 0.3em;box-sizing: border-box;text-align: center;}#sk-container-id-2 label.sk-toggleable__label-arrow:before {content: \"▸\";float: left;margin-right: 0.25em;color: #696969;}#sk-container-id-2 label.sk-toggleable__label-arrow:hover:before {color: black;}#sk-container-id-2 div.sk-estimator:hover label.sk-toggleable__label-arrow:before {color: black;}#sk-container-id-2 div.sk-toggleable__content {max-height: 0;max-width: 0;overflow: hidden;text-align: left;background-color: #f0f8ff;}#sk-container-id-2 div.sk-toggleable__content pre {margin: 0.2em;color: black;border-radius: 0.25em;background-color: #f0f8ff;}#sk-container-id-2 input.sk-toggleable__control:checked~div.sk-toggleable__content {max-height: 200px;max-width: 100%;overflow: auto;}#sk-container-id-2 input.sk-toggleable__control:checked~label.sk-toggleable__label-arrow:before {content: \"▾\";}#sk-container-id-2 div.sk-estimator input.sk-toggleable__control:checked~label.sk-toggleable__label {background-color: #d4ebff;}#sk-container-id-2 div.sk-label input.sk-toggleable__control:checked~label.sk-toggleable__label {background-color: #d4ebff;}#sk-container-id-2 input.sk-hidden--visually {border: 0;clip: rect(1px 1px 1px 1px);clip: rect(1px, 1px, 1px, 1px);height: 1px;margin: -1px;overflow: hidden;padding: 0;position: absolute;width: 1px;}#sk-container-id-2 div.sk-estimator {font-family: monospace;background-color: #f0f8ff;border: 1px dotted black;border-radius: 0.25em;box-sizing: border-box;margin-bottom: 0.5em;}#sk-container-id-2 div.sk-estimator:hover {background-color: #d4ebff;}#sk-container-id-2 div.sk-parallel-item::after {content: \"\";width: 100%;border-bottom: 1px solid gray;flex-grow: 1;}#sk-container-id-2 div.sk-label:hover label.sk-toggleable__label {background-color: #d4ebff;}#sk-container-id-2 div.sk-serial::before {content: \"\";position: absolute;border-left: 1px solid gray;box-sizing: border-box;top: 0;bottom: 0;left: 50%;z-index: 0;}#sk-container-id-2 div.sk-serial {display: flex;flex-direction: column;align-items: center;background-color: white;padding-right: 0.2em;padding-left: 0.2em;position: relative;}#sk-container-id-2 div.sk-item {position: relative;z-index: 1;}#sk-container-id-2 div.sk-parallel {display: flex;align-items: stretch;justify-content: center;background-color: white;position: relative;}#sk-container-id-2 div.sk-item::before, #sk-container-id-2 div.sk-parallel-item::before {content: \"\";position: absolute;border-left: 1px solid gray;box-sizing: border-box;top: 0;bottom: 0;left: 50%;z-index: -1;}#sk-container-id-2 div.sk-parallel-item {display: flex;flex-direction: column;z-index: 1;position: relative;background-color: white;}#sk-container-id-2 div.sk-parallel-item:first-child::after {align-self: flex-end;width: 50%;}#sk-container-id-2 div.sk-parallel-item:last-child::after {align-self: flex-start;width: 50%;}#sk-container-id-2 div.sk-parallel-item:only-child::after {width: 0;}#sk-container-id-2 div.sk-dashed-wrapped {border: 1px dashed gray;margin: 0 0.4em 0.5em 0.4em;box-sizing: border-box;padding-bottom: 0.4em;background-color: white;}#sk-container-id-2 div.sk-label label {font-family: monospace;font-weight: bold;display: inline-block;line-height: 1.2em;}#sk-container-id-2 div.sk-label-container {text-align: center;}#sk-container-id-2 div.sk-container {/* jupyter's `normalize.less` sets `[hidden] { display: none; }` but bootstrap.min.css set `[hidden] { display: none !important; }` so we also need the `!important` here to be able to override the default hidden behavior on the sphinx rendered scikit-learn.org. See: https://github.com/scikit-learn/scikit-learn/issues/21755 */display: inline-block !important;position: relative;}#sk-container-id-2 div.sk-text-repr-fallback {display: none;}</style><div id=\"sk-container-id-2\" class=\"sk-top-container\"><div class=\"sk-text-repr-fallback\"><pre>Pipeline(steps=[(&#x27;imputer&#x27;, Imputer_ffill()),\n",
       "                (&#x27;preprocessor_feature&#x27;,\n",
       "                 ColumnTransformer(transformers=[(&#x27;num&#x27;,\n",
       "                                                  Pipeline(steps=[(&#x27;scaler&#x27;,\n",
       "                                                                   StandardScaler())]),\n",
       "                                                  Index([&#x27;primary_cleaner.input.sulfate&#x27;, &#x27;primary_cleaner.input.depressant&#x27;,\n",
       "       &#x27;primary_cleaner.input.feed_size&#x27;, &#x27;primary_cleaner.input.xanthate&#x27;,\n",
       "       &#x27;primary_cleaner.state.floatbank8_a_air&#x27;,\n",
       "       &#x27;primary_cleane...\n",
       "       &#x27;secondary_cleaner.state.floatbank4_b_level&#x27;,\n",
       "       &#x27;secondary_cleaner.state.floatbank5_a_air&#x27;,\n",
       "       &#x27;secondary_cleaner.state.floatbank5_a_level&#x27;,\n",
       "       &#x27;secondary_cleaner.state.floatbank5_b_air&#x27;,\n",
       "       &#x27;secondary_cleaner.state.floatbank5_b_level&#x27;,\n",
       "       &#x27;secondary_cleaner.state.floatbank6_a_air&#x27;,\n",
       "       &#x27;secondary_cleaner.state.floatbank6_a_level&#x27;],\n",
       "      dtype=&#x27;object&#x27;))])),\n",
       "                (&#x27;model&#x27;, DecisionTreeRegressor())])</pre><b>In a Jupyter environment, please rerun this cell to show the HTML representation or trust the notebook. <br />On GitHub, the HTML representation is unable to render, please try loading this page with nbviewer.org.</b></div><div class=\"sk-container\" hidden><div class=\"sk-item sk-dashed-wrapped\"><div class=\"sk-label-container\"><div class=\"sk-label sk-toggleable\"><input class=\"sk-toggleable__control sk-hidden--visually\" id=\"sk-estimator-id-7\" type=\"checkbox\" ><label for=\"sk-estimator-id-7\" class=\"sk-toggleable__label sk-toggleable__label-arrow\">Pipeline</label><div class=\"sk-toggleable__content\"><pre>Pipeline(steps=[(&#x27;imputer&#x27;, Imputer_ffill()),\n",
       "                (&#x27;preprocessor_feature&#x27;,\n",
       "                 ColumnTransformer(transformers=[(&#x27;num&#x27;,\n",
       "                                                  Pipeline(steps=[(&#x27;scaler&#x27;,\n",
       "                                                                   StandardScaler())]),\n",
       "                                                  Index([&#x27;primary_cleaner.input.sulfate&#x27;, &#x27;primary_cleaner.input.depressant&#x27;,\n",
       "       &#x27;primary_cleaner.input.feed_size&#x27;, &#x27;primary_cleaner.input.xanthate&#x27;,\n",
       "       &#x27;primary_cleaner.state.floatbank8_a_air&#x27;,\n",
       "       &#x27;primary_cleane...\n",
       "       &#x27;secondary_cleaner.state.floatbank4_b_level&#x27;,\n",
       "       &#x27;secondary_cleaner.state.floatbank5_a_air&#x27;,\n",
       "       &#x27;secondary_cleaner.state.floatbank5_a_level&#x27;,\n",
       "       &#x27;secondary_cleaner.state.floatbank5_b_air&#x27;,\n",
       "       &#x27;secondary_cleaner.state.floatbank5_b_level&#x27;,\n",
       "       &#x27;secondary_cleaner.state.floatbank6_a_air&#x27;,\n",
       "       &#x27;secondary_cleaner.state.floatbank6_a_level&#x27;],\n",
       "      dtype=&#x27;object&#x27;))])),\n",
       "                (&#x27;model&#x27;, DecisionTreeRegressor())])</pre></div></div></div><div class=\"sk-serial\"><div class=\"sk-item\"><div class=\"sk-estimator sk-toggleable\"><input class=\"sk-toggleable__control sk-hidden--visually\" id=\"sk-estimator-id-8\" type=\"checkbox\" ><label for=\"sk-estimator-id-8\" class=\"sk-toggleable__label sk-toggleable__label-arrow\">Imputer_ffill</label><div class=\"sk-toggleable__content\"><pre>Imputer_ffill()</pre></div></div></div><div class=\"sk-item sk-dashed-wrapped\"><div class=\"sk-label-container\"><div class=\"sk-label sk-toggleable\"><input class=\"sk-toggleable__control sk-hidden--visually\" id=\"sk-estimator-id-9\" type=\"checkbox\" ><label for=\"sk-estimator-id-9\" class=\"sk-toggleable__label sk-toggleable__label-arrow\">preprocessor_feature: ColumnTransformer</label><div class=\"sk-toggleable__content\"><pre>ColumnTransformer(transformers=[(&#x27;num&#x27;,\n",
       "                                 Pipeline(steps=[(&#x27;scaler&#x27;, StandardScaler())]),\n",
       "                                 Index([&#x27;primary_cleaner.input.sulfate&#x27;, &#x27;primary_cleaner.input.depressant&#x27;,\n",
       "       &#x27;primary_cleaner.input.feed_size&#x27;, &#x27;primary_cleaner.input.xanthate&#x27;,\n",
       "       &#x27;primary_cleaner.state.floatbank8_a_air&#x27;,\n",
       "       &#x27;primary_cleaner.state.floatbank8_a_level&#x27;,\n",
       "       &#x27;primary_cleaner.state.floatbank8_b_air&#x27;...\n",
       "       &#x27;secondary_cleaner.state.floatbank4_b_air&#x27;,\n",
       "       &#x27;secondary_cleaner.state.floatbank4_b_level&#x27;,\n",
       "       &#x27;secondary_cleaner.state.floatbank5_a_air&#x27;,\n",
       "       &#x27;secondary_cleaner.state.floatbank5_a_level&#x27;,\n",
       "       &#x27;secondary_cleaner.state.floatbank5_b_air&#x27;,\n",
       "       &#x27;secondary_cleaner.state.floatbank5_b_level&#x27;,\n",
       "       &#x27;secondary_cleaner.state.floatbank6_a_air&#x27;,\n",
       "       &#x27;secondary_cleaner.state.floatbank6_a_level&#x27;],\n",
       "      dtype=&#x27;object&#x27;))])</pre></div></div></div><div class=\"sk-parallel\"><div class=\"sk-parallel-item\"><div class=\"sk-item\"><div class=\"sk-label-container\"><div class=\"sk-label sk-toggleable\"><input class=\"sk-toggleable__control sk-hidden--visually\" id=\"sk-estimator-id-10\" type=\"checkbox\" ><label for=\"sk-estimator-id-10\" class=\"sk-toggleable__label sk-toggleable__label-arrow\">num</label><div class=\"sk-toggleable__content\"><pre>Index([&#x27;primary_cleaner.input.sulfate&#x27;, &#x27;primary_cleaner.input.depressant&#x27;,\n",
       "       &#x27;primary_cleaner.input.feed_size&#x27;, &#x27;primary_cleaner.input.xanthate&#x27;,\n",
       "       &#x27;primary_cleaner.state.floatbank8_a_air&#x27;,\n",
       "       &#x27;primary_cleaner.state.floatbank8_a_level&#x27;,\n",
       "       &#x27;primary_cleaner.state.floatbank8_b_air&#x27;,\n",
       "       &#x27;primary_cleaner.state.floatbank8_b_level&#x27;,\n",
       "       &#x27;primary_cleaner.state.floatbank8_c_air&#x27;,\n",
       "       &#x27;primary_cleaner.state.floatbank8_c_level&#x27;,\n",
       "       &#x27;primary_cleaner.state.floatbank8_d_air&#x27;,\n",
       "       &#x27;primary_cleaner.state.floatbank8_d_level&#x27;, &#x27;rougher.input.feed_ag&#x27;,\n",
       "       &#x27;rougher.input.feed_pb&#x27;, &#x27;rougher.input.feed_rate&#x27;,\n",
       "       &#x27;rougher.input.feed_size&#x27;, &#x27;rougher.input.feed_sol&#x27;,\n",
       "       &#x27;rougher.input.feed_au&#x27;, &#x27;rougher.input.floatbank10_sulfate&#x27;,\n",
       "       &#x27;rougher.input.floatbank10_xanthate&#x27;,\n",
       "       &#x27;rougher.input.floatbank11_sulfate&#x27;,\n",
       "       &#x27;rougher.input.floatbank11_xanthate&#x27;, &#x27;rougher.state.floatbank10_a_air&#x27;,\n",
       "       &#x27;rougher.state.floatbank10_a_level&#x27;, &#x27;rougher.state.floatbank10_b_air&#x27;,\n",
       "       &#x27;rougher.state.floatbank10_b_level&#x27;, &#x27;rougher.state.floatbank10_c_air&#x27;,\n",
       "       &#x27;rougher.state.floatbank10_c_level&#x27;, &#x27;rougher.state.floatbank10_d_air&#x27;,\n",
       "       &#x27;rougher.state.floatbank10_d_level&#x27;, &#x27;rougher.state.floatbank10_e_air&#x27;,\n",
       "       &#x27;rougher.state.floatbank10_e_level&#x27;, &#x27;rougher.state.floatbank10_f_air&#x27;,\n",
       "       &#x27;rougher.state.floatbank10_f_level&#x27;,\n",
       "       &#x27;secondary_cleaner.state.floatbank2_a_air&#x27;,\n",
       "       &#x27;secondary_cleaner.state.floatbank2_a_level&#x27;,\n",
       "       &#x27;secondary_cleaner.state.floatbank2_b_air&#x27;,\n",
       "       &#x27;secondary_cleaner.state.floatbank2_b_level&#x27;,\n",
       "       &#x27;secondary_cleaner.state.floatbank3_a_air&#x27;,\n",
       "       &#x27;secondary_cleaner.state.floatbank3_a_level&#x27;,\n",
       "       &#x27;secondary_cleaner.state.floatbank3_b_air&#x27;,\n",
       "       &#x27;secondary_cleaner.state.floatbank3_b_level&#x27;,\n",
       "       &#x27;secondary_cleaner.state.floatbank4_a_air&#x27;,\n",
       "       &#x27;secondary_cleaner.state.floatbank4_a_level&#x27;,\n",
       "       &#x27;secondary_cleaner.state.floatbank4_b_air&#x27;,\n",
       "       &#x27;secondary_cleaner.state.floatbank4_b_level&#x27;,\n",
       "       &#x27;secondary_cleaner.state.floatbank5_a_air&#x27;,\n",
       "       &#x27;secondary_cleaner.state.floatbank5_a_level&#x27;,\n",
       "       &#x27;secondary_cleaner.state.floatbank5_b_air&#x27;,\n",
       "       &#x27;secondary_cleaner.state.floatbank5_b_level&#x27;,\n",
       "       &#x27;secondary_cleaner.state.floatbank6_a_air&#x27;,\n",
       "       &#x27;secondary_cleaner.state.floatbank6_a_level&#x27;],\n",
       "      dtype=&#x27;object&#x27;)</pre></div></div></div><div class=\"sk-serial\"><div class=\"sk-item\"><div class=\"sk-serial\"><div class=\"sk-item\"><div class=\"sk-estimator sk-toggleable\"><input class=\"sk-toggleable__control sk-hidden--visually\" id=\"sk-estimator-id-11\" type=\"checkbox\" ><label for=\"sk-estimator-id-11\" class=\"sk-toggleable__label sk-toggleable__label-arrow\">StandardScaler</label><div class=\"sk-toggleable__content\"><pre>StandardScaler()</pre></div></div></div></div></div></div></div></div></div></div><div class=\"sk-item\"><div class=\"sk-estimator sk-toggleable\"><input class=\"sk-toggleable__control sk-hidden--visually\" id=\"sk-estimator-id-12\" type=\"checkbox\" ><label for=\"sk-estimator-id-12\" class=\"sk-toggleable__label sk-toggleable__label-arrow\">DecisionTreeRegressor</label><div class=\"sk-toggleable__content\"><pre>DecisionTreeRegressor()</pre></div></div></div></div></div></div></div>"
      ],
      "text/plain": [
       "Pipeline(steps=[('imputer', Imputer_ffill()),\n",
       "                ('preprocessor_feature',\n",
       "                 ColumnTransformer(transformers=[('num',\n",
       "                                                  Pipeline(steps=[('scaler',\n",
       "                                                                   StandardScaler())]),\n",
       "                                                  Index(['primary_cleaner.input.sulfate', 'primary_cleaner.input.depressant',\n",
       "       'primary_cleaner.input.feed_size', 'primary_cleaner.input.xanthate',\n",
       "       'primary_cleaner.state.floatbank8_a_air',\n",
       "       'primary_cleane...\n",
       "       'secondary_cleaner.state.floatbank4_b_level',\n",
       "       'secondary_cleaner.state.floatbank5_a_air',\n",
       "       'secondary_cleaner.state.floatbank5_a_level',\n",
       "       'secondary_cleaner.state.floatbank5_b_air',\n",
       "       'secondary_cleaner.state.floatbank5_b_level',\n",
       "       'secondary_cleaner.state.floatbank6_a_air',\n",
       "       'secondary_cleaner.state.floatbank6_a_level'],\n",
       "      dtype='object'))])),\n",
       "                ('model', DecisionTreeRegressor())])"
      ]
     },
     "execution_count": 68,
     "metadata": {},
     "output_type": "execute_result"
    }
   ],
   "source": [
    "\n",
    "set_config(display='diagram')   \n",
    "\n",
    "pipe"
   ]
  },
  {
   "cell_type": "markdown",
   "metadata": {},
   "source": [
    "### Baseline"
   ]
  },
  {
   "cell_type": "markdown",
   "metadata": {},
   "source": [
    "\n",
    "<div class=\"alert alert-info\">\n",
    "    <br /> \n",
    "    <font size=\"3\", color = \"black\">\n",
    "<br />\n",
    "       \n",
    "Хотел реализовать свой трансформер по удалению выбросов на фолдах, но видимо, на практике такое не применяют"
   ]
  },
  {
   "cell_type": "code",
   "execution_count": 69,
   "metadata": {},
   "outputs": [],
   "source": [
    "# class Outliers_Feed_Size(BaseEstimator, TransformerMixin):\n",
    "    \n",
    "    \n",
    "#     def __init__(self):\n",
    "#         pass\n",
    "    \n",
    "#     def fit(self, X, y=None):\n",
    "#         data = X\n",
    "        \n",
    "#         # удаляю наблюдения, где сумма концентраций вначале == 0\n",
    "#         tail = data[['rougher.input.feed_pb',\n",
    "#                   'rougher.input.feed_au',\n",
    "#                   'rougher.input.feed_sol',\n",
    "#                     'rougher.input.feed_ag']]\\\n",
    "#                   .sum(axis='columns').to_frame()\n",
    "        \n",
    "#         data = data.drop(index=tail[tail[0] == 0].index, axis=1)\n",
    "        \n",
    "# #         #  выбросы для размера сырья\n",
    "#         data = data.drop(index=data[data['rougher.input.feed_size'] >= 150].index, axis=1)\n",
    "#         return data\n",
    "    \n",
    "#     def fit_transform(self, X, y=None):\n",
    "#         data = X\n",
    "        \n",
    "#         # удаляю наблюдения, где сумма концентраций == 0\n",
    "#         tail = data[['rougher.input.feed_pb',\n",
    "#                   'rougher.input.feed_au',\n",
    "#                   'rougher.input.feed_sol',\n",
    "#                     'rougher.input.feed_ag']]\\\n",
    "#                   .sum(axis='columns').to_frame()\n",
    "        \n",
    "#         data = data.drop(index=tail[tail[0] == 0].index, axis=1)\n",
    "        \n",
    "#         #  выбросы для размера сырья\n",
    "#         data = data.drop(index=data[data['rougher.input.feed_size'] >= 150].index, axis=1)\n",
    "#         return data\n",
    "    \n",
    "#     def transform(self, X, y=None):\n",
    "#         return X\n",
    "\n",
    "        \n",
    "        \n",
    "        \n",
    "        "
   ]
  },
  {
   "cell_type": "code",
   "execution_count": 70,
   "metadata": {},
   "outputs": [],
   "source": [
    "numeric_transformer = Pipeline(steps=[\n",
    "    ('scaler', StandardScaler())])"
   ]
  },
  {
   "cell_type": "code",
   "execution_count": 71,
   "metadata": {},
   "outputs": [],
   "source": [
    "preprocessor = ColumnTransformer(\n",
    "    transformers=[\n",
    "        ('num', numeric_transformer, X)])"
   ]
  },
  {
   "cell_type": "code",
   "execution_count": 72,
   "metadata": {},
   "outputs": [
    {
     "data": {
      "text/html": [
       "<style>#sk-container-id-3 {color: black;background-color: white;}#sk-container-id-3 pre{padding: 0;}#sk-container-id-3 div.sk-toggleable {background-color: white;}#sk-container-id-3 label.sk-toggleable__label {cursor: pointer;display: block;width: 100%;margin-bottom: 0;padding: 0.3em;box-sizing: border-box;text-align: center;}#sk-container-id-3 label.sk-toggleable__label-arrow:before {content: \"▸\";float: left;margin-right: 0.25em;color: #696969;}#sk-container-id-3 label.sk-toggleable__label-arrow:hover:before {color: black;}#sk-container-id-3 div.sk-estimator:hover label.sk-toggleable__label-arrow:before {color: black;}#sk-container-id-3 div.sk-toggleable__content {max-height: 0;max-width: 0;overflow: hidden;text-align: left;background-color: #f0f8ff;}#sk-container-id-3 div.sk-toggleable__content pre {margin: 0.2em;color: black;border-radius: 0.25em;background-color: #f0f8ff;}#sk-container-id-3 input.sk-toggleable__control:checked~div.sk-toggleable__content {max-height: 200px;max-width: 100%;overflow: auto;}#sk-container-id-3 input.sk-toggleable__control:checked~label.sk-toggleable__label-arrow:before {content: \"▾\";}#sk-container-id-3 div.sk-estimator input.sk-toggleable__control:checked~label.sk-toggleable__label {background-color: #d4ebff;}#sk-container-id-3 div.sk-label input.sk-toggleable__control:checked~label.sk-toggleable__label {background-color: #d4ebff;}#sk-container-id-3 input.sk-hidden--visually {border: 0;clip: rect(1px 1px 1px 1px);clip: rect(1px, 1px, 1px, 1px);height: 1px;margin: -1px;overflow: hidden;padding: 0;position: absolute;width: 1px;}#sk-container-id-3 div.sk-estimator {font-family: monospace;background-color: #f0f8ff;border: 1px dotted black;border-radius: 0.25em;box-sizing: border-box;margin-bottom: 0.5em;}#sk-container-id-3 div.sk-estimator:hover {background-color: #d4ebff;}#sk-container-id-3 div.sk-parallel-item::after {content: \"\";width: 100%;border-bottom: 1px solid gray;flex-grow: 1;}#sk-container-id-3 div.sk-label:hover label.sk-toggleable__label {background-color: #d4ebff;}#sk-container-id-3 div.sk-serial::before {content: \"\";position: absolute;border-left: 1px solid gray;box-sizing: border-box;top: 0;bottom: 0;left: 50%;z-index: 0;}#sk-container-id-3 div.sk-serial {display: flex;flex-direction: column;align-items: center;background-color: white;padding-right: 0.2em;padding-left: 0.2em;position: relative;}#sk-container-id-3 div.sk-item {position: relative;z-index: 1;}#sk-container-id-3 div.sk-parallel {display: flex;align-items: stretch;justify-content: center;background-color: white;position: relative;}#sk-container-id-3 div.sk-item::before, #sk-container-id-3 div.sk-parallel-item::before {content: \"\";position: absolute;border-left: 1px solid gray;box-sizing: border-box;top: 0;bottom: 0;left: 50%;z-index: -1;}#sk-container-id-3 div.sk-parallel-item {display: flex;flex-direction: column;z-index: 1;position: relative;background-color: white;}#sk-container-id-3 div.sk-parallel-item:first-child::after {align-self: flex-end;width: 50%;}#sk-container-id-3 div.sk-parallel-item:last-child::after {align-self: flex-start;width: 50%;}#sk-container-id-3 div.sk-parallel-item:only-child::after {width: 0;}#sk-container-id-3 div.sk-dashed-wrapped {border: 1px dashed gray;margin: 0 0.4em 0.5em 0.4em;box-sizing: border-box;padding-bottom: 0.4em;background-color: white;}#sk-container-id-3 div.sk-label label {font-family: monospace;font-weight: bold;display: inline-block;line-height: 1.2em;}#sk-container-id-3 div.sk-label-container {text-align: center;}#sk-container-id-3 div.sk-container {/* jupyter's `normalize.less` sets `[hidden] { display: none; }` but bootstrap.min.css set `[hidden] { display: none !important; }` so we also need the `!important` here to be able to override the default hidden behavior on the sphinx rendered scikit-learn.org. See: https://github.com/scikit-learn/scikit-learn/issues/21755 */display: inline-block !important;position: relative;}#sk-container-id-3 div.sk-text-repr-fallback {display: none;}</style><div id=\"sk-container-id-3\" class=\"sk-top-container\"><div class=\"sk-text-repr-fallback\"><pre>Pipeline(steps=[(&#x27;imputer&#x27;, Imputer_ffill()),\n",
       "                (&#x27;preprocessor_feature&#x27;,\n",
       "                 ColumnTransformer(transformers=[(&#x27;num&#x27;,\n",
       "                                                  Pipeline(steps=[(&#x27;scaler&#x27;,\n",
       "                                                                   StandardScaler())]),\n",
       "                                                  Index([&#x27;primary_cleaner.input.sulfate&#x27;, &#x27;primary_cleaner.input.depressant&#x27;,\n",
       "       &#x27;primary_cleaner.input.feed_size&#x27;, &#x27;primary_cleaner.input.xanthate&#x27;,\n",
       "       &#x27;primary_cleaner.state.floatbank8_a_air&#x27;,\n",
       "       &#x27;primary_cleane...\n",
       "       &#x27;secondary_cleaner.state.floatbank4_b_level&#x27;,\n",
       "       &#x27;secondary_cleaner.state.floatbank5_a_air&#x27;,\n",
       "       &#x27;secondary_cleaner.state.floatbank5_a_level&#x27;,\n",
       "       &#x27;secondary_cleaner.state.floatbank5_b_air&#x27;,\n",
       "       &#x27;secondary_cleaner.state.floatbank5_b_level&#x27;,\n",
       "       &#x27;secondary_cleaner.state.floatbank6_a_air&#x27;,\n",
       "       &#x27;secondary_cleaner.state.floatbank6_a_level&#x27;],\n",
       "      dtype=&#x27;object&#x27;))])),\n",
       "                (&#x27;model&#x27;, DummyRegressor())])</pre><b>In a Jupyter environment, please rerun this cell to show the HTML representation or trust the notebook. <br />On GitHub, the HTML representation is unable to render, please try loading this page with nbviewer.org.</b></div><div class=\"sk-container\" hidden><div class=\"sk-item sk-dashed-wrapped\"><div class=\"sk-label-container\"><div class=\"sk-label sk-toggleable\"><input class=\"sk-toggleable__control sk-hidden--visually\" id=\"sk-estimator-id-13\" type=\"checkbox\" ><label for=\"sk-estimator-id-13\" class=\"sk-toggleable__label sk-toggleable__label-arrow\">Pipeline</label><div class=\"sk-toggleable__content\"><pre>Pipeline(steps=[(&#x27;imputer&#x27;, Imputer_ffill()),\n",
       "                (&#x27;preprocessor_feature&#x27;,\n",
       "                 ColumnTransformer(transformers=[(&#x27;num&#x27;,\n",
       "                                                  Pipeline(steps=[(&#x27;scaler&#x27;,\n",
       "                                                                   StandardScaler())]),\n",
       "                                                  Index([&#x27;primary_cleaner.input.sulfate&#x27;, &#x27;primary_cleaner.input.depressant&#x27;,\n",
       "       &#x27;primary_cleaner.input.feed_size&#x27;, &#x27;primary_cleaner.input.xanthate&#x27;,\n",
       "       &#x27;primary_cleaner.state.floatbank8_a_air&#x27;,\n",
       "       &#x27;primary_cleane...\n",
       "       &#x27;secondary_cleaner.state.floatbank4_b_level&#x27;,\n",
       "       &#x27;secondary_cleaner.state.floatbank5_a_air&#x27;,\n",
       "       &#x27;secondary_cleaner.state.floatbank5_a_level&#x27;,\n",
       "       &#x27;secondary_cleaner.state.floatbank5_b_air&#x27;,\n",
       "       &#x27;secondary_cleaner.state.floatbank5_b_level&#x27;,\n",
       "       &#x27;secondary_cleaner.state.floatbank6_a_air&#x27;,\n",
       "       &#x27;secondary_cleaner.state.floatbank6_a_level&#x27;],\n",
       "      dtype=&#x27;object&#x27;))])),\n",
       "                (&#x27;model&#x27;, DummyRegressor())])</pre></div></div></div><div class=\"sk-serial\"><div class=\"sk-item\"><div class=\"sk-estimator sk-toggleable\"><input class=\"sk-toggleable__control sk-hidden--visually\" id=\"sk-estimator-id-14\" type=\"checkbox\" ><label for=\"sk-estimator-id-14\" class=\"sk-toggleable__label sk-toggleable__label-arrow\">Imputer_ffill</label><div class=\"sk-toggleable__content\"><pre>Imputer_ffill()</pre></div></div></div><div class=\"sk-item sk-dashed-wrapped\"><div class=\"sk-label-container\"><div class=\"sk-label sk-toggleable\"><input class=\"sk-toggleable__control sk-hidden--visually\" id=\"sk-estimator-id-15\" type=\"checkbox\" ><label for=\"sk-estimator-id-15\" class=\"sk-toggleable__label sk-toggleable__label-arrow\">preprocessor_feature: ColumnTransformer</label><div class=\"sk-toggleable__content\"><pre>ColumnTransformer(transformers=[(&#x27;num&#x27;,\n",
       "                                 Pipeline(steps=[(&#x27;scaler&#x27;, StandardScaler())]),\n",
       "                                 Index([&#x27;primary_cleaner.input.sulfate&#x27;, &#x27;primary_cleaner.input.depressant&#x27;,\n",
       "       &#x27;primary_cleaner.input.feed_size&#x27;, &#x27;primary_cleaner.input.xanthate&#x27;,\n",
       "       &#x27;primary_cleaner.state.floatbank8_a_air&#x27;,\n",
       "       &#x27;primary_cleaner.state.floatbank8_a_level&#x27;,\n",
       "       &#x27;primary_cleaner.state.floatbank8_b_air&#x27;...\n",
       "       &#x27;secondary_cleaner.state.floatbank4_b_air&#x27;,\n",
       "       &#x27;secondary_cleaner.state.floatbank4_b_level&#x27;,\n",
       "       &#x27;secondary_cleaner.state.floatbank5_a_air&#x27;,\n",
       "       &#x27;secondary_cleaner.state.floatbank5_a_level&#x27;,\n",
       "       &#x27;secondary_cleaner.state.floatbank5_b_air&#x27;,\n",
       "       &#x27;secondary_cleaner.state.floatbank5_b_level&#x27;,\n",
       "       &#x27;secondary_cleaner.state.floatbank6_a_air&#x27;,\n",
       "       &#x27;secondary_cleaner.state.floatbank6_a_level&#x27;],\n",
       "      dtype=&#x27;object&#x27;))])</pre></div></div></div><div class=\"sk-parallel\"><div class=\"sk-parallel-item\"><div class=\"sk-item\"><div class=\"sk-label-container\"><div class=\"sk-label sk-toggleable\"><input class=\"sk-toggleable__control sk-hidden--visually\" id=\"sk-estimator-id-16\" type=\"checkbox\" ><label for=\"sk-estimator-id-16\" class=\"sk-toggleable__label sk-toggleable__label-arrow\">num</label><div class=\"sk-toggleable__content\"><pre>Index([&#x27;primary_cleaner.input.sulfate&#x27;, &#x27;primary_cleaner.input.depressant&#x27;,\n",
       "       &#x27;primary_cleaner.input.feed_size&#x27;, &#x27;primary_cleaner.input.xanthate&#x27;,\n",
       "       &#x27;primary_cleaner.state.floatbank8_a_air&#x27;,\n",
       "       &#x27;primary_cleaner.state.floatbank8_a_level&#x27;,\n",
       "       &#x27;primary_cleaner.state.floatbank8_b_air&#x27;,\n",
       "       &#x27;primary_cleaner.state.floatbank8_b_level&#x27;,\n",
       "       &#x27;primary_cleaner.state.floatbank8_c_air&#x27;,\n",
       "       &#x27;primary_cleaner.state.floatbank8_c_level&#x27;,\n",
       "       &#x27;primary_cleaner.state.floatbank8_d_air&#x27;,\n",
       "       &#x27;primary_cleaner.state.floatbank8_d_level&#x27;, &#x27;rougher.input.feed_ag&#x27;,\n",
       "       &#x27;rougher.input.feed_pb&#x27;, &#x27;rougher.input.feed_rate&#x27;,\n",
       "       &#x27;rougher.input.feed_size&#x27;, &#x27;rougher.input.feed_sol&#x27;,\n",
       "       &#x27;rougher.input.feed_au&#x27;, &#x27;rougher.input.floatbank10_sulfate&#x27;,\n",
       "       &#x27;rougher.input.floatbank10_xanthate&#x27;,\n",
       "       &#x27;rougher.input.floatbank11_sulfate&#x27;,\n",
       "       &#x27;rougher.input.floatbank11_xanthate&#x27;, &#x27;rougher.state.floatbank10_a_air&#x27;,\n",
       "       &#x27;rougher.state.floatbank10_a_level&#x27;, &#x27;rougher.state.floatbank10_b_air&#x27;,\n",
       "       &#x27;rougher.state.floatbank10_b_level&#x27;, &#x27;rougher.state.floatbank10_c_air&#x27;,\n",
       "       &#x27;rougher.state.floatbank10_c_level&#x27;, &#x27;rougher.state.floatbank10_d_air&#x27;,\n",
       "       &#x27;rougher.state.floatbank10_d_level&#x27;, &#x27;rougher.state.floatbank10_e_air&#x27;,\n",
       "       &#x27;rougher.state.floatbank10_e_level&#x27;, &#x27;rougher.state.floatbank10_f_air&#x27;,\n",
       "       &#x27;rougher.state.floatbank10_f_level&#x27;,\n",
       "       &#x27;secondary_cleaner.state.floatbank2_a_air&#x27;,\n",
       "       &#x27;secondary_cleaner.state.floatbank2_a_level&#x27;,\n",
       "       &#x27;secondary_cleaner.state.floatbank2_b_air&#x27;,\n",
       "       &#x27;secondary_cleaner.state.floatbank2_b_level&#x27;,\n",
       "       &#x27;secondary_cleaner.state.floatbank3_a_air&#x27;,\n",
       "       &#x27;secondary_cleaner.state.floatbank3_a_level&#x27;,\n",
       "       &#x27;secondary_cleaner.state.floatbank3_b_air&#x27;,\n",
       "       &#x27;secondary_cleaner.state.floatbank3_b_level&#x27;,\n",
       "       &#x27;secondary_cleaner.state.floatbank4_a_air&#x27;,\n",
       "       &#x27;secondary_cleaner.state.floatbank4_a_level&#x27;,\n",
       "       &#x27;secondary_cleaner.state.floatbank4_b_air&#x27;,\n",
       "       &#x27;secondary_cleaner.state.floatbank4_b_level&#x27;,\n",
       "       &#x27;secondary_cleaner.state.floatbank5_a_air&#x27;,\n",
       "       &#x27;secondary_cleaner.state.floatbank5_a_level&#x27;,\n",
       "       &#x27;secondary_cleaner.state.floatbank5_b_air&#x27;,\n",
       "       &#x27;secondary_cleaner.state.floatbank5_b_level&#x27;,\n",
       "       &#x27;secondary_cleaner.state.floatbank6_a_air&#x27;,\n",
       "       &#x27;secondary_cleaner.state.floatbank6_a_level&#x27;],\n",
       "      dtype=&#x27;object&#x27;)</pre></div></div></div><div class=\"sk-serial\"><div class=\"sk-item\"><div class=\"sk-serial\"><div class=\"sk-item\"><div class=\"sk-estimator sk-toggleable\"><input class=\"sk-toggleable__control sk-hidden--visually\" id=\"sk-estimator-id-17\" type=\"checkbox\" ><label for=\"sk-estimator-id-17\" class=\"sk-toggleable__label sk-toggleable__label-arrow\">StandardScaler</label><div class=\"sk-toggleable__content\"><pre>StandardScaler()</pre></div></div></div></div></div></div></div></div></div></div><div class=\"sk-item\"><div class=\"sk-estimator sk-toggleable\"><input class=\"sk-toggleable__control sk-hidden--visually\" id=\"sk-estimator-id-18\" type=\"checkbox\" ><label for=\"sk-estimator-id-18\" class=\"sk-toggleable__label sk-toggleable__label-arrow\">DummyRegressor</label><div class=\"sk-toggleable__content\"><pre>DummyRegressor()</pre></div></div></div></div></div></div></div>"
      ],
      "text/plain": [
       "Pipeline(steps=[('imputer', Imputer_ffill()),\n",
       "                ('preprocessor_feature',\n",
       "                 ColumnTransformer(transformers=[('num',\n",
       "                                                  Pipeline(steps=[('scaler',\n",
       "                                                                   StandardScaler())]),\n",
       "                                                  Index(['primary_cleaner.input.sulfate', 'primary_cleaner.input.depressant',\n",
       "       'primary_cleaner.input.feed_size', 'primary_cleaner.input.xanthate',\n",
       "       'primary_cleaner.state.floatbank8_a_air',\n",
       "       'primary_cleane...\n",
       "       'secondary_cleaner.state.floatbank4_b_level',\n",
       "       'secondary_cleaner.state.floatbank5_a_air',\n",
       "       'secondary_cleaner.state.floatbank5_a_level',\n",
       "       'secondary_cleaner.state.floatbank5_b_air',\n",
       "       'secondary_cleaner.state.floatbank5_b_level',\n",
       "       'secondary_cleaner.state.floatbank6_a_air',\n",
       "       'secondary_cleaner.state.floatbank6_a_level'],\n",
       "      dtype='object'))])),\n",
       "                ('model', DummyRegressor())])"
      ]
     },
     "execution_count": 72,
     "metadata": {},
     "output_type": "execute_result"
    }
   ],
   "source": [
    "pipe = Pipeline(steps=[\n",
    "#     ('outliers', Outliers_Feed_Size()),\n",
    "    ('imputer', Imputer_ffill()),\n",
    "    ('preprocessor_feature', preprocessor),\n",
    "    ('model', DummyRegressor())\n",
    "    \n",
    "])\n",
    "\n",
    "pipe"
   ]
  },
  {
   "cell_type": "code",
   "execution_count": 73,
   "metadata": {},
   "outputs": [
    {
     "data": {
      "text/html": [
       "<style>#sk-container-id-4 {color: black;background-color: white;}#sk-container-id-4 pre{padding: 0;}#sk-container-id-4 div.sk-toggleable {background-color: white;}#sk-container-id-4 label.sk-toggleable__label {cursor: pointer;display: block;width: 100%;margin-bottom: 0;padding: 0.3em;box-sizing: border-box;text-align: center;}#sk-container-id-4 label.sk-toggleable__label-arrow:before {content: \"▸\";float: left;margin-right: 0.25em;color: #696969;}#sk-container-id-4 label.sk-toggleable__label-arrow:hover:before {color: black;}#sk-container-id-4 div.sk-estimator:hover label.sk-toggleable__label-arrow:before {color: black;}#sk-container-id-4 div.sk-toggleable__content {max-height: 0;max-width: 0;overflow: hidden;text-align: left;background-color: #f0f8ff;}#sk-container-id-4 div.sk-toggleable__content pre {margin: 0.2em;color: black;border-radius: 0.25em;background-color: #f0f8ff;}#sk-container-id-4 input.sk-toggleable__control:checked~div.sk-toggleable__content {max-height: 200px;max-width: 100%;overflow: auto;}#sk-container-id-4 input.sk-toggleable__control:checked~label.sk-toggleable__label-arrow:before {content: \"▾\";}#sk-container-id-4 div.sk-estimator input.sk-toggleable__control:checked~label.sk-toggleable__label {background-color: #d4ebff;}#sk-container-id-4 div.sk-label input.sk-toggleable__control:checked~label.sk-toggleable__label {background-color: #d4ebff;}#sk-container-id-4 input.sk-hidden--visually {border: 0;clip: rect(1px 1px 1px 1px);clip: rect(1px, 1px, 1px, 1px);height: 1px;margin: -1px;overflow: hidden;padding: 0;position: absolute;width: 1px;}#sk-container-id-4 div.sk-estimator {font-family: monospace;background-color: #f0f8ff;border: 1px dotted black;border-radius: 0.25em;box-sizing: border-box;margin-bottom: 0.5em;}#sk-container-id-4 div.sk-estimator:hover {background-color: #d4ebff;}#sk-container-id-4 div.sk-parallel-item::after {content: \"\";width: 100%;border-bottom: 1px solid gray;flex-grow: 1;}#sk-container-id-4 div.sk-label:hover label.sk-toggleable__label {background-color: #d4ebff;}#sk-container-id-4 div.sk-serial::before {content: \"\";position: absolute;border-left: 1px solid gray;box-sizing: border-box;top: 0;bottom: 0;left: 50%;z-index: 0;}#sk-container-id-4 div.sk-serial {display: flex;flex-direction: column;align-items: center;background-color: white;padding-right: 0.2em;padding-left: 0.2em;position: relative;}#sk-container-id-4 div.sk-item {position: relative;z-index: 1;}#sk-container-id-4 div.sk-parallel {display: flex;align-items: stretch;justify-content: center;background-color: white;position: relative;}#sk-container-id-4 div.sk-item::before, #sk-container-id-4 div.sk-parallel-item::before {content: \"\";position: absolute;border-left: 1px solid gray;box-sizing: border-box;top: 0;bottom: 0;left: 50%;z-index: -1;}#sk-container-id-4 div.sk-parallel-item {display: flex;flex-direction: column;z-index: 1;position: relative;background-color: white;}#sk-container-id-4 div.sk-parallel-item:first-child::after {align-self: flex-end;width: 50%;}#sk-container-id-4 div.sk-parallel-item:last-child::after {align-self: flex-start;width: 50%;}#sk-container-id-4 div.sk-parallel-item:only-child::after {width: 0;}#sk-container-id-4 div.sk-dashed-wrapped {border: 1px dashed gray;margin: 0 0.4em 0.5em 0.4em;box-sizing: border-box;padding-bottom: 0.4em;background-color: white;}#sk-container-id-4 div.sk-label label {font-family: monospace;font-weight: bold;display: inline-block;line-height: 1.2em;}#sk-container-id-4 div.sk-label-container {text-align: center;}#sk-container-id-4 div.sk-container {/* jupyter's `normalize.less` sets `[hidden] { display: none; }` but bootstrap.min.css set `[hidden] { display: none !important; }` so we also need the `!important` here to be able to override the default hidden behavior on the sphinx rendered scikit-learn.org. See: https://github.com/scikit-learn/scikit-learn/issues/21755 */display: inline-block !important;position: relative;}#sk-container-id-4 div.sk-text-repr-fallback {display: none;}</style><div id=\"sk-container-id-4\" class=\"sk-top-container\"><div class=\"sk-text-repr-fallback\"><pre>Pipeline(steps=[(&#x27;imputer&#x27;, Imputer_ffill()),\n",
       "                (&#x27;preprocessor_feature&#x27;,\n",
       "                 ColumnTransformer(transformers=[(&#x27;num&#x27;,\n",
       "                                                  Pipeline(steps=[(&#x27;scaler&#x27;,\n",
       "                                                                   StandardScaler())]),\n",
       "                                                  Index([&#x27;primary_cleaner.input.sulfate&#x27;, &#x27;primary_cleaner.input.depressant&#x27;,\n",
       "       &#x27;primary_cleaner.input.feed_size&#x27;, &#x27;primary_cleaner.input.xanthate&#x27;,\n",
       "       &#x27;primary_cleaner.state.floatbank8_a_air&#x27;,\n",
       "       &#x27;primary_cleane...\n",
       "       &#x27;secondary_cleaner.state.floatbank4_b_level&#x27;,\n",
       "       &#x27;secondary_cleaner.state.floatbank5_a_air&#x27;,\n",
       "       &#x27;secondary_cleaner.state.floatbank5_a_level&#x27;,\n",
       "       &#x27;secondary_cleaner.state.floatbank5_b_air&#x27;,\n",
       "       &#x27;secondary_cleaner.state.floatbank5_b_level&#x27;,\n",
       "       &#x27;secondary_cleaner.state.floatbank6_a_air&#x27;,\n",
       "       &#x27;secondary_cleaner.state.floatbank6_a_level&#x27;],\n",
       "      dtype=&#x27;object&#x27;))])),\n",
       "                (&#x27;model&#x27;, DummyRegressor())])</pre><b>In a Jupyter environment, please rerun this cell to show the HTML representation or trust the notebook. <br />On GitHub, the HTML representation is unable to render, please try loading this page with nbviewer.org.</b></div><div class=\"sk-container\" hidden><div class=\"sk-item sk-dashed-wrapped\"><div class=\"sk-label-container\"><div class=\"sk-label sk-toggleable\"><input class=\"sk-toggleable__control sk-hidden--visually\" id=\"sk-estimator-id-19\" type=\"checkbox\" ><label for=\"sk-estimator-id-19\" class=\"sk-toggleable__label sk-toggleable__label-arrow\">Pipeline</label><div class=\"sk-toggleable__content\"><pre>Pipeline(steps=[(&#x27;imputer&#x27;, Imputer_ffill()),\n",
       "                (&#x27;preprocessor_feature&#x27;,\n",
       "                 ColumnTransformer(transformers=[(&#x27;num&#x27;,\n",
       "                                                  Pipeline(steps=[(&#x27;scaler&#x27;,\n",
       "                                                                   StandardScaler())]),\n",
       "                                                  Index([&#x27;primary_cleaner.input.sulfate&#x27;, &#x27;primary_cleaner.input.depressant&#x27;,\n",
       "       &#x27;primary_cleaner.input.feed_size&#x27;, &#x27;primary_cleaner.input.xanthate&#x27;,\n",
       "       &#x27;primary_cleaner.state.floatbank8_a_air&#x27;,\n",
       "       &#x27;primary_cleane...\n",
       "       &#x27;secondary_cleaner.state.floatbank4_b_level&#x27;,\n",
       "       &#x27;secondary_cleaner.state.floatbank5_a_air&#x27;,\n",
       "       &#x27;secondary_cleaner.state.floatbank5_a_level&#x27;,\n",
       "       &#x27;secondary_cleaner.state.floatbank5_b_air&#x27;,\n",
       "       &#x27;secondary_cleaner.state.floatbank5_b_level&#x27;,\n",
       "       &#x27;secondary_cleaner.state.floatbank6_a_air&#x27;,\n",
       "       &#x27;secondary_cleaner.state.floatbank6_a_level&#x27;],\n",
       "      dtype=&#x27;object&#x27;))])),\n",
       "                (&#x27;model&#x27;, DummyRegressor())])</pre></div></div></div><div class=\"sk-serial\"><div class=\"sk-item\"><div class=\"sk-estimator sk-toggleable\"><input class=\"sk-toggleable__control sk-hidden--visually\" id=\"sk-estimator-id-20\" type=\"checkbox\" ><label for=\"sk-estimator-id-20\" class=\"sk-toggleable__label sk-toggleable__label-arrow\">Imputer_ffill</label><div class=\"sk-toggleable__content\"><pre>Imputer_ffill()</pre></div></div></div><div class=\"sk-item sk-dashed-wrapped\"><div class=\"sk-label-container\"><div class=\"sk-label sk-toggleable\"><input class=\"sk-toggleable__control sk-hidden--visually\" id=\"sk-estimator-id-21\" type=\"checkbox\" ><label for=\"sk-estimator-id-21\" class=\"sk-toggleable__label sk-toggleable__label-arrow\">preprocessor_feature: ColumnTransformer</label><div class=\"sk-toggleable__content\"><pre>ColumnTransformer(transformers=[(&#x27;num&#x27;,\n",
       "                                 Pipeline(steps=[(&#x27;scaler&#x27;, StandardScaler())]),\n",
       "                                 Index([&#x27;primary_cleaner.input.sulfate&#x27;, &#x27;primary_cleaner.input.depressant&#x27;,\n",
       "       &#x27;primary_cleaner.input.feed_size&#x27;, &#x27;primary_cleaner.input.xanthate&#x27;,\n",
       "       &#x27;primary_cleaner.state.floatbank8_a_air&#x27;,\n",
       "       &#x27;primary_cleaner.state.floatbank8_a_level&#x27;,\n",
       "       &#x27;primary_cleaner.state.floatbank8_b_air&#x27;...\n",
       "       &#x27;secondary_cleaner.state.floatbank4_b_air&#x27;,\n",
       "       &#x27;secondary_cleaner.state.floatbank4_b_level&#x27;,\n",
       "       &#x27;secondary_cleaner.state.floatbank5_a_air&#x27;,\n",
       "       &#x27;secondary_cleaner.state.floatbank5_a_level&#x27;,\n",
       "       &#x27;secondary_cleaner.state.floatbank5_b_air&#x27;,\n",
       "       &#x27;secondary_cleaner.state.floatbank5_b_level&#x27;,\n",
       "       &#x27;secondary_cleaner.state.floatbank6_a_air&#x27;,\n",
       "       &#x27;secondary_cleaner.state.floatbank6_a_level&#x27;],\n",
       "      dtype=&#x27;object&#x27;))])</pre></div></div></div><div class=\"sk-parallel\"><div class=\"sk-parallel-item\"><div class=\"sk-item\"><div class=\"sk-label-container\"><div class=\"sk-label sk-toggleable\"><input class=\"sk-toggleable__control sk-hidden--visually\" id=\"sk-estimator-id-22\" type=\"checkbox\" ><label for=\"sk-estimator-id-22\" class=\"sk-toggleable__label sk-toggleable__label-arrow\">num</label><div class=\"sk-toggleable__content\"><pre>Index([&#x27;primary_cleaner.input.sulfate&#x27;, &#x27;primary_cleaner.input.depressant&#x27;,\n",
       "       &#x27;primary_cleaner.input.feed_size&#x27;, &#x27;primary_cleaner.input.xanthate&#x27;,\n",
       "       &#x27;primary_cleaner.state.floatbank8_a_air&#x27;,\n",
       "       &#x27;primary_cleaner.state.floatbank8_a_level&#x27;,\n",
       "       &#x27;primary_cleaner.state.floatbank8_b_air&#x27;,\n",
       "       &#x27;primary_cleaner.state.floatbank8_b_level&#x27;,\n",
       "       &#x27;primary_cleaner.state.floatbank8_c_air&#x27;,\n",
       "       &#x27;primary_cleaner.state.floatbank8_c_level&#x27;,\n",
       "       &#x27;primary_cleaner.state.floatbank8_d_air&#x27;,\n",
       "       &#x27;primary_cleaner.state.floatbank8_d_level&#x27;, &#x27;rougher.input.feed_ag&#x27;,\n",
       "       &#x27;rougher.input.feed_pb&#x27;, &#x27;rougher.input.feed_rate&#x27;,\n",
       "       &#x27;rougher.input.feed_size&#x27;, &#x27;rougher.input.feed_sol&#x27;,\n",
       "       &#x27;rougher.input.feed_au&#x27;, &#x27;rougher.input.floatbank10_sulfate&#x27;,\n",
       "       &#x27;rougher.input.floatbank10_xanthate&#x27;,\n",
       "       &#x27;rougher.input.floatbank11_sulfate&#x27;,\n",
       "       &#x27;rougher.input.floatbank11_xanthate&#x27;, &#x27;rougher.state.floatbank10_a_air&#x27;,\n",
       "       &#x27;rougher.state.floatbank10_a_level&#x27;, &#x27;rougher.state.floatbank10_b_air&#x27;,\n",
       "       &#x27;rougher.state.floatbank10_b_level&#x27;, &#x27;rougher.state.floatbank10_c_air&#x27;,\n",
       "       &#x27;rougher.state.floatbank10_c_level&#x27;, &#x27;rougher.state.floatbank10_d_air&#x27;,\n",
       "       &#x27;rougher.state.floatbank10_d_level&#x27;, &#x27;rougher.state.floatbank10_e_air&#x27;,\n",
       "       &#x27;rougher.state.floatbank10_e_level&#x27;, &#x27;rougher.state.floatbank10_f_air&#x27;,\n",
       "       &#x27;rougher.state.floatbank10_f_level&#x27;,\n",
       "       &#x27;secondary_cleaner.state.floatbank2_a_air&#x27;,\n",
       "       &#x27;secondary_cleaner.state.floatbank2_a_level&#x27;,\n",
       "       &#x27;secondary_cleaner.state.floatbank2_b_air&#x27;,\n",
       "       &#x27;secondary_cleaner.state.floatbank2_b_level&#x27;,\n",
       "       &#x27;secondary_cleaner.state.floatbank3_a_air&#x27;,\n",
       "       &#x27;secondary_cleaner.state.floatbank3_a_level&#x27;,\n",
       "       &#x27;secondary_cleaner.state.floatbank3_b_air&#x27;,\n",
       "       &#x27;secondary_cleaner.state.floatbank3_b_level&#x27;,\n",
       "       &#x27;secondary_cleaner.state.floatbank4_a_air&#x27;,\n",
       "       &#x27;secondary_cleaner.state.floatbank4_a_level&#x27;,\n",
       "       &#x27;secondary_cleaner.state.floatbank4_b_air&#x27;,\n",
       "       &#x27;secondary_cleaner.state.floatbank4_b_level&#x27;,\n",
       "       &#x27;secondary_cleaner.state.floatbank5_a_air&#x27;,\n",
       "       &#x27;secondary_cleaner.state.floatbank5_a_level&#x27;,\n",
       "       &#x27;secondary_cleaner.state.floatbank5_b_air&#x27;,\n",
       "       &#x27;secondary_cleaner.state.floatbank5_b_level&#x27;,\n",
       "       &#x27;secondary_cleaner.state.floatbank6_a_air&#x27;,\n",
       "       &#x27;secondary_cleaner.state.floatbank6_a_level&#x27;],\n",
       "      dtype=&#x27;object&#x27;)</pre></div></div></div><div class=\"sk-serial\"><div class=\"sk-item\"><div class=\"sk-serial\"><div class=\"sk-item\"><div class=\"sk-estimator sk-toggleable\"><input class=\"sk-toggleable__control sk-hidden--visually\" id=\"sk-estimator-id-23\" type=\"checkbox\" ><label for=\"sk-estimator-id-23\" class=\"sk-toggleable__label sk-toggleable__label-arrow\">StandardScaler</label><div class=\"sk-toggleable__content\"><pre>StandardScaler()</pre></div></div></div></div></div></div></div></div></div></div><div class=\"sk-item\"><div class=\"sk-estimator sk-toggleable\"><input class=\"sk-toggleable__control sk-hidden--visually\" id=\"sk-estimator-id-24\" type=\"checkbox\" ><label for=\"sk-estimator-id-24\" class=\"sk-toggleable__label sk-toggleable__label-arrow\">DummyRegressor</label><div class=\"sk-toggleable__content\"><pre>DummyRegressor()</pre></div></div></div></div></div></div></div>"
      ],
      "text/plain": [
       "Pipeline(steps=[('imputer', Imputer_ffill()),\n",
       "                ('preprocessor_feature',\n",
       "                 ColumnTransformer(transformers=[('num',\n",
       "                                                  Pipeline(steps=[('scaler',\n",
       "                                                                   StandardScaler())]),\n",
       "                                                  Index(['primary_cleaner.input.sulfate', 'primary_cleaner.input.depressant',\n",
       "       'primary_cleaner.input.feed_size', 'primary_cleaner.input.xanthate',\n",
       "       'primary_cleaner.state.floatbank8_a_air',\n",
       "       'primary_cleane...\n",
       "       'secondary_cleaner.state.floatbank4_b_level',\n",
       "       'secondary_cleaner.state.floatbank5_a_air',\n",
       "       'secondary_cleaner.state.floatbank5_a_level',\n",
       "       'secondary_cleaner.state.floatbank5_b_air',\n",
       "       'secondary_cleaner.state.floatbank5_b_level',\n",
       "       'secondary_cleaner.state.floatbank6_a_air',\n",
       "       'secondary_cleaner.state.floatbank6_a_level'],\n",
       "      dtype='object'))])),\n",
       "                ('model', DummyRegressor())])"
      ]
     },
     "execution_count": 73,
     "metadata": {},
     "output_type": "execute_result"
    }
   ],
   "source": [
    "pipe.fit(train[X], train[y_final])"
   ]
  },
  {
   "cell_type": "code",
   "execution_count": 74,
   "metadata": {},
   "outputs": [],
   "source": [
    "smape_final = smape(test[y_final], pipe.predict(test[X]))"
   ]
  },
  {
   "cell_type": "code",
   "execution_count": 75,
   "metadata": {},
   "outputs": [
    {
     "data": {
      "text/html": [
       "<style>#sk-container-id-5 {color: black;background-color: white;}#sk-container-id-5 pre{padding: 0;}#sk-container-id-5 div.sk-toggleable {background-color: white;}#sk-container-id-5 label.sk-toggleable__label {cursor: pointer;display: block;width: 100%;margin-bottom: 0;padding: 0.3em;box-sizing: border-box;text-align: center;}#sk-container-id-5 label.sk-toggleable__label-arrow:before {content: \"▸\";float: left;margin-right: 0.25em;color: #696969;}#sk-container-id-5 label.sk-toggleable__label-arrow:hover:before {color: black;}#sk-container-id-5 div.sk-estimator:hover label.sk-toggleable__label-arrow:before {color: black;}#sk-container-id-5 div.sk-toggleable__content {max-height: 0;max-width: 0;overflow: hidden;text-align: left;background-color: #f0f8ff;}#sk-container-id-5 div.sk-toggleable__content pre {margin: 0.2em;color: black;border-radius: 0.25em;background-color: #f0f8ff;}#sk-container-id-5 input.sk-toggleable__control:checked~div.sk-toggleable__content {max-height: 200px;max-width: 100%;overflow: auto;}#sk-container-id-5 input.sk-toggleable__control:checked~label.sk-toggleable__label-arrow:before {content: \"▾\";}#sk-container-id-5 div.sk-estimator input.sk-toggleable__control:checked~label.sk-toggleable__label {background-color: #d4ebff;}#sk-container-id-5 div.sk-label input.sk-toggleable__control:checked~label.sk-toggleable__label {background-color: #d4ebff;}#sk-container-id-5 input.sk-hidden--visually {border: 0;clip: rect(1px 1px 1px 1px);clip: rect(1px, 1px, 1px, 1px);height: 1px;margin: -1px;overflow: hidden;padding: 0;position: absolute;width: 1px;}#sk-container-id-5 div.sk-estimator {font-family: monospace;background-color: #f0f8ff;border: 1px dotted black;border-radius: 0.25em;box-sizing: border-box;margin-bottom: 0.5em;}#sk-container-id-5 div.sk-estimator:hover {background-color: #d4ebff;}#sk-container-id-5 div.sk-parallel-item::after {content: \"\";width: 100%;border-bottom: 1px solid gray;flex-grow: 1;}#sk-container-id-5 div.sk-label:hover label.sk-toggleable__label {background-color: #d4ebff;}#sk-container-id-5 div.sk-serial::before {content: \"\";position: absolute;border-left: 1px solid gray;box-sizing: border-box;top: 0;bottom: 0;left: 50%;z-index: 0;}#sk-container-id-5 div.sk-serial {display: flex;flex-direction: column;align-items: center;background-color: white;padding-right: 0.2em;padding-left: 0.2em;position: relative;}#sk-container-id-5 div.sk-item {position: relative;z-index: 1;}#sk-container-id-5 div.sk-parallel {display: flex;align-items: stretch;justify-content: center;background-color: white;position: relative;}#sk-container-id-5 div.sk-item::before, #sk-container-id-5 div.sk-parallel-item::before {content: \"\";position: absolute;border-left: 1px solid gray;box-sizing: border-box;top: 0;bottom: 0;left: 50%;z-index: -1;}#sk-container-id-5 div.sk-parallel-item {display: flex;flex-direction: column;z-index: 1;position: relative;background-color: white;}#sk-container-id-5 div.sk-parallel-item:first-child::after {align-self: flex-end;width: 50%;}#sk-container-id-5 div.sk-parallel-item:last-child::after {align-self: flex-start;width: 50%;}#sk-container-id-5 div.sk-parallel-item:only-child::after {width: 0;}#sk-container-id-5 div.sk-dashed-wrapped {border: 1px dashed gray;margin: 0 0.4em 0.5em 0.4em;box-sizing: border-box;padding-bottom: 0.4em;background-color: white;}#sk-container-id-5 div.sk-label label {font-family: monospace;font-weight: bold;display: inline-block;line-height: 1.2em;}#sk-container-id-5 div.sk-label-container {text-align: center;}#sk-container-id-5 div.sk-container {/* jupyter's `normalize.less` sets `[hidden] { display: none; }` but bootstrap.min.css set `[hidden] { display: none !important; }` so we also need the `!important` here to be able to override the default hidden behavior on the sphinx rendered scikit-learn.org. See: https://github.com/scikit-learn/scikit-learn/issues/21755 */display: inline-block !important;position: relative;}#sk-container-id-5 div.sk-text-repr-fallback {display: none;}</style><div id=\"sk-container-id-5\" class=\"sk-top-container\"><div class=\"sk-text-repr-fallback\"><pre>Pipeline(steps=[(&#x27;imputer&#x27;, Imputer_ffill()),\n",
       "                (&#x27;preprocessor_feature&#x27;,\n",
       "                 ColumnTransformer(transformers=[(&#x27;num&#x27;,\n",
       "                                                  Pipeline(steps=[(&#x27;scaler&#x27;,\n",
       "                                                                   StandardScaler())]),\n",
       "                                                  Index([&#x27;primary_cleaner.input.sulfate&#x27;, &#x27;primary_cleaner.input.depressant&#x27;,\n",
       "       &#x27;primary_cleaner.input.feed_size&#x27;, &#x27;primary_cleaner.input.xanthate&#x27;,\n",
       "       &#x27;primary_cleaner.state.floatbank8_a_air&#x27;,\n",
       "       &#x27;primary_cleane...\n",
       "       &#x27;secondary_cleaner.state.floatbank4_b_level&#x27;,\n",
       "       &#x27;secondary_cleaner.state.floatbank5_a_air&#x27;,\n",
       "       &#x27;secondary_cleaner.state.floatbank5_a_level&#x27;,\n",
       "       &#x27;secondary_cleaner.state.floatbank5_b_air&#x27;,\n",
       "       &#x27;secondary_cleaner.state.floatbank5_b_level&#x27;,\n",
       "       &#x27;secondary_cleaner.state.floatbank6_a_air&#x27;,\n",
       "       &#x27;secondary_cleaner.state.floatbank6_a_level&#x27;],\n",
       "      dtype=&#x27;object&#x27;))])),\n",
       "                (&#x27;model&#x27;, DummyRegressor())])</pre><b>In a Jupyter environment, please rerun this cell to show the HTML representation or trust the notebook. <br />On GitHub, the HTML representation is unable to render, please try loading this page with nbviewer.org.</b></div><div class=\"sk-container\" hidden><div class=\"sk-item sk-dashed-wrapped\"><div class=\"sk-label-container\"><div class=\"sk-label sk-toggleable\"><input class=\"sk-toggleable__control sk-hidden--visually\" id=\"sk-estimator-id-25\" type=\"checkbox\" ><label for=\"sk-estimator-id-25\" class=\"sk-toggleable__label sk-toggleable__label-arrow\">Pipeline</label><div class=\"sk-toggleable__content\"><pre>Pipeline(steps=[(&#x27;imputer&#x27;, Imputer_ffill()),\n",
       "                (&#x27;preprocessor_feature&#x27;,\n",
       "                 ColumnTransformer(transformers=[(&#x27;num&#x27;,\n",
       "                                                  Pipeline(steps=[(&#x27;scaler&#x27;,\n",
       "                                                                   StandardScaler())]),\n",
       "                                                  Index([&#x27;primary_cleaner.input.sulfate&#x27;, &#x27;primary_cleaner.input.depressant&#x27;,\n",
       "       &#x27;primary_cleaner.input.feed_size&#x27;, &#x27;primary_cleaner.input.xanthate&#x27;,\n",
       "       &#x27;primary_cleaner.state.floatbank8_a_air&#x27;,\n",
       "       &#x27;primary_cleane...\n",
       "       &#x27;secondary_cleaner.state.floatbank4_b_level&#x27;,\n",
       "       &#x27;secondary_cleaner.state.floatbank5_a_air&#x27;,\n",
       "       &#x27;secondary_cleaner.state.floatbank5_a_level&#x27;,\n",
       "       &#x27;secondary_cleaner.state.floatbank5_b_air&#x27;,\n",
       "       &#x27;secondary_cleaner.state.floatbank5_b_level&#x27;,\n",
       "       &#x27;secondary_cleaner.state.floatbank6_a_air&#x27;,\n",
       "       &#x27;secondary_cleaner.state.floatbank6_a_level&#x27;],\n",
       "      dtype=&#x27;object&#x27;))])),\n",
       "                (&#x27;model&#x27;, DummyRegressor())])</pre></div></div></div><div class=\"sk-serial\"><div class=\"sk-item\"><div class=\"sk-estimator sk-toggleable\"><input class=\"sk-toggleable__control sk-hidden--visually\" id=\"sk-estimator-id-26\" type=\"checkbox\" ><label for=\"sk-estimator-id-26\" class=\"sk-toggleable__label sk-toggleable__label-arrow\">Imputer_ffill</label><div class=\"sk-toggleable__content\"><pre>Imputer_ffill()</pre></div></div></div><div class=\"sk-item sk-dashed-wrapped\"><div class=\"sk-label-container\"><div class=\"sk-label sk-toggleable\"><input class=\"sk-toggleable__control sk-hidden--visually\" id=\"sk-estimator-id-27\" type=\"checkbox\" ><label for=\"sk-estimator-id-27\" class=\"sk-toggleable__label sk-toggleable__label-arrow\">preprocessor_feature: ColumnTransformer</label><div class=\"sk-toggleable__content\"><pre>ColumnTransformer(transformers=[(&#x27;num&#x27;,\n",
       "                                 Pipeline(steps=[(&#x27;scaler&#x27;, StandardScaler())]),\n",
       "                                 Index([&#x27;primary_cleaner.input.sulfate&#x27;, &#x27;primary_cleaner.input.depressant&#x27;,\n",
       "       &#x27;primary_cleaner.input.feed_size&#x27;, &#x27;primary_cleaner.input.xanthate&#x27;,\n",
       "       &#x27;primary_cleaner.state.floatbank8_a_air&#x27;,\n",
       "       &#x27;primary_cleaner.state.floatbank8_a_level&#x27;,\n",
       "       &#x27;primary_cleaner.state.floatbank8_b_air&#x27;...\n",
       "       &#x27;secondary_cleaner.state.floatbank4_b_air&#x27;,\n",
       "       &#x27;secondary_cleaner.state.floatbank4_b_level&#x27;,\n",
       "       &#x27;secondary_cleaner.state.floatbank5_a_air&#x27;,\n",
       "       &#x27;secondary_cleaner.state.floatbank5_a_level&#x27;,\n",
       "       &#x27;secondary_cleaner.state.floatbank5_b_air&#x27;,\n",
       "       &#x27;secondary_cleaner.state.floatbank5_b_level&#x27;,\n",
       "       &#x27;secondary_cleaner.state.floatbank6_a_air&#x27;,\n",
       "       &#x27;secondary_cleaner.state.floatbank6_a_level&#x27;],\n",
       "      dtype=&#x27;object&#x27;))])</pre></div></div></div><div class=\"sk-parallel\"><div class=\"sk-parallel-item\"><div class=\"sk-item\"><div class=\"sk-label-container\"><div class=\"sk-label sk-toggleable\"><input class=\"sk-toggleable__control sk-hidden--visually\" id=\"sk-estimator-id-28\" type=\"checkbox\" ><label for=\"sk-estimator-id-28\" class=\"sk-toggleable__label sk-toggleable__label-arrow\">num</label><div class=\"sk-toggleable__content\"><pre>Index([&#x27;primary_cleaner.input.sulfate&#x27;, &#x27;primary_cleaner.input.depressant&#x27;,\n",
       "       &#x27;primary_cleaner.input.feed_size&#x27;, &#x27;primary_cleaner.input.xanthate&#x27;,\n",
       "       &#x27;primary_cleaner.state.floatbank8_a_air&#x27;,\n",
       "       &#x27;primary_cleaner.state.floatbank8_a_level&#x27;,\n",
       "       &#x27;primary_cleaner.state.floatbank8_b_air&#x27;,\n",
       "       &#x27;primary_cleaner.state.floatbank8_b_level&#x27;,\n",
       "       &#x27;primary_cleaner.state.floatbank8_c_air&#x27;,\n",
       "       &#x27;primary_cleaner.state.floatbank8_c_level&#x27;,\n",
       "       &#x27;primary_cleaner.state.floatbank8_d_air&#x27;,\n",
       "       &#x27;primary_cleaner.state.floatbank8_d_level&#x27;, &#x27;rougher.input.feed_ag&#x27;,\n",
       "       &#x27;rougher.input.feed_pb&#x27;, &#x27;rougher.input.feed_rate&#x27;,\n",
       "       &#x27;rougher.input.feed_size&#x27;, &#x27;rougher.input.feed_sol&#x27;,\n",
       "       &#x27;rougher.input.feed_au&#x27;, &#x27;rougher.input.floatbank10_sulfate&#x27;,\n",
       "       &#x27;rougher.input.floatbank10_xanthate&#x27;,\n",
       "       &#x27;rougher.input.floatbank11_sulfate&#x27;,\n",
       "       &#x27;rougher.input.floatbank11_xanthate&#x27;, &#x27;rougher.state.floatbank10_a_air&#x27;,\n",
       "       &#x27;rougher.state.floatbank10_a_level&#x27;, &#x27;rougher.state.floatbank10_b_air&#x27;,\n",
       "       &#x27;rougher.state.floatbank10_b_level&#x27;, &#x27;rougher.state.floatbank10_c_air&#x27;,\n",
       "       &#x27;rougher.state.floatbank10_c_level&#x27;, &#x27;rougher.state.floatbank10_d_air&#x27;,\n",
       "       &#x27;rougher.state.floatbank10_d_level&#x27;, &#x27;rougher.state.floatbank10_e_air&#x27;,\n",
       "       &#x27;rougher.state.floatbank10_e_level&#x27;, &#x27;rougher.state.floatbank10_f_air&#x27;,\n",
       "       &#x27;rougher.state.floatbank10_f_level&#x27;,\n",
       "       &#x27;secondary_cleaner.state.floatbank2_a_air&#x27;,\n",
       "       &#x27;secondary_cleaner.state.floatbank2_a_level&#x27;,\n",
       "       &#x27;secondary_cleaner.state.floatbank2_b_air&#x27;,\n",
       "       &#x27;secondary_cleaner.state.floatbank2_b_level&#x27;,\n",
       "       &#x27;secondary_cleaner.state.floatbank3_a_air&#x27;,\n",
       "       &#x27;secondary_cleaner.state.floatbank3_a_level&#x27;,\n",
       "       &#x27;secondary_cleaner.state.floatbank3_b_air&#x27;,\n",
       "       &#x27;secondary_cleaner.state.floatbank3_b_level&#x27;,\n",
       "       &#x27;secondary_cleaner.state.floatbank4_a_air&#x27;,\n",
       "       &#x27;secondary_cleaner.state.floatbank4_a_level&#x27;,\n",
       "       &#x27;secondary_cleaner.state.floatbank4_b_air&#x27;,\n",
       "       &#x27;secondary_cleaner.state.floatbank4_b_level&#x27;,\n",
       "       &#x27;secondary_cleaner.state.floatbank5_a_air&#x27;,\n",
       "       &#x27;secondary_cleaner.state.floatbank5_a_level&#x27;,\n",
       "       &#x27;secondary_cleaner.state.floatbank5_b_air&#x27;,\n",
       "       &#x27;secondary_cleaner.state.floatbank5_b_level&#x27;,\n",
       "       &#x27;secondary_cleaner.state.floatbank6_a_air&#x27;,\n",
       "       &#x27;secondary_cleaner.state.floatbank6_a_level&#x27;],\n",
       "      dtype=&#x27;object&#x27;)</pre></div></div></div><div class=\"sk-serial\"><div class=\"sk-item\"><div class=\"sk-serial\"><div class=\"sk-item\"><div class=\"sk-estimator sk-toggleable\"><input class=\"sk-toggleable__control sk-hidden--visually\" id=\"sk-estimator-id-29\" type=\"checkbox\" ><label for=\"sk-estimator-id-29\" class=\"sk-toggleable__label sk-toggleable__label-arrow\">StandardScaler</label><div class=\"sk-toggleable__content\"><pre>StandardScaler()</pre></div></div></div></div></div></div></div></div></div></div><div class=\"sk-item\"><div class=\"sk-estimator sk-toggleable\"><input class=\"sk-toggleable__control sk-hidden--visually\" id=\"sk-estimator-id-30\" type=\"checkbox\" ><label for=\"sk-estimator-id-30\" class=\"sk-toggleable__label sk-toggleable__label-arrow\">DummyRegressor</label><div class=\"sk-toggleable__content\"><pre>DummyRegressor()</pre></div></div></div></div></div></div></div>"
      ],
      "text/plain": [
       "Pipeline(steps=[('imputer', Imputer_ffill()),\n",
       "                ('preprocessor_feature',\n",
       "                 ColumnTransformer(transformers=[('num',\n",
       "                                                  Pipeline(steps=[('scaler',\n",
       "                                                                   StandardScaler())]),\n",
       "                                                  Index(['primary_cleaner.input.sulfate', 'primary_cleaner.input.depressant',\n",
       "       'primary_cleaner.input.feed_size', 'primary_cleaner.input.xanthate',\n",
       "       'primary_cleaner.state.floatbank8_a_air',\n",
       "       'primary_cleane...\n",
       "       'secondary_cleaner.state.floatbank4_b_level',\n",
       "       'secondary_cleaner.state.floatbank5_a_air',\n",
       "       'secondary_cleaner.state.floatbank5_a_level',\n",
       "       'secondary_cleaner.state.floatbank5_b_air',\n",
       "       'secondary_cleaner.state.floatbank5_b_level',\n",
       "       'secondary_cleaner.state.floatbank6_a_air',\n",
       "       'secondary_cleaner.state.floatbank6_a_level'],\n",
       "      dtype='object'))])),\n",
       "                ('model', DummyRegressor())])"
      ]
     },
     "execution_count": 75,
     "metadata": {},
     "output_type": "execute_result"
    }
   ],
   "source": [
    "pipe.fit(train[X], train[y_rougher])"
   ]
  },
  {
   "cell_type": "code",
   "execution_count": 76,
   "metadata": {},
   "outputs": [],
   "source": [
    "smape_rougher = smape(test[y_rougher], pipe.predict(test[X]))"
   ]
  },
  {
   "cell_type": "code",
   "execution_count": 77,
   "metadata": {},
   "outputs": [
    {
     "name": "stdout",
     "output_type": "stream",
     "text": [
      "Итоговый sMAPE: 9.831106938628508\n"
     ]
    }
   ],
   "source": [
    "final_smape(smape_rougher, smape_final)"
   ]
  },
  {
   "cell_type": "markdown",
   "metadata": {},
   "source": [
    "\n",
    "<div class=\"alert alert-info\">\n",
    "    <br /> \n",
    "    <font size=\"3\", color = \"black\">\n",
    "<br />\n",
    "\n",
    "Нужно пробить Baseline в 9.8416"
   ]
  },
  {
   "cell_type": "markdown",
   "metadata": {},
   "source": [
    "## Модель"
   ]
  },
  {
   "cell_type": "markdown",
   "metadata": {},
   "source": [
    "\n",
    "<div class=\"alert alert-info\">\n",
    "    <br /> \n",
    "    <font size=\"3\", color = \"black\">\n",
    "<br />\n",
    "  \n",
    "        \n",
    "        \n",
    "В качестве моделей рассмотрим:\n",
    "        \n",
    "        \n",
    "        * Дерево решений\n",
    "        * Случайный лес\n",
    "        * Метод опорных векторов"
   ]
  },
  {
   "cell_type": "markdown",
   "metadata": {},
   "source": [
    "### Decision Tree"
   ]
  },
  {
   "cell_type": "code",
   "execution_count": 78,
   "metadata": {},
   "outputs": [],
   "source": [
    "from sklearn.model_selection import RandomizedSearchCV\n"
   ]
  },
  {
   "cell_type": "code",
   "execution_count": 79,
   "metadata": {},
   "outputs": [
    {
     "data": {
      "text/html": [
       "<style>#sk-container-id-6 {color: black;background-color: white;}#sk-container-id-6 pre{padding: 0;}#sk-container-id-6 div.sk-toggleable {background-color: white;}#sk-container-id-6 label.sk-toggleable__label {cursor: pointer;display: block;width: 100%;margin-bottom: 0;padding: 0.3em;box-sizing: border-box;text-align: center;}#sk-container-id-6 label.sk-toggleable__label-arrow:before {content: \"▸\";float: left;margin-right: 0.25em;color: #696969;}#sk-container-id-6 label.sk-toggleable__label-arrow:hover:before {color: black;}#sk-container-id-6 div.sk-estimator:hover label.sk-toggleable__label-arrow:before {color: black;}#sk-container-id-6 div.sk-toggleable__content {max-height: 0;max-width: 0;overflow: hidden;text-align: left;background-color: #f0f8ff;}#sk-container-id-6 div.sk-toggleable__content pre {margin: 0.2em;color: black;border-radius: 0.25em;background-color: #f0f8ff;}#sk-container-id-6 input.sk-toggleable__control:checked~div.sk-toggleable__content {max-height: 200px;max-width: 100%;overflow: auto;}#sk-container-id-6 input.sk-toggleable__control:checked~label.sk-toggleable__label-arrow:before {content: \"▾\";}#sk-container-id-6 div.sk-estimator input.sk-toggleable__control:checked~label.sk-toggleable__label {background-color: #d4ebff;}#sk-container-id-6 div.sk-label input.sk-toggleable__control:checked~label.sk-toggleable__label {background-color: #d4ebff;}#sk-container-id-6 input.sk-hidden--visually {border: 0;clip: rect(1px 1px 1px 1px);clip: rect(1px, 1px, 1px, 1px);height: 1px;margin: -1px;overflow: hidden;padding: 0;position: absolute;width: 1px;}#sk-container-id-6 div.sk-estimator {font-family: monospace;background-color: #f0f8ff;border: 1px dotted black;border-radius: 0.25em;box-sizing: border-box;margin-bottom: 0.5em;}#sk-container-id-6 div.sk-estimator:hover {background-color: #d4ebff;}#sk-container-id-6 div.sk-parallel-item::after {content: \"\";width: 100%;border-bottom: 1px solid gray;flex-grow: 1;}#sk-container-id-6 div.sk-label:hover label.sk-toggleable__label {background-color: #d4ebff;}#sk-container-id-6 div.sk-serial::before {content: \"\";position: absolute;border-left: 1px solid gray;box-sizing: border-box;top: 0;bottom: 0;left: 50%;z-index: 0;}#sk-container-id-6 div.sk-serial {display: flex;flex-direction: column;align-items: center;background-color: white;padding-right: 0.2em;padding-left: 0.2em;position: relative;}#sk-container-id-6 div.sk-item {position: relative;z-index: 1;}#sk-container-id-6 div.sk-parallel {display: flex;align-items: stretch;justify-content: center;background-color: white;position: relative;}#sk-container-id-6 div.sk-item::before, #sk-container-id-6 div.sk-parallel-item::before {content: \"\";position: absolute;border-left: 1px solid gray;box-sizing: border-box;top: 0;bottom: 0;left: 50%;z-index: -1;}#sk-container-id-6 div.sk-parallel-item {display: flex;flex-direction: column;z-index: 1;position: relative;background-color: white;}#sk-container-id-6 div.sk-parallel-item:first-child::after {align-self: flex-end;width: 50%;}#sk-container-id-6 div.sk-parallel-item:last-child::after {align-self: flex-start;width: 50%;}#sk-container-id-6 div.sk-parallel-item:only-child::after {width: 0;}#sk-container-id-6 div.sk-dashed-wrapped {border: 1px dashed gray;margin: 0 0.4em 0.5em 0.4em;box-sizing: border-box;padding-bottom: 0.4em;background-color: white;}#sk-container-id-6 div.sk-label label {font-family: monospace;font-weight: bold;display: inline-block;line-height: 1.2em;}#sk-container-id-6 div.sk-label-container {text-align: center;}#sk-container-id-6 div.sk-container {/* jupyter's `normalize.less` sets `[hidden] { display: none; }` but bootstrap.min.css set `[hidden] { display: none !important; }` so we also need the `!important` here to be able to override the default hidden behavior on the sphinx rendered scikit-learn.org. See: https://github.com/scikit-learn/scikit-learn/issues/21755 */display: inline-block !important;position: relative;}#sk-container-id-6 div.sk-text-repr-fallback {display: none;}</style><div id=\"sk-container-id-6\" class=\"sk-top-container\"><div class=\"sk-text-repr-fallback\"><pre>Pipeline(steps=[(&#x27;imputer&#x27;, Imputer_ffill()),\n",
       "                (&#x27;preprocessor_feature&#x27;,\n",
       "                 ColumnTransformer(transformers=[(&#x27;num&#x27;,\n",
       "                                                  Pipeline(steps=[(&#x27;scaler&#x27;,\n",
       "                                                                   StandardScaler())]),\n",
       "                                                  Index([&#x27;primary_cleaner.input.sulfate&#x27;, &#x27;primary_cleaner.input.depressant&#x27;,\n",
       "       &#x27;primary_cleaner.input.feed_size&#x27;, &#x27;primary_cleaner.input.xanthate&#x27;,\n",
       "       &#x27;primary_cleaner.state.floatbank8_a_air&#x27;,\n",
       "       &#x27;primary_cleane...\n",
       "       &#x27;secondary_cleaner.state.floatbank4_b_level&#x27;,\n",
       "       &#x27;secondary_cleaner.state.floatbank5_a_air&#x27;,\n",
       "       &#x27;secondary_cleaner.state.floatbank5_a_level&#x27;,\n",
       "       &#x27;secondary_cleaner.state.floatbank5_b_air&#x27;,\n",
       "       &#x27;secondary_cleaner.state.floatbank5_b_level&#x27;,\n",
       "       &#x27;secondary_cleaner.state.floatbank6_a_air&#x27;,\n",
       "       &#x27;secondary_cleaner.state.floatbank6_a_level&#x27;],\n",
       "      dtype=&#x27;object&#x27;))])),\n",
       "                (&#x27;model&#x27;, DecisionTreeRegressor(random_state=42))])</pre><b>In a Jupyter environment, please rerun this cell to show the HTML representation or trust the notebook. <br />On GitHub, the HTML representation is unable to render, please try loading this page with nbviewer.org.</b></div><div class=\"sk-container\" hidden><div class=\"sk-item sk-dashed-wrapped\"><div class=\"sk-label-container\"><div class=\"sk-label sk-toggleable\"><input class=\"sk-toggleable__control sk-hidden--visually\" id=\"sk-estimator-id-31\" type=\"checkbox\" ><label for=\"sk-estimator-id-31\" class=\"sk-toggleable__label sk-toggleable__label-arrow\">Pipeline</label><div class=\"sk-toggleable__content\"><pre>Pipeline(steps=[(&#x27;imputer&#x27;, Imputer_ffill()),\n",
       "                (&#x27;preprocessor_feature&#x27;,\n",
       "                 ColumnTransformer(transformers=[(&#x27;num&#x27;,\n",
       "                                                  Pipeline(steps=[(&#x27;scaler&#x27;,\n",
       "                                                                   StandardScaler())]),\n",
       "                                                  Index([&#x27;primary_cleaner.input.sulfate&#x27;, &#x27;primary_cleaner.input.depressant&#x27;,\n",
       "       &#x27;primary_cleaner.input.feed_size&#x27;, &#x27;primary_cleaner.input.xanthate&#x27;,\n",
       "       &#x27;primary_cleaner.state.floatbank8_a_air&#x27;,\n",
       "       &#x27;primary_cleane...\n",
       "       &#x27;secondary_cleaner.state.floatbank4_b_level&#x27;,\n",
       "       &#x27;secondary_cleaner.state.floatbank5_a_air&#x27;,\n",
       "       &#x27;secondary_cleaner.state.floatbank5_a_level&#x27;,\n",
       "       &#x27;secondary_cleaner.state.floatbank5_b_air&#x27;,\n",
       "       &#x27;secondary_cleaner.state.floatbank5_b_level&#x27;,\n",
       "       &#x27;secondary_cleaner.state.floatbank6_a_air&#x27;,\n",
       "       &#x27;secondary_cleaner.state.floatbank6_a_level&#x27;],\n",
       "      dtype=&#x27;object&#x27;))])),\n",
       "                (&#x27;model&#x27;, DecisionTreeRegressor(random_state=42))])</pre></div></div></div><div class=\"sk-serial\"><div class=\"sk-item\"><div class=\"sk-estimator sk-toggleable\"><input class=\"sk-toggleable__control sk-hidden--visually\" id=\"sk-estimator-id-32\" type=\"checkbox\" ><label for=\"sk-estimator-id-32\" class=\"sk-toggleable__label sk-toggleable__label-arrow\">Imputer_ffill</label><div class=\"sk-toggleable__content\"><pre>Imputer_ffill()</pre></div></div></div><div class=\"sk-item sk-dashed-wrapped\"><div class=\"sk-label-container\"><div class=\"sk-label sk-toggleable\"><input class=\"sk-toggleable__control sk-hidden--visually\" id=\"sk-estimator-id-33\" type=\"checkbox\" ><label for=\"sk-estimator-id-33\" class=\"sk-toggleable__label sk-toggleable__label-arrow\">preprocessor_feature: ColumnTransformer</label><div class=\"sk-toggleable__content\"><pre>ColumnTransformer(transformers=[(&#x27;num&#x27;,\n",
       "                                 Pipeline(steps=[(&#x27;scaler&#x27;, StandardScaler())]),\n",
       "                                 Index([&#x27;primary_cleaner.input.sulfate&#x27;, &#x27;primary_cleaner.input.depressant&#x27;,\n",
       "       &#x27;primary_cleaner.input.feed_size&#x27;, &#x27;primary_cleaner.input.xanthate&#x27;,\n",
       "       &#x27;primary_cleaner.state.floatbank8_a_air&#x27;,\n",
       "       &#x27;primary_cleaner.state.floatbank8_a_level&#x27;,\n",
       "       &#x27;primary_cleaner.state.floatbank8_b_air&#x27;...\n",
       "       &#x27;secondary_cleaner.state.floatbank4_b_air&#x27;,\n",
       "       &#x27;secondary_cleaner.state.floatbank4_b_level&#x27;,\n",
       "       &#x27;secondary_cleaner.state.floatbank5_a_air&#x27;,\n",
       "       &#x27;secondary_cleaner.state.floatbank5_a_level&#x27;,\n",
       "       &#x27;secondary_cleaner.state.floatbank5_b_air&#x27;,\n",
       "       &#x27;secondary_cleaner.state.floatbank5_b_level&#x27;,\n",
       "       &#x27;secondary_cleaner.state.floatbank6_a_air&#x27;,\n",
       "       &#x27;secondary_cleaner.state.floatbank6_a_level&#x27;],\n",
       "      dtype=&#x27;object&#x27;))])</pre></div></div></div><div class=\"sk-parallel\"><div class=\"sk-parallel-item\"><div class=\"sk-item\"><div class=\"sk-label-container\"><div class=\"sk-label sk-toggleable\"><input class=\"sk-toggleable__control sk-hidden--visually\" id=\"sk-estimator-id-34\" type=\"checkbox\" ><label for=\"sk-estimator-id-34\" class=\"sk-toggleable__label sk-toggleable__label-arrow\">num</label><div class=\"sk-toggleable__content\"><pre>Index([&#x27;primary_cleaner.input.sulfate&#x27;, &#x27;primary_cleaner.input.depressant&#x27;,\n",
       "       &#x27;primary_cleaner.input.feed_size&#x27;, &#x27;primary_cleaner.input.xanthate&#x27;,\n",
       "       &#x27;primary_cleaner.state.floatbank8_a_air&#x27;,\n",
       "       &#x27;primary_cleaner.state.floatbank8_a_level&#x27;,\n",
       "       &#x27;primary_cleaner.state.floatbank8_b_air&#x27;,\n",
       "       &#x27;primary_cleaner.state.floatbank8_b_level&#x27;,\n",
       "       &#x27;primary_cleaner.state.floatbank8_c_air&#x27;,\n",
       "       &#x27;primary_cleaner.state.floatbank8_c_level&#x27;,\n",
       "       &#x27;primary_cleaner.state.floatbank8_d_air&#x27;,\n",
       "       &#x27;primary_cleaner.state.floatbank8_d_level&#x27;, &#x27;rougher.input.feed_ag&#x27;,\n",
       "       &#x27;rougher.input.feed_pb&#x27;, &#x27;rougher.input.feed_rate&#x27;,\n",
       "       &#x27;rougher.input.feed_size&#x27;, &#x27;rougher.input.feed_sol&#x27;,\n",
       "       &#x27;rougher.input.feed_au&#x27;, &#x27;rougher.input.floatbank10_sulfate&#x27;,\n",
       "       &#x27;rougher.input.floatbank10_xanthate&#x27;,\n",
       "       &#x27;rougher.input.floatbank11_sulfate&#x27;,\n",
       "       &#x27;rougher.input.floatbank11_xanthate&#x27;, &#x27;rougher.state.floatbank10_a_air&#x27;,\n",
       "       &#x27;rougher.state.floatbank10_a_level&#x27;, &#x27;rougher.state.floatbank10_b_air&#x27;,\n",
       "       &#x27;rougher.state.floatbank10_b_level&#x27;, &#x27;rougher.state.floatbank10_c_air&#x27;,\n",
       "       &#x27;rougher.state.floatbank10_c_level&#x27;, &#x27;rougher.state.floatbank10_d_air&#x27;,\n",
       "       &#x27;rougher.state.floatbank10_d_level&#x27;, &#x27;rougher.state.floatbank10_e_air&#x27;,\n",
       "       &#x27;rougher.state.floatbank10_e_level&#x27;, &#x27;rougher.state.floatbank10_f_air&#x27;,\n",
       "       &#x27;rougher.state.floatbank10_f_level&#x27;,\n",
       "       &#x27;secondary_cleaner.state.floatbank2_a_air&#x27;,\n",
       "       &#x27;secondary_cleaner.state.floatbank2_a_level&#x27;,\n",
       "       &#x27;secondary_cleaner.state.floatbank2_b_air&#x27;,\n",
       "       &#x27;secondary_cleaner.state.floatbank2_b_level&#x27;,\n",
       "       &#x27;secondary_cleaner.state.floatbank3_a_air&#x27;,\n",
       "       &#x27;secondary_cleaner.state.floatbank3_a_level&#x27;,\n",
       "       &#x27;secondary_cleaner.state.floatbank3_b_air&#x27;,\n",
       "       &#x27;secondary_cleaner.state.floatbank3_b_level&#x27;,\n",
       "       &#x27;secondary_cleaner.state.floatbank4_a_air&#x27;,\n",
       "       &#x27;secondary_cleaner.state.floatbank4_a_level&#x27;,\n",
       "       &#x27;secondary_cleaner.state.floatbank4_b_air&#x27;,\n",
       "       &#x27;secondary_cleaner.state.floatbank4_b_level&#x27;,\n",
       "       &#x27;secondary_cleaner.state.floatbank5_a_air&#x27;,\n",
       "       &#x27;secondary_cleaner.state.floatbank5_a_level&#x27;,\n",
       "       &#x27;secondary_cleaner.state.floatbank5_b_air&#x27;,\n",
       "       &#x27;secondary_cleaner.state.floatbank5_b_level&#x27;,\n",
       "       &#x27;secondary_cleaner.state.floatbank6_a_air&#x27;,\n",
       "       &#x27;secondary_cleaner.state.floatbank6_a_level&#x27;],\n",
       "      dtype=&#x27;object&#x27;)</pre></div></div></div><div class=\"sk-serial\"><div class=\"sk-item\"><div class=\"sk-serial\"><div class=\"sk-item\"><div class=\"sk-estimator sk-toggleable\"><input class=\"sk-toggleable__control sk-hidden--visually\" id=\"sk-estimator-id-35\" type=\"checkbox\" ><label for=\"sk-estimator-id-35\" class=\"sk-toggleable__label sk-toggleable__label-arrow\">StandardScaler</label><div class=\"sk-toggleable__content\"><pre>StandardScaler()</pre></div></div></div></div></div></div></div></div></div></div><div class=\"sk-item\"><div class=\"sk-estimator sk-toggleable\"><input class=\"sk-toggleable__control sk-hidden--visually\" id=\"sk-estimator-id-36\" type=\"checkbox\" ><label for=\"sk-estimator-id-36\" class=\"sk-toggleable__label sk-toggleable__label-arrow\">DecisionTreeRegressor</label><div class=\"sk-toggleable__content\"><pre>DecisionTreeRegressor(random_state=42)</pre></div></div></div></div></div></div></div>"
      ],
      "text/plain": [
       "Pipeline(steps=[('imputer', Imputer_ffill()),\n",
       "                ('preprocessor_feature',\n",
       "                 ColumnTransformer(transformers=[('num',\n",
       "                                                  Pipeline(steps=[('scaler',\n",
       "                                                                   StandardScaler())]),\n",
       "                                                  Index(['primary_cleaner.input.sulfate', 'primary_cleaner.input.depressant',\n",
       "       'primary_cleaner.input.feed_size', 'primary_cleaner.input.xanthate',\n",
       "       'primary_cleaner.state.floatbank8_a_air',\n",
       "       'primary_cleane...\n",
       "       'secondary_cleaner.state.floatbank4_b_level',\n",
       "       'secondary_cleaner.state.floatbank5_a_air',\n",
       "       'secondary_cleaner.state.floatbank5_a_level',\n",
       "       'secondary_cleaner.state.floatbank5_b_air',\n",
       "       'secondary_cleaner.state.floatbank5_b_level',\n",
       "       'secondary_cleaner.state.floatbank6_a_air',\n",
       "       'secondary_cleaner.state.floatbank6_a_level'],\n",
       "      dtype='object'))])),\n",
       "                ('model', DecisionTreeRegressor(random_state=42))])"
      ]
     },
     "execution_count": 79,
     "metadata": {},
     "output_type": "execute_result"
    }
   ],
   "source": [
    "pipe = Pipeline(steps=[\n",
    "#     ('outliers', Outliers_Feed_Size()),\n",
    "    ('imputer', Imputer_ffill()),\n",
    "    ('preprocessor_feature', preprocessor),\n",
    "    ('model', DecisionTreeRegressor(random_state=42))\n",
    "    \n",
    "])\n",
    "\n",
    "pipe"
   ]
  },
  {
   "cell_type": "code",
   "execution_count": 80,
   "metadata": {},
   "outputs": [
    {
     "name": "stdout",
     "output_type": "stream",
     "text": [
      "CPU times: total: 1.72 s\n",
      "Wall time: 14.5 s\n"
     ]
    },
    {
     "data": {
      "text/plain": [
       "-11.788604055471824"
      ]
     },
     "execution_count": 80,
     "metadata": {},
     "output_type": "execute_result"
    }
   ],
   "source": [
    "%%time\n",
    "\n",
    "parameters = { \"model__max_depth\" : list(range(2, 6)),\n",
    "               \"model__min_samples_split\" : list(range(2, 5)),\n",
    "               \"model__min_samples_leaf\" : list(range(1, 5)),\n",
    "              }\n",
    "\n",
    "\n",
    "gcv = RandomizedSearchCV(pipe, parameters, n_jobs=-1, cv=5, refit=True, scoring=sMAPE, n_iter=30, random_state=42)\n",
    "\n",
    "gcv.fit(train[X], train[y_final])\n",
    "\n",
    "smape_final_gcv = gcv.best_score_\n",
    "\n",
    "gcv.best_score_"
   ]
  },
  {
   "cell_type": "code",
   "execution_count": 81,
   "metadata": {},
   "outputs": [
    {
     "name": "stdout",
     "output_type": "stream",
     "text": [
      "CPU times: total: 1.23 s\n",
      "Wall time: 8.01 s\n"
     ]
    },
    {
     "data": {
      "text/plain": [
       "-8.106268214664478"
      ]
     },
     "execution_count": 81,
     "metadata": {},
     "output_type": "execute_result"
    }
   ],
   "source": [
    "%%time\n",
    "\n",
    "parameters = { \"model__max_depth\" : list(range(2, 5)),\n",
    "               \"model__min_samples_split\" : list(range(2, 5)),\n",
    "               \"model__min_samples_leaf\" : list(range(1, 5)),\n",
    "              }\n",
    "\n",
    "\n",
    "gcv = RandomizedSearchCV(pipe, parameters, n_jobs=-1, cv=5, refit=True, scoring=sMAPE, n_iter=20, random_state=42)\n",
    "\n",
    "gcv.fit(train[X], train[y_rougher])\n",
    "\n",
    "smape_rougher_gcv = gcv.best_score_\n",
    "\n",
    "gcv.best_score_"
   ]
  },
  {
   "cell_type": "code",
   "execution_count": 82,
   "metadata": {},
   "outputs": [
    {
     "name": "stdout",
     "output_type": "stream",
     "text": [
      "sMAPE на кросс-валидации\n",
      "Итоговый sMAPE: -10.868020095269987\n"
     ]
    }
   ],
   "source": [
    "print('sMAPE на кросс-валидации')\n",
    "final_smape(smape_rougher_gcv, smape_final_gcv)"
   ]
  },
  {
   "cell_type": "markdown",
   "metadata": {},
   "source": [
    "### Random Forest"
   ]
  },
  {
   "cell_type": "code",
   "execution_count": 83,
   "metadata": {},
   "outputs": [],
   "source": [
    "from sklearn.ensemble import RandomForestRegressor"
   ]
  },
  {
   "cell_type": "code",
   "execution_count": 84,
   "metadata": {},
   "outputs": [
    {
     "data": {
      "text/html": [
       "<style>#sk-container-id-7 {color: black;background-color: white;}#sk-container-id-7 pre{padding: 0;}#sk-container-id-7 div.sk-toggleable {background-color: white;}#sk-container-id-7 label.sk-toggleable__label {cursor: pointer;display: block;width: 100%;margin-bottom: 0;padding: 0.3em;box-sizing: border-box;text-align: center;}#sk-container-id-7 label.sk-toggleable__label-arrow:before {content: \"▸\";float: left;margin-right: 0.25em;color: #696969;}#sk-container-id-7 label.sk-toggleable__label-arrow:hover:before {color: black;}#sk-container-id-7 div.sk-estimator:hover label.sk-toggleable__label-arrow:before {color: black;}#sk-container-id-7 div.sk-toggleable__content {max-height: 0;max-width: 0;overflow: hidden;text-align: left;background-color: #f0f8ff;}#sk-container-id-7 div.sk-toggleable__content pre {margin: 0.2em;color: black;border-radius: 0.25em;background-color: #f0f8ff;}#sk-container-id-7 input.sk-toggleable__control:checked~div.sk-toggleable__content {max-height: 200px;max-width: 100%;overflow: auto;}#sk-container-id-7 input.sk-toggleable__control:checked~label.sk-toggleable__label-arrow:before {content: \"▾\";}#sk-container-id-7 div.sk-estimator input.sk-toggleable__control:checked~label.sk-toggleable__label {background-color: #d4ebff;}#sk-container-id-7 div.sk-label input.sk-toggleable__control:checked~label.sk-toggleable__label {background-color: #d4ebff;}#sk-container-id-7 input.sk-hidden--visually {border: 0;clip: rect(1px 1px 1px 1px);clip: rect(1px, 1px, 1px, 1px);height: 1px;margin: -1px;overflow: hidden;padding: 0;position: absolute;width: 1px;}#sk-container-id-7 div.sk-estimator {font-family: monospace;background-color: #f0f8ff;border: 1px dotted black;border-radius: 0.25em;box-sizing: border-box;margin-bottom: 0.5em;}#sk-container-id-7 div.sk-estimator:hover {background-color: #d4ebff;}#sk-container-id-7 div.sk-parallel-item::after {content: \"\";width: 100%;border-bottom: 1px solid gray;flex-grow: 1;}#sk-container-id-7 div.sk-label:hover label.sk-toggleable__label {background-color: #d4ebff;}#sk-container-id-7 div.sk-serial::before {content: \"\";position: absolute;border-left: 1px solid gray;box-sizing: border-box;top: 0;bottom: 0;left: 50%;z-index: 0;}#sk-container-id-7 div.sk-serial {display: flex;flex-direction: column;align-items: center;background-color: white;padding-right: 0.2em;padding-left: 0.2em;position: relative;}#sk-container-id-7 div.sk-item {position: relative;z-index: 1;}#sk-container-id-7 div.sk-parallel {display: flex;align-items: stretch;justify-content: center;background-color: white;position: relative;}#sk-container-id-7 div.sk-item::before, #sk-container-id-7 div.sk-parallel-item::before {content: \"\";position: absolute;border-left: 1px solid gray;box-sizing: border-box;top: 0;bottom: 0;left: 50%;z-index: -1;}#sk-container-id-7 div.sk-parallel-item {display: flex;flex-direction: column;z-index: 1;position: relative;background-color: white;}#sk-container-id-7 div.sk-parallel-item:first-child::after {align-self: flex-end;width: 50%;}#sk-container-id-7 div.sk-parallel-item:last-child::after {align-self: flex-start;width: 50%;}#sk-container-id-7 div.sk-parallel-item:only-child::after {width: 0;}#sk-container-id-7 div.sk-dashed-wrapped {border: 1px dashed gray;margin: 0 0.4em 0.5em 0.4em;box-sizing: border-box;padding-bottom: 0.4em;background-color: white;}#sk-container-id-7 div.sk-label label {font-family: monospace;font-weight: bold;display: inline-block;line-height: 1.2em;}#sk-container-id-7 div.sk-label-container {text-align: center;}#sk-container-id-7 div.sk-container {/* jupyter's `normalize.less` sets `[hidden] { display: none; }` but bootstrap.min.css set `[hidden] { display: none !important; }` so we also need the `!important` here to be able to override the default hidden behavior on the sphinx rendered scikit-learn.org. See: https://github.com/scikit-learn/scikit-learn/issues/21755 */display: inline-block !important;position: relative;}#sk-container-id-7 div.sk-text-repr-fallback {display: none;}</style><div id=\"sk-container-id-7\" class=\"sk-top-container\"><div class=\"sk-text-repr-fallback\"><pre>Pipeline(steps=[(&#x27;imputer&#x27;, Imputer_ffill()),\n",
       "                (&#x27;model&#x27;, RandomForestRegressor(random_state=42))])</pre><b>In a Jupyter environment, please rerun this cell to show the HTML representation or trust the notebook. <br />On GitHub, the HTML representation is unable to render, please try loading this page with nbviewer.org.</b></div><div class=\"sk-container\" hidden><div class=\"sk-item sk-dashed-wrapped\"><div class=\"sk-label-container\"><div class=\"sk-label sk-toggleable\"><input class=\"sk-toggleable__control sk-hidden--visually\" id=\"sk-estimator-id-37\" type=\"checkbox\" ><label for=\"sk-estimator-id-37\" class=\"sk-toggleable__label sk-toggleable__label-arrow\">Pipeline</label><div class=\"sk-toggleable__content\"><pre>Pipeline(steps=[(&#x27;imputer&#x27;, Imputer_ffill()),\n",
       "                (&#x27;model&#x27;, RandomForestRegressor(random_state=42))])</pre></div></div></div><div class=\"sk-serial\"><div class=\"sk-item\"><div class=\"sk-estimator sk-toggleable\"><input class=\"sk-toggleable__control sk-hidden--visually\" id=\"sk-estimator-id-38\" type=\"checkbox\" ><label for=\"sk-estimator-id-38\" class=\"sk-toggleable__label sk-toggleable__label-arrow\">Imputer_ffill</label><div class=\"sk-toggleable__content\"><pre>Imputer_ffill()</pre></div></div></div><div class=\"sk-item\"><div class=\"sk-estimator sk-toggleable\"><input class=\"sk-toggleable__control sk-hidden--visually\" id=\"sk-estimator-id-39\" type=\"checkbox\" ><label for=\"sk-estimator-id-39\" class=\"sk-toggleable__label sk-toggleable__label-arrow\">RandomForestRegressor</label><div class=\"sk-toggleable__content\"><pre>RandomForestRegressor(random_state=42)</pre></div></div></div></div></div></div></div>"
      ],
      "text/plain": [
       "Pipeline(steps=[('imputer', Imputer_ffill()),\n",
       "                ('model', RandomForestRegressor(random_state=42))])"
      ]
     },
     "execution_count": 84,
     "metadata": {},
     "output_type": "execute_result"
    }
   ],
   "source": [
    "pipe = Pipeline(steps=[\n",
    "#     ('outliers', Outliers_Feed_Size()),\n",
    "    ('imputer', Imputer_ffill()),\n",
    "    ('model', RandomForestRegressor(random_state=42))\n",
    "    \n",
    "])\n",
    "\n",
    "pipe"
   ]
  },
  {
   "cell_type": "code",
   "execution_count": null,
   "metadata": {},
   "outputs": [],
   "source": []
  },
  {
   "cell_type": "code",
   "execution_count": 85,
   "metadata": {},
   "outputs": [
    {
     "name": "stderr",
     "output_type": "stream",
     "text": [
      "C:\\ProgramData\\anaconda3\\lib\\site-packages\\sklearn\\model_selection\\_search.py:305: UserWarning: The total space of parameters 12 is smaller than n_iter=20. Running 12 iterations. For exhaustive searches, use GridSearchCV.\n",
      "  warnings.warn(\n",
      "C:\\ProgramData\\anaconda3\\lib\\site-packages\\imblearn\\pipeline.py:297: DataConversionWarning: A column-vector y was passed when a 1d array was expected. Please change the shape of y to (n_samples,), for example using ravel().\n",
      "  self._final_estimator.fit(Xt, yt, **fit_params_last_step)\n"
     ]
    },
    {
     "name": "stdout",
     "output_type": "stream",
     "text": [
      "CPU times: total: 11.8 s\n",
      "Wall time: 1min 42s\n"
     ]
    },
    {
     "data": {
      "text/plain": [
       "-11.512242855345024"
      ]
     },
     "execution_count": 85,
     "metadata": {},
     "output_type": "execute_result"
    }
   ],
   "source": [
    "%%time\n",
    "\n",
    "parameters = { \"model__max_depth\" : list(range(2, 3)),\n",
    "               \"model__min_samples_split\" : list(range(2, 4)),\n",
    "               \"model__min_samples_leaf\" : list(range(1, 4)),\n",
    "              \"model__n_estimators\" : [100, 150],\n",
    "              \n",
    "              }\n",
    "\n",
    "\n",
    "gcv = RandomizedSearchCV(pipe, parameters, n_jobs=-1, cv=5, refit=True, scoring=sMAPE, n_iter=20, random_state=42)\n",
    "\n",
    "gcv.fit(train[X], train[y_final])\n",
    "\n",
    "smape_final_gcv = gcv.best_score_\n",
    "\n",
    "gcv.best_score_"
   ]
  },
  {
   "cell_type": "code",
   "execution_count": 86,
   "metadata": {},
   "outputs": [
    {
     "data": {
      "text/plain": [
       "{'model__n_estimators': 100,\n",
       " 'model__min_samples_split': 2,\n",
       " 'model__min_samples_leaf': 1,\n",
       " 'model__max_depth': 2}"
      ]
     },
     "execution_count": 86,
     "metadata": {},
     "output_type": "execute_result"
    }
   ],
   "source": [
    "gcv.best_params_"
   ]
  },
  {
   "cell_type": "code",
   "execution_count": 87,
   "metadata": {},
   "outputs": [],
   "source": [
    "smape_final_test = smape(test[y_final], gcv.best_estimator_.predict(test[X]))"
   ]
  },
  {
   "cell_type": "code",
   "execution_count": 88,
   "metadata": {},
   "outputs": [
    {
     "name": "stderr",
     "output_type": "stream",
     "text": [
      "C:\\ProgramData\\anaconda3\\lib\\site-packages\\sklearn\\model_selection\\_search.py:305: UserWarning: The total space of parameters 12 is smaller than n_iter=20. Running 12 iterations. For exhaustive searches, use GridSearchCV.\n",
      "  warnings.warn(\n",
      "C:\\ProgramData\\anaconda3\\lib\\site-packages\\imblearn\\pipeline.py:297: DataConversionWarning: A column-vector y was passed when a 1d array was expected. Please change the shape of y to (n_samples,), for example using ravel().\n",
      "  self._final_estimator.fit(Xt, yt, **fit_params_last_step)\n"
     ]
    },
    {
     "name": "stdout",
     "output_type": "stream",
     "text": [
      "CPU times: total: 17.7 s\n",
      "Wall time: 1min 52s\n"
     ]
    },
    {
     "data": {
      "text/plain": [
       "-7.75270078950648"
      ]
     },
     "execution_count": 88,
     "metadata": {},
     "output_type": "execute_result"
    }
   ],
   "source": [
    "%%time\n",
    "\n",
    "parameters = { \"model__max_depth\" : list(range(2, 3)),\n",
    "               \"model__min_samples_split\" : list(range(2, 4)),\n",
    "               \"model__min_samples_leaf\" : list(range(1, 4)),\n",
    "              \"model__n_estimators\" : [100, 150],\n",
    "              \n",
    "              }\n",
    "\n",
    "\n",
    "gcv = RandomizedSearchCV(pipe, parameters, n_jobs=-1, cv=5, refit=True, scoring=sMAPE, n_iter=20, random_state=42)\n",
    "\n",
    "gcv.fit(train[X], train[y_rougher])\n",
    "\n",
    "smape_rougher_gcv = gcv.best_score_\n",
    "\n",
    "gcv.best_score_"
   ]
  },
  {
   "cell_type": "code",
   "execution_count": 89,
   "metadata": {},
   "outputs": [],
   "source": [
    "smape_rougher_test = smape(test[y_rougher], gcv.best_estimator_.predict(test[X]))"
   ]
  },
  {
   "cell_type": "code",
   "execution_count": 90,
   "metadata": {},
   "outputs": [
    {
     "name": "stdout",
     "output_type": "stream",
     "text": [
      "sMAPE на кросс-валидации\n",
      "Итоговый sMAPE: -10.572357338885388\n"
     ]
    }
   ],
   "source": [
    "print('sMAPE на кросс-валидации')\n",
    "final_smape(smape_rougher_gcv, smape_final_gcv)"
   ]
  },
  {
   "cell_type": "code",
   "execution_count": 91,
   "metadata": {},
   "outputs": [
    {
     "name": "stdout",
     "output_type": "stream",
     "text": [
      "sMAPE на test\n",
      "Итоговый sMAPE: 10.022507832577798\n"
     ]
    }
   ],
   "source": [
    "print('sMAPE на test')\n",
    "final_smape(smape_rougher_test, smape_final_test)"
   ]
  },
  {
   "cell_type": "markdown",
   "metadata": {},
   "source": [
    "### SVM"
   ]
  },
  {
   "cell_type": "code",
   "execution_count": 92,
   "metadata": {},
   "outputs": [],
   "source": [
    "from sklearn.svm import SVR"
   ]
  },
  {
   "cell_type": "code",
   "execution_count": 93,
   "metadata": {},
   "outputs": [
    {
     "data": {
      "text/html": [
       "<style>#sk-container-id-8 {color: black;background-color: white;}#sk-container-id-8 pre{padding: 0;}#sk-container-id-8 div.sk-toggleable {background-color: white;}#sk-container-id-8 label.sk-toggleable__label {cursor: pointer;display: block;width: 100%;margin-bottom: 0;padding: 0.3em;box-sizing: border-box;text-align: center;}#sk-container-id-8 label.sk-toggleable__label-arrow:before {content: \"▸\";float: left;margin-right: 0.25em;color: #696969;}#sk-container-id-8 label.sk-toggleable__label-arrow:hover:before {color: black;}#sk-container-id-8 div.sk-estimator:hover label.sk-toggleable__label-arrow:before {color: black;}#sk-container-id-8 div.sk-toggleable__content {max-height: 0;max-width: 0;overflow: hidden;text-align: left;background-color: #f0f8ff;}#sk-container-id-8 div.sk-toggleable__content pre {margin: 0.2em;color: black;border-radius: 0.25em;background-color: #f0f8ff;}#sk-container-id-8 input.sk-toggleable__control:checked~div.sk-toggleable__content {max-height: 200px;max-width: 100%;overflow: auto;}#sk-container-id-8 input.sk-toggleable__control:checked~label.sk-toggleable__label-arrow:before {content: \"▾\";}#sk-container-id-8 div.sk-estimator input.sk-toggleable__control:checked~label.sk-toggleable__label {background-color: #d4ebff;}#sk-container-id-8 div.sk-label input.sk-toggleable__control:checked~label.sk-toggleable__label {background-color: #d4ebff;}#sk-container-id-8 input.sk-hidden--visually {border: 0;clip: rect(1px 1px 1px 1px);clip: rect(1px, 1px, 1px, 1px);height: 1px;margin: -1px;overflow: hidden;padding: 0;position: absolute;width: 1px;}#sk-container-id-8 div.sk-estimator {font-family: monospace;background-color: #f0f8ff;border: 1px dotted black;border-radius: 0.25em;box-sizing: border-box;margin-bottom: 0.5em;}#sk-container-id-8 div.sk-estimator:hover {background-color: #d4ebff;}#sk-container-id-8 div.sk-parallel-item::after {content: \"\";width: 100%;border-bottom: 1px solid gray;flex-grow: 1;}#sk-container-id-8 div.sk-label:hover label.sk-toggleable__label {background-color: #d4ebff;}#sk-container-id-8 div.sk-serial::before {content: \"\";position: absolute;border-left: 1px solid gray;box-sizing: border-box;top: 0;bottom: 0;left: 50%;z-index: 0;}#sk-container-id-8 div.sk-serial {display: flex;flex-direction: column;align-items: center;background-color: white;padding-right: 0.2em;padding-left: 0.2em;position: relative;}#sk-container-id-8 div.sk-item {position: relative;z-index: 1;}#sk-container-id-8 div.sk-parallel {display: flex;align-items: stretch;justify-content: center;background-color: white;position: relative;}#sk-container-id-8 div.sk-item::before, #sk-container-id-8 div.sk-parallel-item::before {content: \"\";position: absolute;border-left: 1px solid gray;box-sizing: border-box;top: 0;bottom: 0;left: 50%;z-index: -1;}#sk-container-id-8 div.sk-parallel-item {display: flex;flex-direction: column;z-index: 1;position: relative;background-color: white;}#sk-container-id-8 div.sk-parallel-item:first-child::after {align-self: flex-end;width: 50%;}#sk-container-id-8 div.sk-parallel-item:last-child::after {align-self: flex-start;width: 50%;}#sk-container-id-8 div.sk-parallel-item:only-child::after {width: 0;}#sk-container-id-8 div.sk-dashed-wrapped {border: 1px dashed gray;margin: 0 0.4em 0.5em 0.4em;box-sizing: border-box;padding-bottom: 0.4em;background-color: white;}#sk-container-id-8 div.sk-label label {font-family: monospace;font-weight: bold;display: inline-block;line-height: 1.2em;}#sk-container-id-8 div.sk-label-container {text-align: center;}#sk-container-id-8 div.sk-container {/* jupyter's `normalize.less` sets `[hidden] { display: none; }` but bootstrap.min.css set `[hidden] { display: none !important; }` so we also need the `!important` here to be able to override the default hidden behavior on the sphinx rendered scikit-learn.org. See: https://github.com/scikit-learn/scikit-learn/issues/21755 */display: inline-block !important;position: relative;}#sk-container-id-8 div.sk-text-repr-fallback {display: none;}</style><div id=\"sk-container-id-8\" class=\"sk-top-container\"><div class=\"sk-text-repr-fallback\"><pre>Pipeline(steps=[(&#x27;imputer&#x27;, Imputer_ffill()),\n",
       "                (&#x27;preprocessor_feature&#x27;,\n",
       "                 ColumnTransformer(transformers=[(&#x27;num&#x27;,\n",
       "                                                  Pipeline(steps=[(&#x27;scaler&#x27;,\n",
       "                                                                   StandardScaler())]),\n",
       "                                                  Index([&#x27;primary_cleaner.input.sulfate&#x27;, &#x27;primary_cleaner.input.depressant&#x27;,\n",
       "       &#x27;primary_cleaner.input.feed_size&#x27;, &#x27;primary_cleaner.input.xanthate&#x27;,\n",
       "       &#x27;primary_cleaner.state.floatbank8_a_air&#x27;,\n",
       "       &#x27;primary_cleane...\n",
       "       &#x27;secondary_cleaner.state.floatbank4_b_air&#x27;,\n",
       "       &#x27;secondary_cleaner.state.floatbank4_b_level&#x27;,\n",
       "       &#x27;secondary_cleaner.state.floatbank5_a_air&#x27;,\n",
       "       &#x27;secondary_cleaner.state.floatbank5_a_level&#x27;,\n",
       "       &#x27;secondary_cleaner.state.floatbank5_b_air&#x27;,\n",
       "       &#x27;secondary_cleaner.state.floatbank5_b_level&#x27;,\n",
       "       &#x27;secondary_cleaner.state.floatbank6_a_air&#x27;,\n",
       "       &#x27;secondary_cleaner.state.floatbank6_a_level&#x27;],\n",
       "      dtype=&#x27;object&#x27;))])),\n",
       "                (&#x27;model&#x27;, SVR())])</pre><b>In a Jupyter environment, please rerun this cell to show the HTML representation or trust the notebook. <br />On GitHub, the HTML representation is unable to render, please try loading this page with nbviewer.org.</b></div><div class=\"sk-container\" hidden><div class=\"sk-item sk-dashed-wrapped\"><div class=\"sk-label-container\"><div class=\"sk-label sk-toggleable\"><input class=\"sk-toggleable__control sk-hidden--visually\" id=\"sk-estimator-id-40\" type=\"checkbox\" ><label for=\"sk-estimator-id-40\" class=\"sk-toggleable__label sk-toggleable__label-arrow\">Pipeline</label><div class=\"sk-toggleable__content\"><pre>Pipeline(steps=[(&#x27;imputer&#x27;, Imputer_ffill()),\n",
       "                (&#x27;preprocessor_feature&#x27;,\n",
       "                 ColumnTransformer(transformers=[(&#x27;num&#x27;,\n",
       "                                                  Pipeline(steps=[(&#x27;scaler&#x27;,\n",
       "                                                                   StandardScaler())]),\n",
       "                                                  Index([&#x27;primary_cleaner.input.sulfate&#x27;, &#x27;primary_cleaner.input.depressant&#x27;,\n",
       "       &#x27;primary_cleaner.input.feed_size&#x27;, &#x27;primary_cleaner.input.xanthate&#x27;,\n",
       "       &#x27;primary_cleaner.state.floatbank8_a_air&#x27;,\n",
       "       &#x27;primary_cleane...\n",
       "       &#x27;secondary_cleaner.state.floatbank4_b_air&#x27;,\n",
       "       &#x27;secondary_cleaner.state.floatbank4_b_level&#x27;,\n",
       "       &#x27;secondary_cleaner.state.floatbank5_a_air&#x27;,\n",
       "       &#x27;secondary_cleaner.state.floatbank5_a_level&#x27;,\n",
       "       &#x27;secondary_cleaner.state.floatbank5_b_air&#x27;,\n",
       "       &#x27;secondary_cleaner.state.floatbank5_b_level&#x27;,\n",
       "       &#x27;secondary_cleaner.state.floatbank6_a_air&#x27;,\n",
       "       &#x27;secondary_cleaner.state.floatbank6_a_level&#x27;],\n",
       "      dtype=&#x27;object&#x27;))])),\n",
       "                (&#x27;model&#x27;, SVR())])</pre></div></div></div><div class=\"sk-serial\"><div class=\"sk-item\"><div class=\"sk-estimator sk-toggleable\"><input class=\"sk-toggleable__control sk-hidden--visually\" id=\"sk-estimator-id-41\" type=\"checkbox\" ><label for=\"sk-estimator-id-41\" class=\"sk-toggleable__label sk-toggleable__label-arrow\">Imputer_ffill</label><div class=\"sk-toggleable__content\"><pre>Imputer_ffill()</pre></div></div></div><div class=\"sk-item sk-dashed-wrapped\"><div class=\"sk-label-container\"><div class=\"sk-label sk-toggleable\"><input class=\"sk-toggleable__control sk-hidden--visually\" id=\"sk-estimator-id-42\" type=\"checkbox\" ><label for=\"sk-estimator-id-42\" class=\"sk-toggleable__label sk-toggleable__label-arrow\">preprocessor_feature: ColumnTransformer</label><div class=\"sk-toggleable__content\"><pre>ColumnTransformer(transformers=[(&#x27;num&#x27;,\n",
       "                                 Pipeline(steps=[(&#x27;scaler&#x27;, StandardScaler())]),\n",
       "                                 Index([&#x27;primary_cleaner.input.sulfate&#x27;, &#x27;primary_cleaner.input.depressant&#x27;,\n",
       "       &#x27;primary_cleaner.input.feed_size&#x27;, &#x27;primary_cleaner.input.xanthate&#x27;,\n",
       "       &#x27;primary_cleaner.state.floatbank8_a_air&#x27;,\n",
       "       &#x27;primary_cleaner.state.floatbank8_a_level&#x27;,\n",
       "       &#x27;primary_cleaner.state.floatbank8_b_air&#x27;...\n",
       "       &#x27;secondary_cleaner.state.floatbank4_b_air&#x27;,\n",
       "       &#x27;secondary_cleaner.state.floatbank4_b_level&#x27;,\n",
       "       &#x27;secondary_cleaner.state.floatbank5_a_air&#x27;,\n",
       "       &#x27;secondary_cleaner.state.floatbank5_a_level&#x27;,\n",
       "       &#x27;secondary_cleaner.state.floatbank5_b_air&#x27;,\n",
       "       &#x27;secondary_cleaner.state.floatbank5_b_level&#x27;,\n",
       "       &#x27;secondary_cleaner.state.floatbank6_a_air&#x27;,\n",
       "       &#x27;secondary_cleaner.state.floatbank6_a_level&#x27;],\n",
       "      dtype=&#x27;object&#x27;))])</pre></div></div></div><div class=\"sk-parallel\"><div class=\"sk-parallel-item\"><div class=\"sk-item\"><div class=\"sk-label-container\"><div class=\"sk-label sk-toggleable\"><input class=\"sk-toggleable__control sk-hidden--visually\" id=\"sk-estimator-id-43\" type=\"checkbox\" ><label for=\"sk-estimator-id-43\" class=\"sk-toggleable__label sk-toggleable__label-arrow\">num</label><div class=\"sk-toggleable__content\"><pre>Index([&#x27;primary_cleaner.input.sulfate&#x27;, &#x27;primary_cleaner.input.depressant&#x27;,\n",
       "       &#x27;primary_cleaner.input.feed_size&#x27;, &#x27;primary_cleaner.input.xanthate&#x27;,\n",
       "       &#x27;primary_cleaner.state.floatbank8_a_air&#x27;,\n",
       "       &#x27;primary_cleaner.state.floatbank8_a_level&#x27;,\n",
       "       &#x27;primary_cleaner.state.floatbank8_b_air&#x27;,\n",
       "       &#x27;primary_cleaner.state.floatbank8_b_level&#x27;,\n",
       "       &#x27;primary_cleaner.state.floatbank8_c_air&#x27;,\n",
       "       &#x27;primary_cleaner.state.floatbank8_c_level&#x27;,\n",
       "       &#x27;primary_cleaner.state.floatbank8_d_air&#x27;,\n",
       "       &#x27;primary_cleaner.state.floatbank8_d_level&#x27;, &#x27;rougher.input.feed_ag&#x27;,\n",
       "       &#x27;rougher.input.feed_pb&#x27;, &#x27;rougher.input.feed_rate&#x27;,\n",
       "       &#x27;rougher.input.feed_size&#x27;, &#x27;rougher.input.feed_sol&#x27;,\n",
       "       &#x27;rougher.input.feed_au&#x27;, &#x27;rougher.input.floatbank10_sulfate&#x27;,\n",
       "       &#x27;rougher.input.floatbank10_xanthate&#x27;,\n",
       "       &#x27;rougher.input.floatbank11_sulfate&#x27;,\n",
       "       &#x27;rougher.input.floatbank11_xanthate&#x27;, &#x27;rougher.state.floatbank10_a_air&#x27;,\n",
       "       &#x27;rougher.state.floatbank10_a_level&#x27;, &#x27;rougher.state.floatbank10_b_air&#x27;,\n",
       "       &#x27;rougher.state.floatbank10_b_level&#x27;, &#x27;rougher.state.floatbank10_c_air&#x27;,\n",
       "       &#x27;rougher.state.floatbank10_c_level&#x27;, &#x27;rougher.state.floatbank10_d_air&#x27;,\n",
       "       &#x27;rougher.state.floatbank10_d_level&#x27;, &#x27;rougher.state.floatbank10_e_air&#x27;,\n",
       "       &#x27;rougher.state.floatbank10_e_level&#x27;, &#x27;rougher.state.floatbank10_f_air&#x27;,\n",
       "       &#x27;rougher.state.floatbank10_f_level&#x27;,\n",
       "       &#x27;secondary_cleaner.state.floatbank2_a_air&#x27;,\n",
       "       &#x27;secondary_cleaner.state.floatbank2_a_level&#x27;,\n",
       "       &#x27;secondary_cleaner.state.floatbank2_b_air&#x27;,\n",
       "       &#x27;secondary_cleaner.state.floatbank2_b_level&#x27;,\n",
       "       &#x27;secondary_cleaner.state.floatbank3_a_air&#x27;,\n",
       "       &#x27;secondary_cleaner.state.floatbank3_a_level&#x27;,\n",
       "       &#x27;secondary_cleaner.state.floatbank3_b_air&#x27;,\n",
       "       &#x27;secondary_cleaner.state.floatbank3_b_level&#x27;,\n",
       "       &#x27;secondary_cleaner.state.floatbank4_a_air&#x27;,\n",
       "       &#x27;secondary_cleaner.state.floatbank4_a_level&#x27;,\n",
       "       &#x27;secondary_cleaner.state.floatbank4_b_air&#x27;,\n",
       "       &#x27;secondary_cleaner.state.floatbank4_b_level&#x27;,\n",
       "       &#x27;secondary_cleaner.state.floatbank5_a_air&#x27;,\n",
       "       &#x27;secondary_cleaner.state.floatbank5_a_level&#x27;,\n",
       "       &#x27;secondary_cleaner.state.floatbank5_b_air&#x27;,\n",
       "       &#x27;secondary_cleaner.state.floatbank5_b_level&#x27;,\n",
       "       &#x27;secondary_cleaner.state.floatbank6_a_air&#x27;,\n",
       "       &#x27;secondary_cleaner.state.floatbank6_a_level&#x27;],\n",
       "      dtype=&#x27;object&#x27;)</pre></div></div></div><div class=\"sk-serial\"><div class=\"sk-item\"><div class=\"sk-serial\"><div class=\"sk-item\"><div class=\"sk-estimator sk-toggleable\"><input class=\"sk-toggleable__control sk-hidden--visually\" id=\"sk-estimator-id-44\" type=\"checkbox\" ><label for=\"sk-estimator-id-44\" class=\"sk-toggleable__label sk-toggleable__label-arrow\">StandardScaler</label><div class=\"sk-toggleable__content\"><pre>StandardScaler()</pre></div></div></div></div></div></div></div></div></div></div><div class=\"sk-item\"><div class=\"sk-estimator sk-toggleable\"><input class=\"sk-toggleable__control sk-hidden--visually\" id=\"sk-estimator-id-45\" type=\"checkbox\" ><label for=\"sk-estimator-id-45\" class=\"sk-toggleable__label sk-toggleable__label-arrow\">SVR</label><div class=\"sk-toggleable__content\"><pre>SVR()</pre></div></div></div></div></div></div></div>"
      ],
      "text/plain": [
       "Pipeline(steps=[('imputer', Imputer_ffill()),\n",
       "                ('preprocessor_feature',\n",
       "                 ColumnTransformer(transformers=[('num',\n",
       "                                                  Pipeline(steps=[('scaler',\n",
       "                                                                   StandardScaler())]),\n",
       "                                                  Index(['primary_cleaner.input.sulfate', 'primary_cleaner.input.depressant',\n",
       "       'primary_cleaner.input.feed_size', 'primary_cleaner.input.xanthate',\n",
       "       'primary_cleaner.state.floatbank8_a_air',\n",
       "       'primary_cleane...\n",
       "       'secondary_cleaner.state.floatbank4_b_air',\n",
       "       'secondary_cleaner.state.floatbank4_b_level',\n",
       "       'secondary_cleaner.state.floatbank5_a_air',\n",
       "       'secondary_cleaner.state.floatbank5_a_level',\n",
       "       'secondary_cleaner.state.floatbank5_b_air',\n",
       "       'secondary_cleaner.state.floatbank5_b_level',\n",
       "       'secondary_cleaner.state.floatbank6_a_air',\n",
       "       'secondary_cleaner.state.floatbank6_a_level'],\n",
       "      dtype='object'))])),\n",
       "                ('model', SVR())])"
      ]
     },
     "execution_count": 93,
     "metadata": {},
     "output_type": "execute_result"
    }
   ],
   "source": [
    "pipe = Pipeline(steps=[\n",
    "#     ('outliers', Outliers_Feed_Size()),\n",
    "    ('imputer', Imputer_ffill()),\n",
    "    ('preprocessor_feature', preprocessor),\n",
    "    ('model', SVR())\n",
    "    \n",
    "])\n",
    "\n",
    "pipe"
   ]
  },
  {
   "cell_type": "code",
   "execution_count": 94,
   "metadata": {},
   "outputs": [
    {
     "name": "stderr",
     "output_type": "stream",
     "text": [
      "C:\\ProgramData\\anaconda3\\lib\\site-packages\\sklearn\\utils\\validation.py:1143: DataConversionWarning: A column-vector y was passed when a 1d array was expected. Please change the shape of y to (n_samples, ), for example using ravel().\n",
      "  y = column_or_1d(y, warn=True)\n"
     ]
    },
    {
     "name": "stdout",
     "output_type": "stream",
     "text": [
      "CPU times: total: 10.9 s\n",
      "Wall time: 1min 32s\n"
     ]
    },
    {
     "data": {
      "text/plain": [
       "-11.540171923340717"
      ]
     },
     "execution_count": 94,
     "metadata": {},
     "output_type": "execute_result"
    }
   ],
   "source": [
    "%%time\n",
    "\n",
    "parameters = { \"model__kernel\" : ['poly', 'rbf'],\n",
    "               \"model__degree\" : list(range(2, 5)),\n",
    "              }\n",
    "\n",
    "\n",
    "gcv = RandomizedSearchCV(pipe, parameters, n_jobs=-1, cv=5, refit=True, scoring=sMAPE, n_iter=5, random_state=42)\n",
    "\n",
    "gcv.fit(train[X], train[y_final])\n",
    "\n",
    "smape_final_gcv = gcv.best_score_\n",
    "\n",
    "gcv.best_score_"
   ]
  },
  {
   "cell_type": "code",
   "execution_count": 95,
   "metadata": {},
   "outputs": [
    {
     "data": {
      "text/plain": [
       "{'model__kernel': 'rbf', 'model__degree': 2}"
      ]
     },
     "execution_count": 95,
     "metadata": {},
     "output_type": "execute_result"
    }
   ],
   "source": [
    "gcv.best_params_"
   ]
  },
  {
   "cell_type": "code",
   "execution_count": 96,
   "metadata": {},
   "outputs": [
    {
     "name": "stderr",
     "output_type": "stream",
     "text": [
      "C:\\ProgramData\\anaconda3\\lib\\site-packages\\sklearn\\model_selection\\_search.py:305: UserWarning: The total space of parameters 6 is smaller than n_iter=20. Running 6 iterations. For exhaustive searches, use GridSearchCV.\n",
      "  warnings.warn(\n",
      "C:\\ProgramData\\anaconda3\\lib\\site-packages\\sklearn\\utils\\validation.py:1143: DataConversionWarning: A column-vector y was passed when a 1d array was expected. Please change the shape of y to (n_samples, ), for example using ravel().\n",
      "  y = column_or_1d(y, warn=True)\n"
     ]
    },
    {
     "name": "stdout",
     "output_type": "stream",
     "text": [
      "CPU times: total: 11.2 s\n",
      "Wall time: 1min 41s\n"
     ]
    },
    {
     "data": {
      "text/plain": [
       "-7.9289877594124265"
      ]
     },
     "execution_count": 96,
     "metadata": {},
     "output_type": "execute_result"
    }
   ],
   "source": [
    "%%time\n",
    "\n",
    "parameters = { \"model__kernel\" : ['poly', 'rbf'],\n",
    "               \"model__degree\" : list(range(2, 5)),\n",
    "              }\n",
    "\n",
    "\n",
    "\n",
    "gcv = RandomizedSearchCV(pipe, parameters, n_jobs=-1, cv=5, refit=True, scoring=sMAPE, n_iter=20, random_state=42)\n",
    "\n",
    "gcv.fit(train[X], train[y_rougher])\n",
    "\n",
    "smape_rougher_gcv = gcv.best_score_\n",
    "\n",
    "gcv.best_score_"
   ]
  },
  {
   "cell_type": "code",
   "execution_count": 97,
   "metadata": {},
   "outputs": [
    {
     "name": "stdout",
     "output_type": "stream",
     "text": [
      "sMAPE на кросс-валидации\n",
      "Итоговый sMAPE: -10.637375882358645\n"
     ]
    }
   ],
   "source": [
    "print('sMAPE на кросс-валидации')\n",
    "final_smape(smape_rougher_gcv, smape_final_gcv)"
   ]
  },
  {
   "cell_type": "markdown",
   "metadata": {},
   "source": [
    "## Вывод"
   ]
  },
  {
   "cell_type": "markdown",
   "metadata": {},
   "source": [
    "\n",
    "\n",
    "В данной работе мы разработали 3 модели машинного обучения:\n",
    "* Дерево решений\n",
    "* Случайный лес\n",
    "* Метод опорных векторов\n",
    "\n",
    "Наша модель предсказывала коэффициент восставновления золота из золотосодержащей руды. В качестве метрики мы использовали введенную нами метрику sMAPE. На основании которой модели разделили места следующим образом:\n",
    "\n",
    "* Лучше всех себя показала модель Случайного леса:\n",
    " * На кросс-валидации: 10.5\n",
    " * На test:  10.02\n",
    "* На втором месте машина опорных векторов\n",
    " * На кросс-валидации: 10.6\n",
    "* На третьем месте Дерево решений\n",
    " * На кросс-валидации: 10.8\n",
    " \n"
   ]
  }
 ],
 "metadata": {
  "kernelspec": {
   "display_name": "Python 3 (ipykernel)",
   "language": "python",
   "name": "python3"
  },
  "language_info": {
   "codemirror_mode": {
    "name": "ipython",
    "version": 3
   },
   "file_extension": ".py",
   "mimetype": "text/x-python",
   "name": "python",
   "nbconvert_exporter": "python",
   "pygments_lexer": "ipython3",
   "version": "3.10.9"
  },
  "toc": {
   "base_numbering": 1,
   "nav_menu": {},
   "number_sections": true,
   "sideBar": true,
   "skip_h1_title": true,
   "title_cell": "Содержание",
   "title_sidebar": "Contents",
   "toc_cell": true,
   "toc_position": {},
   "toc_section_display": true,
   "toc_window_display": false
  }
 },
 "nbformat": 4,
 "nbformat_minor": 2
}
