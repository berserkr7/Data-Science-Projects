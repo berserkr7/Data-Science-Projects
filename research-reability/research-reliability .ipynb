{
 "cells": [
  {
   "cell_type": "markdown",
   "id": "9460ba1e",
   "metadata": {},
   "source": [
    "# Исследование надежности заемщиков\n"
   ]
  },
  {
   "cell_type": "markdown",
   "id": "09d69d3f",
   "metadata": {},
   "source": [
    "**Заказчик — кредитный отдел банка.**\n",
    "\n",
    "**Задача:**\n",
    "Нужно разобраться, влияет ли семейное положение и количество детей клиента на факт погашения кредита в срок. Входные данные от банка — статистика о платёжеспособности клиентов.\n",
    "Результаты исследования будут учтены при построении модели кредитного скоринга "
   ]
  },
  {
   "cell_type": "markdown",
   "id": "7a56c500",
   "metadata": {},
   "source": [
    "**Описание данных:**\n",
    "\n",
    "* **children** — количество детей в семье\n",
    "* **days_employed** — общий трудовой стаж в днях\n",
    "* **dob_years** — возраст клиента в годах\n",
    "* **education** — уровень образования клиента\n",
    "* **education_id** — идентификатор уровня образования\n",
    "* **family_status** — семейное положение\n",
    "* **family_status_id** — идентификатор семейного положения\n",
    "* **gender** — пол клиента\n",
    "* **income_type** — тип занятости\n",
    "* **debt** — имел ли задолженность по возврату кредитов\n",
    "* **total_income** — ежемесячный доход\n",
    "* **purpose** — цель получения кредита"
   ]
  },
  {
   "cell_type": "markdown",
   "id": "1b6bdf91",
   "metadata": {},
   "source": [
    "## Загрузка данных"
   ]
  },
  {
   "cell_type": "code",
   "execution_count": 1,
   "id": "b00332f2",
   "metadata": {},
   "outputs": [],
   "source": [
    "import pandas as pd\n",
    "import phik\n",
    "import seaborn as sns"
   ]
  },
  {
   "cell_type": "code",
   "execution_count": 2,
   "id": "5cdffbf3",
   "metadata": {},
   "outputs": [],
   "source": [
    "try:\n",
    "    data = pd.read_csv('/datasets/data.csv')\n",
    "except:\n",
    "    pass"
   ]
  },
  {
   "cell_type": "markdown",
   "id": "2e4deb43",
   "metadata": {},
   "source": [
    "Выведем 5 строчек датасета:"
   ]
  },
  {
   "cell_type": "code",
   "execution_count": 3,
   "id": "e8de172b",
   "metadata": {},
   "outputs": [
    {
     "data": {
      "text/html": [
       "<div>\n",
       "<style scoped>\n",
       "    .dataframe tbody tr th:only-of-type {\n",
       "        vertical-align: middle;\n",
       "    }\n",
       "\n",
       "    .dataframe tbody tr th {\n",
       "        vertical-align: top;\n",
       "    }\n",
       "\n",
       "    .dataframe thead th {\n",
       "        text-align: right;\n",
       "    }\n",
       "</style>\n",
       "<table border=\"1\" class=\"dataframe\">\n",
       "  <thead>\n",
       "    <tr style=\"text-align: right;\">\n",
       "      <th></th>\n",
       "      <th>children</th>\n",
       "      <th>days_employed</th>\n",
       "      <th>dob_years</th>\n",
       "      <th>education</th>\n",
       "      <th>education_id</th>\n",
       "      <th>family_status</th>\n",
       "      <th>family_status_id</th>\n",
       "      <th>gender</th>\n",
       "      <th>income_type</th>\n",
       "      <th>debt</th>\n",
       "      <th>total_income</th>\n",
       "      <th>purpose</th>\n",
       "    </tr>\n",
       "  </thead>\n",
       "  <tbody>\n",
       "    <tr>\n",
       "      <th>11781</th>\n",
       "      <td>2</td>\n",
       "      <td>-962.440424</td>\n",
       "      <td>39</td>\n",
       "      <td>высшее</td>\n",
       "      <td>0</td>\n",
       "      <td>женат / замужем</td>\n",
       "      <td>0</td>\n",
       "      <td>M</td>\n",
       "      <td>сотрудник</td>\n",
       "      <td>0</td>\n",
       "      <td>455246.047081</td>\n",
       "      <td>сделка с подержанным автомобилем</td>\n",
       "    </tr>\n",
       "    <tr>\n",
       "      <th>10237</th>\n",
       "      <td>0</td>\n",
       "      <td>-12761.820562</td>\n",
       "      <td>59</td>\n",
       "      <td>среднее</td>\n",
       "      <td>1</td>\n",
       "      <td>вдовец / вдова</td>\n",
       "      <td>2</td>\n",
       "      <td>F</td>\n",
       "      <td>сотрудник</td>\n",
       "      <td>0</td>\n",
       "      <td>150625.851649</td>\n",
       "      <td>покупка недвижимости</td>\n",
       "    </tr>\n",
       "    <tr>\n",
       "      <th>3070</th>\n",
       "      <td>0</td>\n",
       "      <td>-7809.310101</td>\n",
       "      <td>55</td>\n",
       "      <td>среднее</td>\n",
       "      <td>1</td>\n",
       "      <td>гражданский брак</td>\n",
       "      <td>1</td>\n",
       "      <td>M</td>\n",
       "      <td>компаньон</td>\n",
       "      <td>1</td>\n",
       "      <td>134244.983422</td>\n",
       "      <td>строительство жилой недвижимости</td>\n",
       "    </tr>\n",
       "    <tr>\n",
       "      <th>11215</th>\n",
       "      <td>0</td>\n",
       "      <td>-6538.318379</td>\n",
       "      <td>55</td>\n",
       "      <td>СРЕДНЕЕ</td>\n",
       "      <td>1</td>\n",
       "      <td>гражданский брак</td>\n",
       "      <td>1</td>\n",
       "      <td>M</td>\n",
       "      <td>сотрудник</td>\n",
       "      <td>0</td>\n",
       "      <td>139957.861428</td>\n",
       "      <td>сделка с автомобилем</td>\n",
       "    </tr>\n",
       "    <tr>\n",
       "      <th>15693</th>\n",
       "      <td>0</td>\n",
       "      <td>-795.339974</td>\n",
       "      <td>25</td>\n",
       "      <td>СРЕДНЕЕ</td>\n",
       "      <td>1</td>\n",
       "      <td>Не женат / не замужем</td>\n",
       "      <td>4</td>\n",
       "      <td>M</td>\n",
       "      <td>сотрудник</td>\n",
       "      <td>0</td>\n",
       "      <td>153536.867711</td>\n",
       "      <td>покупка своего жилья</td>\n",
       "    </tr>\n",
       "  </tbody>\n",
       "</table>\n",
       "</div>"
      ],
      "text/plain": [
       "       children  days_employed  dob_years education  education_id  \\\n",
       "11781         2    -962.440424         39    высшее             0   \n",
       "10237         0  -12761.820562         59   среднее             1   \n",
       "3070          0   -7809.310101         55   среднее             1   \n",
       "11215         0   -6538.318379         55   СРЕДНЕЕ             1   \n",
       "15693         0    -795.339974         25   СРЕДНЕЕ             1   \n",
       "\n",
       "               family_status  family_status_id gender income_type  debt  \\\n",
       "11781        женат / замужем                 0      M   сотрудник     0   \n",
       "10237         вдовец / вдова                 2      F   сотрудник     0   \n",
       "3070        гражданский брак                 1      M   компаньон     1   \n",
       "11215       гражданский брак                 1      M   сотрудник     0   \n",
       "15693  Не женат / не замужем                 4      M   сотрудник     0   \n",
       "\n",
       "        total_income                           purpose  \n",
       "11781  455246.047081  сделка с подержанным автомобилем  \n",
       "10237  150625.851649              покупка недвижимости  \n",
       "3070   134244.983422  строительство жилой недвижимости  \n",
       "11215  139957.861428              сделка с автомобилем  \n",
       "15693  153536.867711              покупка своего жилья  "
      ]
     },
     "execution_count": 3,
     "metadata": {},
     "output_type": "execute_result"
    }
   ],
   "source": [
    "data.sample(5)"
   ]
  },
  {
   "cell_type": "markdown",
   "id": "6d70e79a",
   "metadata": {},
   "source": [
    "Выведем основную информацию о датасете:"
   ]
  },
  {
   "cell_type": "code",
   "execution_count": 4,
   "id": "3217db46",
   "metadata": {},
   "outputs": [
    {
     "name": "stdout",
     "output_type": "stream",
     "text": [
      "<class 'pandas.core.frame.DataFrame'>\n",
      "RangeIndex: 21525 entries, 0 to 21524\n",
      "Data columns (total 12 columns):\n",
      " #   Column            Non-Null Count  Dtype  \n",
      "---  ------            --------------  -----  \n",
      " 0   children          21525 non-null  int64  \n",
      " 1   days_employed     19351 non-null  float64\n",
      " 2   dob_years         21525 non-null  int64  \n",
      " 3   education         21525 non-null  object \n",
      " 4   education_id      21525 non-null  int64  \n",
      " 5   family_status     21525 non-null  object \n",
      " 6   family_status_id  21525 non-null  int64  \n",
      " 7   gender            21525 non-null  object \n",
      " 8   income_type       21525 non-null  object \n",
      " 9   debt              21525 non-null  int64  \n",
      " 10  total_income      19351 non-null  float64\n",
      " 11  purpose           21525 non-null  object \n",
      "dtypes: float64(2), int64(5), object(5)\n",
      "memory usage: 11.3 MB\n"
     ]
    }
   ],
   "source": [
    "data.info(memory_usage='deep')"
   ]
  },
  {
   "cell_type": "markdown",
   "id": "c4359602",
   "metadata": {},
   "source": [
    "## Предобработка данных"
   ]
  },
  {
   "cell_type": "markdown",
   "id": "cd30a7c9",
   "metadata": {},
   "source": [
    "### Обработка пропусков"
   ]
  },
  {
   "cell_type": "code",
   "execution_count": 5,
   "id": "b25bdcb1",
   "metadata": {},
   "outputs": [
    {
     "data": {
      "text/plain": [
       "children               0\n",
       "days_employed       2174\n",
       "dob_years              0\n",
       "education              0\n",
       "education_id           0\n",
       "family_status          0\n",
       "family_status_id       0\n",
       "gender                 0\n",
       "income_type            0\n",
       "debt                   0\n",
       "total_income        2174\n",
       "purpose                0\n",
       "dtype: int64"
      ]
     },
     "execution_count": 5,
     "metadata": {},
     "output_type": "execute_result"
    }
   ],
   "source": [
    "data.isna().sum()"
   ]
  },
  {
   "cell_type": "markdown",
   "id": "72e4df0c",
   "metadata": {},
   "source": [
    "В двух столбцах есть пропущенные значения. Заполним один из них медианой."
   ]
  },
  {
   "cell_type": "code",
   "execution_count": 6,
   "id": "8a7c477c",
   "metadata": {},
   "outputs": [],
   "source": [
    "for t in data['income_type'].unique():\n",
    "    data.loc[(data['income_type'] == t) & (data['total_income'].isna()), 'total_income'] = \\\n",
    "    data.loc[(data['income_type'] == t), 'total_income'].median()"
   ]
  },
  {
   "cell_type": "code",
   "execution_count": 7,
   "id": "e161fdd9",
   "metadata": {},
   "outputs": [
    {
     "data": {
      "text/plain": [
       "children               0\n",
       "days_employed       2174\n",
       "dob_years              0\n",
       "education              0\n",
       "education_id           0\n",
       "family_status          0\n",
       "family_status_id       0\n",
       "gender                 0\n",
       "income_type            0\n",
       "debt                   0\n",
       "total_income           0\n",
       "purpose                0\n",
       "dtype: int64"
      ]
     },
     "execution_count": 7,
     "metadata": {},
     "output_type": "execute_result"
    }
   ],
   "source": [
    "data.isna().sum()"
   ]
  },
  {
   "cell_type": "markdown",
   "id": "482d0fda",
   "metadata": {},
   "source": [
    "### Обработка аномальных значений"
   ]
  },
  {
   "cell_type": "markdown",
   "id": "63b3a8ab",
   "metadata": {},
   "source": [
    "В данных могут встречаться артефакты (аномалии) — значения, которые не отражают действительность и появились по какой-то ошибке. таким артефактом будет отрицательное количество дней трудового стажа в столбце days_employed."
   ]
  },
  {
   "cell_type": "code",
   "execution_count": 8,
   "id": "f3af7ccf",
   "metadata": {},
   "outputs": [],
   "source": [
    "data['days_employed'] = data['days_employed'].abs()"
   ]
  },
  {
   "cell_type": "markdown",
   "id": "c79d0096",
   "metadata": {},
   "source": [
    "Для каждого типа занятости выведем медианное значение трудового стажа days_employed в днях."
   ]
  },
  {
   "cell_type": "code",
   "execution_count": 9,
   "id": "b82062b7",
   "metadata": {},
   "outputs": [
    {
     "data": {
      "text/plain": [
       "income_type\n",
       "безработный        366413.652744\n",
       "в декрете            3296.759962\n",
       "госслужащий          2689.368353\n",
       "компаньон            1547.382223\n",
       "пенсионер          365213.306266\n",
       "предприниматель       520.848083\n",
       "сотрудник            1574.202821\n",
       "студент               578.751554\n",
       "Name: days_employed, dtype: float64"
      ]
     },
     "execution_count": 9,
     "metadata": {},
     "output_type": "execute_result"
    }
   ],
   "source": [
    "data.groupby('income_type')['days_employed'].agg('median')"
   ]
  },
  {
   "cell_type": "markdown",
   "id": "ed8a1aad",
   "metadata": {},
   "source": [
    "перечень уникальных значений столбца children"
   ]
  },
  {
   "cell_type": "code",
   "execution_count": 10,
   "id": "5fee7b17",
   "metadata": {},
   "outputs": [
    {
     "data": {
      "text/plain": [
       "array([ 1,  0,  3,  2, -1,  4, 20,  5], dtype=int64)"
      ]
     },
     "execution_count": 10,
     "metadata": {},
     "output_type": "execute_result"
    }
   ],
   "source": [
    "data['children'].unique()"
   ]
  },
  {
   "cell_type": "markdown",
   "id": "a69f8a30",
   "metadata": {},
   "source": [
    " В столбце children есть два аномальных значения. Удалим строки, в которых встречаются такие аномальные значения из датафрейма data."
   ]
  },
  {
   "cell_type": "code",
   "execution_count": 11,
   "id": "2a44133f",
   "metadata": {},
   "outputs": [],
   "source": [
    "data = data[(data['children'] != -1) & (data['children'] != 20)]"
   ]
  },
  {
   "cell_type": "code",
   "execution_count": 12,
   "id": "8fe3497b",
   "metadata": {},
   "outputs": [
    {
     "data": {
      "text/plain": [
       "array([1, 0, 3, 2, 4, 5], dtype=int64)"
      ]
     },
     "execution_count": 12,
     "metadata": {},
     "output_type": "execute_result"
    }
   ],
   "source": [
    "data['children'].unique()"
   ]
  },
  {
   "cell_type": "markdown",
   "id": "a00cb62a",
   "metadata": {},
   "source": [
    "Заполним пропуски в столбце days_employed медианными значениями по каждого типа занятости income_type"
   ]
  },
  {
   "cell_type": "code",
   "execution_count": 13,
   "id": "b7ab1a19",
   "metadata": {},
   "outputs": [],
   "source": [
    "for t in data['income_type'].unique():\n",
    "    data.loc[(data['income_type'] == t) & (data['days_employed'].isna()), 'days_employed'] = \\\n",
    "    data.loc[(data['income_type'] == t), 'days_employed'].median()"
   ]
  },
  {
   "cell_type": "code",
   "execution_count": 14,
   "id": "778e4ff0",
   "metadata": {},
   "outputs": [
    {
     "data": {
      "text/plain": [
       "children            0\n",
       "days_employed       0\n",
       "dob_years           0\n",
       "education           0\n",
       "education_id        0\n",
       "family_status       0\n",
       "family_status_id    0\n",
       "gender              0\n",
       "income_type         0\n",
       "debt                0\n",
       "total_income        0\n",
       "purpose             0\n",
       "dtype: int64"
      ]
     },
     "execution_count": 14,
     "metadata": {},
     "output_type": "execute_result"
    }
   ],
   "source": [
    "data.isna().sum()"
   ]
  },
  {
   "cell_type": "markdown",
   "id": "291d4f6c",
   "metadata": {},
   "source": [
    "Пропуски обработали!"
   ]
  },
  {
   "cell_type": "markdown",
   "id": "415f9a2f",
   "metadata": {},
   "source": [
    "### Изменение типов данных"
   ]
  },
  {
   "cell_type": "markdown",
   "id": "2f3e917f",
   "metadata": {},
   "source": [
    "Заменим вещественный тип данных в столбце total_income на целочисленный с помощью метода astype()."
   ]
  },
  {
   "cell_type": "code",
   "execution_count": 15,
   "id": "dca602ef",
   "metadata": {},
   "outputs": [],
   "source": [
    "data['total_income'] = data['total_income'].astype(int)"
   ]
  },
  {
   "cell_type": "markdown",
   "id": "3e8b1708",
   "metadata": {},
   "source": [
    "### Обработка дубликатов"
   ]
  },
  {
   "cell_type": "markdown",
   "id": "0daba495",
   "metadata": {},
   "source": [
    "Обработаем неявные дубликаты в столбце education. В этом столбце есть одни и те же значения, но записанные по-разному: с использованием заглавных и строчных букв. "
   ]
  },
  {
   "cell_type": "code",
   "execution_count": 16,
   "id": "2c103eee",
   "metadata": {},
   "outputs": [],
   "source": [
    "data['education'] = data['education'].str.lower()"
   ]
  },
  {
   "cell_type": "code",
   "execution_count": 17,
   "id": "86a849b0",
   "metadata": {},
   "outputs": [
    {
     "data": {
      "text/plain": [
       "71"
      ]
     },
     "execution_count": 17,
     "metadata": {},
     "output_type": "execute_result"
    }
   ],
   "source": [
    "data.duplicated().sum()"
   ]
  },
  {
   "cell_type": "code",
   "execution_count": 18,
   "id": "97e0f564",
   "metadata": {},
   "outputs": [],
   "source": [
    "data = data.drop_duplicates()"
   ]
  },
  {
   "cell_type": "markdown",
   "id": "f24295c1",
   "metadata": {},
   "source": [
    "## Категоризация данных"
   ]
  },
  {
   "cell_type": "markdown",
   "id": "f0a3834c",
   "metadata": {},
   "source": [
    "На основании диапазонов, указанных ниже, создадим в датафрейме data столбец total_income_category с категориями:\n",
    "\n",
    "- 0–30000 — `'E'`;\n",
    "- 30001–50000 — `'D'`;\n",
    "- 50001–200000 — `'C'`;\n",
    "- 200001–1000000 — `'B'`;\n",
    "- 1000001 и выше — `'A'`."
   ]
  },
  {
   "cell_type": "code",
   "execution_count": 19,
   "id": "15a69a09",
   "metadata": {},
   "outputs": [],
   "source": [
    "def categorize_income(income):\n",
    "    try:\n",
    "        if 0 <= income <= 30000:\n",
    "            return 'E'\n",
    "        elif 30001 <= income <= 50000:\n",
    "            return 'D'\n",
    "        elif 50001 <= income <= 200000:\n",
    "            return 'C'\n",
    "        elif 200001 <= income <= 1000000:\n",
    "            return 'B'\n",
    "        elif income >= 1000001:\n",
    "            return 'A'\n",
    "    except:\n",
    "        pass"
   ]
  },
  {
   "cell_type": "code",
   "execution_count": 20,
   "id": "4d3946ac",
   "metadata": {},
   "outputs": [],
   "source": [
    "data['total_income_category'] = data['total_income'].apply(categorize_income)"
   ]
  },
  {
   "cell_type": "markdown",
   "id": "0ecc71e3",
   "metadata": {},
   "source": [
    "Выведем на экран перечень уникальных целей взятия кредита из столбца purpose."
   ]
  },
  {
   "cell_type": "code",
   "execution_count": 21,
   "id": "e1f1c21b",
   "metadata": {},
   "outputs": [
    {
     "data": {
      "text/plain": [
       "array(['покупка жилья', 'приобретение автомобиля',\n",
       "       'дополнительное образование', 'сыграть свадьбу',\n",
       "       'операции с жильем', 'образование', 'на проведение свадьбы',\n",
       "       'покупка жилья для семьи', 'покупка недвижимости',\n",
       "       'покупка коммерческой недвижимости', 'покупка жилой недвижимости',\n",
       "       'строительство собственной недвижимости', 'недвижимость',\n",
       "       'строительство недвижимости', 'на покупку подержанного автомобиля',\n",
       "       'на покупку своего автомобиля',\n",
       "       'операции с коммерческой недвижимостью',\n",
       "       'строительство жилой недвижимости', 'жилье',\n",
       "       'операции со своей недвижимостью', 'автомобили',\n",
       "       'заняться образованием', 'сделка с подержанным автомобилем',\n",
       "       'получение образования', 'автомобиль', 'свадьба',\n",
       "       'получение дополнительного образования', 'покупка своего жилья',\n",
       "       'операции с недвижимостью', 'получение высшего образования',\n",
       "       'свой автомобиль', 'сделка с автомобилем',\n",
       "       'профильное образование', 'высшее образование',\n",
       "       'покупка жилья для сдачи', 'на покупку автомобиля', 'ремонт жилью',\n",
       "       'заняться высшим образованием'], dtype=object)"
      ]
     },
     "execution_count": 21,
     "metadata": {},
     "output_type": "execute_result"
    }
   ],
   "source": [
    "data['purpose'].unique()"
   ]
  },
  {
   "cell_type": "markdown",
   "id": "b1ecbe03",
   "metadata": {},
   "source": [
    "Создадим функцию, которая на основании данных из столбца `purpose` сформирует новый столбец `purpose_category`, в который войдут следующие категории:**\n",
    "\n",
    "- `'операции с автомобилем'`,\n",
    "- `'операции с недвижимостью'`,\n",
    "- `'проведение свадьбы'`,\n",
    "- `'получение образования'`."
   ]
  },
  {
   "cell_type": "code",
   "execution_count": 22,
   "id": "d557fc25",
   "metadata": {},
   "outputs": [],
   "source": [
    "def categorize_purpose(row):\n",
    "    try:\n",
    "        if 'автом' in row:\n",
    "            return 'операции с автомобилем'\n",
    "        elif 'жил' in row or 'недвиж' in row:\n",
    "            return 'операции с недвижимостью'\n",
    "        elif 'свад' in row:\n",
    "            return 'проведение свадьбы'\n",
    "        elif 'образов' in row:\n",
    "            return 'получение образования'\n",
    "    except:\n",
    "        return 'нет категории'"
   ]
  },
  {
   "cell_type": "code",
   "execution_count": 23,
   "id": "6d8a8de8",
   "metadata": {},
   "outputs": [],
   "source": [
    "data['purpose_category'] = data['purpose'].apply(categorize_purpose)"
   ]
  },
  {
   "cell_type": "markdown",
   "id": "693e9e53",
   "metadata": {},
   "source": [
    "## EDA"
   ]
  },
  {
   "cell_type": "code",
   "execution_count": 24,
   "id": "5572d19d",
   "metadata": {},
   "outputs": [
    {
     "data": {
      "text/html": [
       "<div>\n",
       "<style scoped>\n",
       "    .dataframe tbody tr th:only-of-type {\n",
       "        vertical-align: middle;\n",
       "    }\n",
       "\n",
       "    .dataframe tbody tr th {\n",
       "        vertical-align: top;\n",
       "    }\n",
       "\n",
       "    .dataframe thead th {\n",
       "        text-align: right;\n",
       "    }\n",
       "</style>\n",
       "<table border=\"1\" class=\"dataframe\">\n",
       "  <thead>\n",
       "    <tr style=\"text-align: right;\">\n",
       "      <th></th>\n",
       "      <th>children</th>\n",
       "      <th>days_employed</th>\n",
       "      <th>dob_years</th>\n",
       "      <th>education</th>\n",
       "      <th>education_id</th>\n",
       "      <th>family_status</th>\n",
       "      <th>family_status_id</th>\n",
       "      <th>gender</th>\n",
       "      <th>income_type</th>\n",
       "      <th>debt</th>\n",
       "      <th>total_income</th>\n",
       "      <th>purpose</th>\n",
       "      <th>total_income_category</th>\n",
       "      <th>purpose_category</th>\n",
       "    </tr>\n",
       "  </thead>\n",
       "  <tbody>\n",
       "    <tr>\n",
       "      <th>0</th>\n",
       "      <td>1</td>\n",
       "      <td>8437.673028</td>\n",
       "      <td>42</td>\n",
       "      <td>высшее</td>\n",
       "      <td>0</td>\n",
       "      <td>женат / замужем</td>\n",
       "      <td>0</td>\n",
       "      <td>F</td>\n",
       "      <td>сотрудник</td>\n",
       "      <td>0</td>\n",
       "      <td>253875</td>\n",
       "      <td>покупка жилья</td>\n",
       "      <td>B</td>\n",
       "      <td>операции с недвижимостью</td>\n",
       "    </tr>\n",
       "    <tr>\n",
       "      <th>1</th>\n",
       "      <td>1</td>\n",
       "      <td>4024.803754</td>\n",
       "      <td>36</td>\n",
       "      <td>среднее</td>\n",
       "      <td>1</td>\n",
       "      <td>женат / замужем</td>\n",
       "      <td>0</td>\n",
       "      <td>F</td>\n",
       "      <td>сотрудник</td>\n",
       "      <td>0</td>\n",
       "      <td>112080</td>\n",
       "      <td>приобретение автомобиля</td>\n",
       "      <td>C</td>\n",
       "      <td>операции с автомобилем</td>\n",
       "    </tr>\n",
       "    <tr>\n",
       "      <th>2</th>\n",
       "      <td>0</td>\n",
       "      <td>5623.422610</td>\n",
       "      <td>33</td>\n",
       "      <td>среднее</td>\n",
       "      <td>1</td>\n",
       "      <td>женат / замужем</td>\n",
       "      <td>0</td>\n",
       "      <td>M</td>\n",
       "      <td>сотрудник</td>\n",
       "      <td>0</td>\n",
       "      <td>145885</td>\n",
       "      <td>покупка жилья</td>\n",
       "      <td>C</td>\n",
       "      <td>операции с недвижимостью</td>\n",
       "    </tr>\n",
       "    <tr>\n",
       "      <th>3</th>\n",
       "      <td>3</td>\n",
       "      <td>4124.747207</td>\n",
       "      <td>32</td>\n",
       "      <td>среднее</td>\n",
       "      <td>1</td>\n",
       "      <td>женат / замужем</td>\n",
       "      <td>0</td>\n",
       "      <td>M</td>\n",
       "      <td>сотрудник</td>\n",
       "      <td>0</td>\n",
       "      <td>267628</td>\n",
       "      <td>дополнительное образование</td>\n",
       "      <td>B</td>\n",
       "      <td>получение образования</td>\n",
       "    </tr>\n",
       "    <tr>\n",
       "      <th>4</th>\n",
       "      <td>0</td>\n",
       "      <td>340266.072047</td>\n",
       "      <td>53</td>\n",
       "      <td>среднее</td>\n",
       "      <td>1</td>\n",
       "      <td>гражданский брак</td>\n",
       "      <td>1</td>\n",
       "      <td>F</td>\n",
       "      <td>пенсионер</td>\n",
       "      <td>0</td>\n",
       "      <td>158616</td>\n",
       "      <td>сыграть свадьбу</td>\n",
       "      <td>C</td>\n",
       "      <td>проведение свадьбы</td>\n",
       "    </tr>\n",
       "  </tbody>\n",
       "</table>\n",
       "</div>"
      ],
      "text/plain": [
       "   children  days_employed  dob_years education  education_id  \\\n",
       "0         1    8437.673028         42    высшее             0   \n",
       "1         1    4024.803754         36   среднее             1   \n",
       "2         0    5623.422610         33   среднее             1   \n",
       "3         3    4124.747207         32   среднее             1   \n",
       "4         0  340266.072047         53   среднее             1   \n",
       "\n",
       "      family_status  family_status_id gender income_type  debt  total_income  \\\n",
       "0   женат / замужем                 0      F   сотрудник     0        253875   \n",
       "1   женат / замужем                 0      F   сотрудник     0        112080   \n",
       "2   женат / замужем                 0      M   сотрудник     0        145885   \n",
       "3   женат / замужем                 0      M   сотрудник     0        267628   \n",
       "4  гражданский брак                 1      F   пенсионер     0        158616   \n",
       "\n",
       "                      purpose total_income_category          purpose_category  \n",
       "0               покупка жилья                     B  операции с недвижимостью  \n",
       "1     приобретение автомобиля                     C    операции с автомобилем  \n",
       "2               покупка жилья                     C  операции с недвижимостью  \n",
       "3  дополнительное образование                     B     получение образования  \n",
       "4             сыграть свадьбу                     C        проведение свадьбы  "
      ]
     },
     "execution_count": 24,
     "metadata": {},
     "output_type": "execute_result"
    }
   ],
   "source": [
    "data.head()"
   ]
  },
  {
   "cell_type": "markdown",
   "id": "63c397bf",
   "metadata": {},
   "source": [
    "### Есть ли зависимость между количеством детей и возвратом кредита в срок?"
   ]
  },
  {
   "cell_type": "markdown",
   "id": "8048f968",
   "metadata": {},
   "source": [
    "**Для ответа на этот вопрос сагрегируем данные. Поскольку feature debt является бинарной, то среднее по этому столбцу, в зависимости от категории покажет нам долю невозврата. Итак, сгруппируем данные по children**"
   ]
  },
  {
   "cell_type": "code",
   "execution_count": 25,
   "id": "3e95ba46",
   "metadata": {},
   "outputs": [
    {
     "data": {
      "text/html": [
       "<div>\n",
       "<style scoped>\n",
       "    .dataframe tbody tr th:only-of-type {\n",
       "        vertical-align: middle;\n",
       "    }\n",
       "\n",
       "    .dataframe tbody tr th {\n",
       "        vertical-align: top;\n",
       "    }\n",
       "\n",
       "    .dataframe thead th {\n",
       "        text-align: right;\n",
       "    }\n",
       "</style>\n",
       "<table border=\"1\" class=\"dataframe\">\n",
       "  <thead>\n",
       "    <tr style=\"text-align: right;\">\n",
       "      <th></th>\n",
       "      <th>count</th>\n",
       "      <th>mean</th>\n",
       "      <th>sum</th>\n",
       "    </tr>\n",
       "    <tr>\n",
       "      <th>children</th>\n",
       "      <th></th>\n",
       "      <th></th>\n",
       "      <th></th>\n",
       "    </tr>\n",
       "  </thead>\n",
       "  <tbody>\n",
       "    <tr>\n",
       "      <th>0</th>\n",
       "      <td>14091</td>\n",
       "      <td>0.075438</td>\n",
       "      <td>1063</td>\n",
       "    </tr>\n",
       "    <tr>\n",
       "      <th>1</th>\n",
       "      <td>4808</td>\n",
       "      <td>0.092346</td>\n",
       "      <td>444</td>\n",
       "    </tr>\n",
       "    <tr>\n",
       "      <th>2</th>\n",
       "      <td>2052</td>\n",
       "      <td>0.094542</td>\n",
       "      <td>194</td>\n",
       "    </tr>\n",
       "    <tr>\n",
       "      <th>3</th>\n",
       "      <td>330</td>\n",
       "      <td>0.081818</td>\n",
       "      <td>27</td>\n",
       "    </tr>\n",
       "    <tr>\n",
       "      <th>4</th>\n",
       "      <td>41</td>\n",
       "      <td>0.097561</td>\n",
       "      <td>4</td>\n",
       "    </tr>\n",
       "    <tr>\n",
       "      <th>5</th>\n",
       "      <td>9</td>\n",
       "      <td>0.000000</td>\n",
       "      <td>0</td>\n",
       "    </tr>\n",
       "  </tbody>\n",
       "</table>\n",
       "</div>"
      ],
      "text/plain": [
       "          count      mean   sum\n",
       "children                       \n",
       "0         14091  0.075438  1063\n",
       "1          4808  0.092346   444\n",
       "2          2052  0.094542   194\n",
       "3           330  0.081818    27\n",
       "4            41  0.097561     4\n",
       "5             9  0.000000     0"
      ]
     },
     "execution_count": 25,
     "metadata": {},
     "output_type": "execute_result"
    }
   ],
   "source": [
    "# применим три функции агрегации\n",
    "\n",
    "data.groupby('children')['debt'].agg(['count', 'mean', 'sum'])"
   ]
  },
  {
   "cell_type": "markdown",
   "id": "aca0425b",
   "metadata": {},
   "source": [
    "**Из таблицы я вижу 6 категорий, от 0 до 5 детей. И наблюдается следующее:**\n",
    "\n",
    "* Для бездетных - 7.5% невозврат\n",
    "* Для 1 ребенка  - 9.2% невозврат\n",
    "* Для 2 детей - 9.4% невозврат\n",
    "* Для 3 детей - 8.1% невозврат\n",
    "\n",
    "**Но поскольку последние 2 группы содержат мало данных, я предлагаю разделить данные о детях на следующие категории:**\n",
    "\n",
    "* нет детей\n",
    "* 1 ребенок\n",
    "* 2 ребенка\n",
    "* многодетные (>2 детей)"
   ]
  },
  {
   "cell_type": "code",
   "execution_count": 26,
   "id": "061d4d68",
   "metadata": {},
   "outputs": [],
   "source": [
    "# напишем функцию для категоризации детей)):\n",
    "\n",
    "def category_cheldren(children):\n",
    "    try:\n",
    "        if children == 0:\n",
    "            return 'нет детей'\n",
    "\n",
    "        elif children == 1:\n",
    "            return '1 ребенок'\n",
    "\n",
    "        elif children >= 2:\n",
    "            return 'многодетные'\n",
    "\n",
    "    except:\n",
    "            pass"
   ]
  },
  {
   "cell_type": "code",
   "execution_count": 27,
   "id": "d05a90ee",
   "metadata": {},
   "outputs": [],
   "source": [
    "# можно попробовать включить 2 детей в категорию многодетных и посмотреть, что будет:\n",
    "    \n",
    "data['category_children_2'] = data['children'].apply(category_cheldren)"
   ]
  },
  {
   "cell_type": "code",
   "execution_count": 28,
   "id": "6852079b",
   "metadata": {},
   "outputs": [
    {
     "data": {
      "text/html": [
       "<div>\n",
       "<style scoped>\n",
       "    .dataframe tbody tr th:only-of-type {\n",
       "        vertical-align: middle;\n",
       "    }\n",
       "\n",
       "    .dataframe tbody tr th {\n",
       "        vertical-align: top;\n",
       "    }\n",
       "\n",
       "    .dataframe thead th {\n",
       "        text-align: right;\n",
       "    }\n",
       "</style>\n",
       "<table border=\"1\" class=\"dataframe\">\n",
       "  <thead>\n",
       "    <tr style=\"text-align: right;\">\n",
       "      <th></th>\n",
       "      <th>children</th>\n",
       "      <th>days_employed</th>\n",
       "      <th>dob_years</th>\n",
       "      <th>education</th>\n",
       "      <th>education_id</th>\n",
       "      <th>family_status</th>\n",
       "      <th>family_status_id</th>\n",
       "      <th>gender</th>\n",
       "      <th>income_type</th>\n",
       "      <th>debt</th>\n",
       "      <th>total_income</th>\n",
       "      <th>purpose</th>\n",
       "      <th>total_income_category</th>\n",
       "      <th>purpose_category</th>\n",
       "      <th>category_children_2</th>\n",
       "    </tr>\n",
       "  </thead>\n",
       "  <tbody>\n",
       "    <tr>\n",
       "      <th>0</th>\n",
       "      <td>1</td>\n",
       "      <td>8437.673028</td>\n",
       "      <td>42</td>\n",
       "      <td>высшее</td>\n",
       "      <td>0</td>\n",
       "      <td>женат / замужем</td>\n",
       "      <td>0</td>\n",
       "      <td>F</td>\n",
       "      <td>сотрудник</td>\n",
       "      <td>0</td>\n",
       "      <td>253875</td>\n",
       "      <td>покупка жилья</td>\n",
       "      <td>B</td>\n",
       "      <td>операции с недвижимостью</td>\n",
       "      <td>1 ребенок</td>\n",
       "    </tr>\n",
       "    <tr>\n",
       "      <th>1</th>\n",
       "      <td>1</td>\n",
       "      <td>4024.803754</td>\n",
       "      <td>36</td>\n",
       "      <td>среднее</td>\n",
       "      <td>1</td>\n",
       "      <td>женат / замужем</td>\n",
       "      <td>0</td>\n",
       "      <td>F</td>\n",
       "      <td>сотрудник</td>\n",
       "      <td>0</td>\n",
       "      <td>112080</td>\n",
       "      <td>приобретение автомобиля</td>\n",
       "      <td>C</td>\n",
       "      <td>операции с автомобилем</td>\n",
       "      <td>1 ребенок</td>\n",
       "    </tr>\n",
       "    <tr>\n",
       "      <th>2</th>\n",
       "      <td>0</td>\n",
       "      <td>5623.422610</td>\n",
       "      <td>33</td>\n",
       "      <td>среднее</td>\n",
       "      <td>1</td>\n",
       "      <td>женат / замужем</td>\n",
       "      <td>0</td>\n",
       "      <td>M</td>\n",
       "      <td>сотрудник</td>\n",
       "      <td>0</td>\n",
       "      <td>145885</td>\n",
       "      <td>покупка жилья</td>\n",
       "      <td>C</td>\n",
       "      <td>операции с недвижимостью</td>\n",
       "      <td>нет детей</td>\n",
       "    </tr>\n",
       "    <tr>\n",
       "      <th>3</th>\n",
       "      <td>3</td>\n",
       "      <td>4124.747207</td>\n",
       "      <td>32</td>\n",
       "      <td>среднее</td>\n",
       "      <td>1</td>\n",
       "      <td>женат / замужем</td>\n",
       "      <td>0</td>\n",
       "      <td>M</td>\n",
       "      <td>сотрудник</td>\n",
       "      <td>0</td>\n",
       "      <td>267628</td>\n",
       "      <td>дополнительное образование</td>\n",
       "      <td>B</td>\n",
       "      <td>получение образования</td>\n",
       "      <td>многодетные</td>\n",
       "    </tr>\n",
       "    <tr>\n",
       "      <th>4</th>\n",
       "      <td>0</td>\n",
       "      <td>340266.072047</td>\n",
       "      <td>53</td>\n",
       "      <td>среднее</td>\n",
       "      <td>1</td>\n",
       "      <td>гражданский брак</td>\n",
       "      <td>1</td>\n",
       "      <td>F</td>\n",
       "      <td>пенсионер</td>\n",
       "      <td>0</td>\n",
       "      <td>158616</td>\n",
       "      <td>сыграть свадьбу</td>\n",
       "      <td>C</td>\n",
       "      <td>проведение свадьбы</td>\n",
       "      <td>нет детей</td>\n",
       "    </tr>\n",
       "  </tbody>\n",
       "</table>\n",
       "</div>"
      ],
      "text/plain": [
       "   children  days_employed  dob_years education  education_id  \\\n",
       "0         1    8437.673028         42    высшее             0   \n",
       "1         1    4024.803754         36   среднее             1   \n",
       "2         0    5623.422610         33   среднее             1   \n",
       "3         3    4124.747207         32   среднее             1   \n",
       "4         0  340266.072047         53   среднее             1   \n",
       "\n",
       "      family_status  family_status_id gender income_type  debt  total_income  \\\n",
       "0   женат / замужем                 0      F   сотрудник     0        253875   \n",
       "1   женат / замужем                 0      F   сотрудник     0        112080   \n",
       "2   женат / замужем                 0      M   сотрудник     0        145885   \n",
       "3   женат / замужем                 0      M   сотрудник     0        267628   \n",
       "4  гражданский брак                 1      F   пенсионер     0        158616   \n",
       "\n",
       "                      purpose total_income_category          purpose_category  \\\n",
       "0               покупка жилья                     B  операции с недвижимостью   \n",
       "1     приобретение автомобиля                     C    операции с автомобилем   \n",
       "2               покупка жилья                     C  операции с недвижимостью   \n",
       "3  дополнительное образование                     B     получение образования   \n",
       "4             сыграть свадьбу                     C        проведение свадьбы   \n",
       "\n",
       "  category_children_2  \n",
       "0           1 ребенок  \n",
       "1           1 ребенок  \n",
       "2           нет детей  \n",
       "3         многодетные  \n",
       "4           нет детей  "
      ]
     },
     "execution_count": 28,
     "metadata": {},
     "output_type": "execute_result"
    }
   ],
   "source": [
    "data.head()"
   ]
  },
  {
   "cell_type": "markdown",
   "id": "4683b502",
   "metadata": {},
   "source": [
    "**Сагрегируем данные еще раз, но теперь на новый столбец category_children.**"
   ]
  },
  {
   "cell_type": "code",
   "execution_count": 29,
   "id": "12cd1d9f",
   "metadata": {},
   "outputs": [
    {
     "data": {
      "text/html": [
       "<div>\n",
       "<style scoped>\n",
       "    .dataframe tbody tr th:only-of-type {\n",
       "        vertical-align: middle;\n",
       "    }\n",
       "\n",
       "    .dataframe tbody tr th {\n",
       "        vertical-align: top;\n",
       "    }\n",
       "\n",
       "    .dataframe thead th {\n",
       "        text-align: right;\n",
       "    }\n",
       "</style>\n",
       "<table border=\"1\" class=\"dataframe\">\n",
       "  <thead>\n",
       "    <tr style=\"text-align: right;\">\n",
       "      <th></th>\n",
       "      <th>count</th>\n",
       "      <th>mean</th>\n",
       "      <th>sum</th>\n",
       "    </tr>\n",
       "    <tr>\n",
       "      <th>category_children_2</th>\n",
       "      <th></th>\n",
       "      <th></th>\n",
       "      <th></th>\n",
       "    </tr>\n",
       "  </thead>\n",
       "  <tbody>\n",
       "    <tr>\n",
       "      <th>1 ребенок</th>\n",
       "      <td>4808</td>\n",
       "      <td>0.092346</td>\n",
       "      <td>444</td>\n",
       "    </tr>\n",
       "    <tr>\n",
       "      <th>многодетные</th>\n",
       "      <td>2432</td>\n",
       "      <td>0.092516</td>\n",
       "      <td>225</td>\n",
       "    </tr>\n",
       "    <tr>\n",
       "      <th>нет детей</th>\n",
       "      <td>14091</td>\n",
       "      <td>0.075438</td>\n",
       "      <td>1063</td>\n",
       "    </tr>\n",
       "  </tbody>\n",
       "</table>\n",
       "</div>"
      ],
      "text/plain": [
       "                     count      mean   sum\n",
       "category_children_2                       \n",
       "1 ребенок             4808  0.092346   444\n",
       "многодетные           2432  0.092516   225\n",
       "нет детей            14091  0.075438  1063"
      ]
     },
     "execution_count": 29,
     "metadata": {},
     "output_type": "execute_result"
    }
   ],
   "source": [
    "# сагрегируем и отсортируем по возрастанию доли невозврата\n",
    "data.groupby('category_children_2')['debt'].agg(['count', 'mean', 'sum'])"
   ]
  },
  {
   "cell_type": "markdown",
   "id": "fba3ae08",
   "metadata": {},
   "source": [
    "**В целом, мы видим динамику:**\n",
    "\n",
    "* Наибольший возврат наблюдается у людей без детей\n",
    "* С увеличением количества детей, доля возврата уменьшается\n"
   ]
  },
  {
   "cell_type": "markdown",
   "id": "a1745788",
   "metadata": {},
   "source": [
    "**Теперь воспользуемся коэффициентом корреляции phik для выявления зависимости между целевым столбцом debt и нецелевыми столбцами.**"
   ]
  },
  {
   "cell_type": "code",
   "execution_count": 30,
   "id": "b0ca0e2e",
   "metadata": {},
   "outputs": [
    {
     "name": "stdout",
     "output_type": "stream",
     "text": [
      "interval columns not set, guessing: ['children', 'days_employed', 'dob_years', 'education_id', 'family_status_id', 'debt', 'total_income']\n"
     ]
    }
   ],
   "source": [
    "# расчет phik\n",
    "phik = data.phik_matrix()"
   ]
  },
  {
   "cell_type": "code",
   "execution_count": 31,
   "id": "625982fc",
   "metadata": {},
   "outputs": [
    {
     "data": {
      "text/plain": [
       "debt                     1.000000\n",
       "income_type              0.083525\n",
       "dob_years                0.068599\n",
       "purpose_category         0.050060\n",
       "education                0.047145\n",
       "education_id             0.047145\n",
       "children                 0.037015\n",
       "gender                   0.033420\n",
       "purpose                  0.032239\n",
       "family_status            0.027289\n",
       "family_status_id         0.027289\n",
       "days_employed            0.024321\n",
       "total_income             0.017078\n",
       "category_children_2      0.016724\n",
       "total_income_category    0.016502\n",
       "Name: debt, dtype: float64"
      ]
     },
     "execution_count": 31,
     "metadata": {},
     "output_type": "execute_result"
    }
   ],
   "source": [
    "# Отмечу, что коэффициент корреляции phik фиксирует и нелинейные зависимости\n",
    "phik['debt'].sort_values(ascending=False)"
   ]
  },
  {
   "cell_type": "markdown",
   "id": "3b11fdc6",
   "metadata": {},
   "source": [
    "**Мы видим, что total_income_category влияет на целевую переменную debt**"
   ]
  },
  {
   "cell_type": "code",
   "execution_count": 32,
   "id": "e7f14205",
   "metadata": {},
   "outputs": [
    {
     "data": {
      "text/plain": [
       "<Axes: >"
      ]
     },
     "execution_count": 32,
     "metadata": {},
     "output_type": "execute_result"
    },
    {
     "data": {
      "image/png": "[encoded data removed]",
      "text/plain": [
       "<Figure size 640x480 with 2 Axes>"
      ]
     },
     "metadata": {},
     "output_type": "display_data"
    }
   ],
   "source": [
    "# построим heatmap для визуализации влияния переменных друг на друга.\n",
    "sns.heatmap(phik)"
   ]
  },
  {
   "cell_type": "markdown",
   "id": "051b836c",
   "metadata": {},
   "source": [
    "**По горячей карте мы можем отслуживать значимость переменных на итогую целевую переменную**"
   ]
  },
  {
   "cell_type": "markdown",
   "id": "9b8ea146",
   "metadata": {},
   "source": [
    "**Вывод: зависимость между количеством детей и возвратом кредита в срок есть:**\n",
    "* Наибольшая доля возврата наблюдается у людей без детей;\n",
    "* С увеличением количества детей наблюдается увеличение доли невозврата! "
   ]
  },
  {
   "cell_type": "markdown",
   "id": "c4155b4c",
   "metadata": {},
   "source": [
    "### Есть ли зависимость между семейным положением и возвратом кредита в срок?¶"
   ]
  },
  {
   "cell_type": "markdown",
   "id": "9937f37f",
   "metadata": {},
   "source": [
    "**Для ответа на этот вопрос сагрегируем данные. Поскольку feature debt является бинарной, то среднее по этому столбцу, в зависимости от категории покажет нам долю невозврата. Итак, сгруппируем данные по family_status**"
   ]
  },
  {
   "cell_type": "code",
   "execution_count": 33,
   "id": "3f8a8db6",
   "metadata": {},
   "outputs": [
    {
     "data": {
      "text/html": [
       "<div>\n",
       "<style scoped>\n",
       "    .dataframe tbody tr th:only-of-type {\n",
       "        vertical-align: middle;\n",
       "    }\n",
       "\n",
       "    .dataframe tbody tr th {\n",
       "        vertical-align: top;\n",
       "    }\n",
       "\n",
       "    .dataframe thead th {\n",
       "        text-align: right;\n",
       "    }\n",
       "</style>\n",
       "<table border=\"1\" class=\"dataframe\">\n",
       "  <thead>\n",
       "    <tr style=\"text-align: right;\">\n",
       "      <th></th>\n",
       "      <th>count</th>\n",
       "      <th>mean</th>\n",
       "      <th>sum</th>\n",
       "    </tr>\n",
       "    <tr>\n",
       "      <th>family_status</th>\n",
       "      <th></th>\n",
       "      <th></th>\n",
       "      <th></th>\n",
       "    </tr>\n",
       "  </thead>\n",
       "  <tbody>\n",
       "    <tr>\n",
       "      <th>Не женат / не замужем</th>\n",
       "      <td>2796</td>\n",
       "      <td>0.097639</td>\n",
       "      <td>273</td>\n",
       "    </tr>\n",
       "    <tr>\n",
       "      <th>в разводе</th>\n",
       "      <td>1189</td>\n",
       "      <td>0.070648</td>\n",
       "      <td>84</td>\n",
       "    </tr>\n",
       "    <tr>\n",
       "      <th>вдовец / вдова</th>\n",
       "      <td>951</td>\n",
       "      <td>0.066246</td>\n",
       "      <td>63</td>\n",
       "    </tr>\n",
       "    <tr>\n",
       "      <th>гражданский брак</th>\n",
       "      <td>4134</td>\n",
       "      <td>0.093130</td>\n",
       "      <td>385</td>\n",
       "    </tr>\n",
       "    <tr>\n",
       "      <th>женат / замужем</th>\n",
       "      <td>12261</td>\n",
       "      <td>0.075606</td>\n",
       "      <td>927</td>\n",
       "    </tr>\n",
       "  </tbody>\n",
       "</table>\n",
       "</div>"
      ],
      "text/plain": [
       "                       count      mean  sum\n",
       "family_status                              \n",
       "Не женат / не замужем   2796  0.097639  273\n",
       "в разводе               1189  0.070648   84\n",
       "вдовец / вдова           951  0.066246   63\n",
       "гражданский брак        4134  0.093130  385\n",
       "женат / замужем        12261  0.075606  927"
      ]
     },
     "execution_count": 33,
     "metadata": {},
     "output_type": "execute_result"
    }
   ],
   "source": [
    "# применим три функции агрегации\n",
    "\n",
    "data.groupby('family_status')['debt'].agg(['count', 'mean', 'sum'])"
   ]
  },
  {
   "cell_type": "markdown",
   "id": "3ebeafe8",
   "metadata": {},
   "source": [
    "**Из таблицы я вижу 5 категорий. И наблюдается следующее:**\n",
    "\n",
    "* Не женат / не замужем - 9.7% невозврат\n",
    "* в разводе\t            - 7% невозврат\n",
    "* вдовец / вдова        - 6.6% невозврат\n",
    "* гражданский брак\t    - 9.3% невозврат\n",
    "* женат / замужем\t    - 7.5% невозврат\n",
    "\n"
   ]
  },
  {
   "cell_type": "markdown",
   "id": "201b688c",
   "metadata": {},
   "source": [
    "**В целом, мы видим динамику:**\n",
    "\n",
    "* Наименьший невозврат наблюдается у категории (вдовец / вдова) и категории (в разводе) и (женат / замужем)\n",
    "* Наибольший невозврат наблюдается у тех, кто в гражданком браке, не женет / не замужем"
   ]
  },
  {
   "cell_type": "markdown",
   "id": "ec1255b8",
   "metadata": {},
   "source": [
    "**Вывод: зависимость между семейным положением и возвратом кредита в срок есть. Семейный человек (или в разводе) с большей вероятностью вернет кредит. Те, кто находятся в гражданком браке или вообще не были в браке, имею меньше шансов на возврат кредита!** "
   ]
  },
  {
   "cell_type": "code",
   "execution_count": 34,
   "id": "c9e64677",
   "metadata": {},
   "outputs": [
    {
     "data": {
      "text/html": [
       "<div>\n",
       "<style scoped>\n",
       "    .dataframe tbody tr th:only-of-type {\n",
       "        vertical-align: middle;\n",
       "    }\n",
       "\n",
       "    .dataframe tbody tr th {\n",
       "        vertical-align: top;\n",
       "    }\n",
       "\n",
       "    .dataframe thead th {\n",
       "        text-align: right;\n",
       "    }\n",
       "</style>\n",
       "<table border=\"1\" class=\"dataframe\">\n",
       "  <thead>\n",
       "    <tr style=\"text-align: right;\">\n",
       "      <th></th>\n",
       "      <th></th>\n",
       "      <th>count</th>\n",
       "      <th>mean</th>\n",
       "      <th>sum</th>\n",
       "    </tr>\n",
       "    <tr>\n",
       "      <th>family_status</th>\n",
       "      <th>category_children_2</th>\n",
       "      <th></th>\n",
       "      <th></th>\n",
       "      <th></th>\n",
       "    </tr>\n",
       "  </thead>\n",
       "  <tbody>\n",
       "    <tr>\n",
       "      <th>Не женат / не замужем</th>\n",
       "      <th>нет детей</th>\n",
       "      <td>2262</td>\n",
       "      <td>0.092838</td>\n",
       "      <td>210</td>\n",
       "    </tr>\n",
       "    <tr>\n",
       "      <th>в разводе</th>\n",
       "      <th>нет детей</th>\n",
       "      <td>784</td>\n",
       "      <td>0.070153</td>\n",
       "      <td>55</td>\n",
       "    </tr>\n",
       "    <tr>\n",
       "      <th>вдовец / вдова</th>\n",
       "      <th>нет детей</th>\n",
       "      <td>847</td>\n",
       "      <td>0.062574</td>\n",
       "      <td>53</td>\n",
       "    </tr>\n",
       "    <tr>\n",
       "      <th>гражданский брак</th>\n",
       "      <th>нет детей</th>\n",
       "      <td>2730</td>\n",
       "      <td>0.083883</td>\n",
       "      <td>229</td>\n",
       "    </tr>\n",
       "    <tr>\n",
       "      <th>женат / замужем</th>\n",
       "      <th>нет детей</th>\n",
       "      <td>7468</td>\n",
       "      <td>0.069095</td>\n",
       "      <td>516</td>\n",
       "    </tr>\n",
       "    <tr>\n",
       "      <th>Не женат / не замужем</th>\n",
       "      <th>многодетные</th>\n",
       "      <td>85</td>\n",
       "      <td>0.129412</td>\n",
       "      <td>11</td>\n",
       "    </tr>\n",
       "    <tr>\n",
       "      <th>в разводе</th>\n",
       "      <th>многодетные</th>\n",
       "      <td>93</td>\n",
       "      <td>0.086022</td>\n",
       "      <td>8</td>\n",
       "    </tr>\n",
       "    <tr>\n",
       "      <th>вдовец / вдова</th>\n",
       "      <th>многодетные</th>\n",
       "      <td>27</td>\n",
       "      <td>0.111111</td>\n",
       "      <td>3</td>\n",
       "    </tr>\n",
       "    <tr>\n",
       "      <th>гражданский брак</th>\n",
       "      <th>многодетные</th>\n",
       "      <td>409</td>\n",
       "      <td>0.092910</td>\n",
       "      <td>38</td>\n",
       "    </tr>\n",
       "    <tr>\n",
       "      <th>женат / замужем</th>\n",
       "      <th>многодетные</th>\n",
       "      <td>1818</td>\n",
       "      <td>0.090759</td>\n",
       "      <td>165</td>\n",
       "    </tr>\n",
       "    <tr>\n",
       "      <th>Не женат / не замужем</th>\n",
       "      <th>1 ребенок</th>\n",
       "      <td>449</td>\n",
       "      <td>0.115813</td>\n",
       "      <td>52</td>\n",
       "    </tr>\n",
       "    <tr>\n",
       "      <th>в разводе</th>\n",
       "      <th>1 ребенок</th>\n",
       "      <td>312</td>\n",
       "      <td>0.067308</td>\n",
       "      <td>21</td>\n",
       "    </tr>\n",
       "    <tr>\n",
       "      <th>вдовец / вдова</th>\n",
       "      <th>1 ребенок</th>\n",
       "      <td>77</td>\n",
       "      <td>0.090909</td>\n",
       "      <td>7</td>\n",
       "    </tr>\n",
       "    <tr>\n",
       "      <th>гражданский брак</th>\n",
       "      <th>1 ребенок</th>\n",
       "      <td>995</td>\n",
       "      <td>0.118593</td>\n",
       "      <td>118</td>\n",
       "    </tr>\n",
       "    <tr>\n",
       "      <th>женат / замужем</th>\n",
       "      <th>1 ребенок</th>\n",
       "      <td>2975</td>\n",
       "      <td>0.082689</td>\n",
       "      <td>246</td>\n",
       "    </tr>\n",
       "  </tbody>\n",
       "</table>\n",
       "</div>"
      ],
      "text/plain": [
       "                                           count      mean  sum\n",
       "family_status         category_children_2                      \n",
       "Не женат / не замужем нет детей             2262  0.092838  210\n",
       "в разводе             нет детей              784  0.070153   55\n",
       "вдовец / вдова        нет детей              847  0.062574   53\n",
       "гражданский брак      нет детей             2730  0.083883  229\n",
       "женат / замужем       нет детей             7468  0.069095  516\n",
       "Не женат / не замужем многодетные             85  0.129412   11\n",
       "в разводе             многодетные             93  0.086022    8\n",
       "вдовец / вдова        многодетные             27  0.111111    3\n",
       "гражданский брак      многодетные            409  0.092910   38\n",
       "женат / замужем       многодетные           1818  0.090759  165\n",
       "Не женат / не замужем 1 ребенок              449  0.115813   52\n",
       "в разводе             1 ребенок              312  0.067308   21\n",
       "вдовец / вдова        1 ребенок               77  0.090909    7\n",
       "гражданский брак      1 ребенок              995  0.118593  118\n",
       "женат / замужем       1 ребенок             2975  0.082689  246"
      ]
     },
     "execution_count": 34,
     "metadata": {},
     "output_type": "execute_result"
    }
   ],
   "source": [
    "# Изучив влияние количества детей и семейного положения сгруппируем их вместе, чтобы посмотреть влияние обеих \n",
    "# переменных на debt.\n",
    "\n",
    "t = data.groupby(['family_status', 'category_children_2'])['debt'].agg(['count', 'mean', 'sum']).sort_values(by='category_children_2', ascending=False)\n",
    "t"
   ]
  },
  {
   "cell_type": "code",
   "execution_count": 35,
   "id": "cd341f60",
   "metadata": {},
   "outputs": [
    {
     "data": {
      "text/html": [
       "<div>\n",
       "<style scoped>\n",
       "    .dataframe tbody tr th:only-of-type {\n",
       "        vertical-align: middle;\n",
       "    }\n",
       "\n",
       "    .dataframe tbody tr th {\n",
       "        vertical-align: top;\n",
       "    }\n",
       "\n",
       "    .dataframe thead th {\n",
       "        text-align: right;\n",
       "    }\n",
       "</style>\n",
       "<table border=\"1\" class=\"dataframe\">\n",
       "  <thead>\n",
       "    <tr style=\"text-align: right;\">\n",
       "      <th></th>\n",
       "      <th></th>\n",
       "      <th>count</th>\n",
       "      <th>mean</th>\n",
       "      <th>sum</th>\n",
       "    </tr>\n",
       "    <tr>\n",
       "      <th>family_status</th>\n",
       "      <th>category_children_2</th>\n",
       "      <th></th>\n",
       "      <th></th>\n",
       "      <th></th>\n",
       "    </tr>\n",
       "  </thead>\n",
       "  <tbody>\n",
       "    <tr>\n",
       "      <th>гражданский брак</th>\n",
       "      <th>1 ребенок</th>\n",
       "      <td>995</td>\n",
       "      <td>0.118593</td>\n",
       "      <td>118</td>\n",
       "    </tr>\n",
       "    <tr>\n",
       "      <th>Не женат / не замужем</th>\n",
       "      <th>1 ребенок</th>\n",
       "      <td>449</td>\n",
       "      <td>0.115813</td>\n",
       "      <td>52</td>\n",
       "    </tr>\n",
       "    <tr>\n",
       "      <th>гражданский брак</th>\n",
       "      <th>многодетные</th>\n",
       "      <td>409</td>\n",
       "      <td>0.092910</td>\n",
       "      <td>38</td>\n",
       "    </tr>\n",
       "    <tr>\n",
       "      <th>Не женат / не замужем</th>\n",
       "      <th>нет детей</th>\n",
       "      <td>2262</td>\n",
       "      <td>0.092838</td>\n",
       "      <td>210</td>\n",
       "    </tr>\n",
       "    <tr>\n",
       "      <th>женат / замужем</th>\n",
       "      <th>многодетные</th>\n",
       "      <td>1818</td>\n",
       "      <td>0.090759</td>\n",
       "      <td>165</td>\n",
       "    </tr>\n",
       "    <tr>\n",
       "      <th>гражданский брак</th>\n",
       "      <th>нет детей</th>\n",
       "      <td>2730</td>\n",
       "      <td>0.083883</td>\n",
       "      <td>229</td>\n",
       "    </tr>\n",
       "    <tr>\n",
       "      <th>женат / замужем</th>\n",
       "      <th>1 ребенок</th>\n",
       "      <td>2975</td>\n",
       "      <td>0.082689</td>\n",
       "      <td>246</td>\n",
       "    </tr>\n",
       "    <tr>\n",
       "      <th>в разводе</th>\n",
       "      <th>нет детей</th>\n",
       "      <td>784</td>\n",
       "      <td>0.070153</td>\n",
       "      <td>55</td>\n",
       "    </tr>\n",
       "    <tr>\n",
       "      <th>женат / замужем</th>\n",
       "      <th>нет детей</th>\n",
       "      <td>7468</td>\n",
       "      <td>0.069095</td>\n",
       "      <td>516</td>\n",
       "    </tr>\n",
       "    <tr>\n",
       "      <th>в разводе</th>\n",
       "      <th>1 ребенок</th>\n",
       "      <td>312</td>\n",
       "      <td>0.067308</td>\n",
       "      <td>21</td>\n",
       "    </tr>\n",
       "    <tr>\n",
       "      <th>вдовец / вдова</th>\n",
       "      <th>нет детей</th>\n",
       "      <td>847</td>\n",
       "      <td>0.062574</td>\n",
       "      <td>53</td>\n",
       "    </tr>\n",
       "  </tbody>\n",
       "</table>\n",
       "</div>"
      ],
      "text/plain": [
       "                                           count      mean  sum\n",
       "family_status         category_children_2                      \n",
       "гражданский брак      1 ребенок              995  0.118593  118\n",
       "Не женат / не замужем 1 ребенок              449  0.115813   52\n",
       "гражданский брак      многодетные            409  0.092910   38\n",
       "Не женат / не замужем нет детей             2262  0.092838  210\n",
       "женат / замужем       многодетные           1818  0.090759  165\n",
       "гражданский брак      нет детей             2730  0.083883  229\n",
       "женат / замужем       1 ребенок             2975  0.082689  246\n",
       "в разводе             нет детей              784  0.070153   55\n",
       "женат / замужем       нет детей             7468  0.069095  516\n",
       "в разводе             1 ребенок              312  0.067308   21\n",
       "вдовец / вдова        нет детей              847  0.062574   53"
      ]
     },
     "execution_count": 35,
     "metadata": {},
     "output_type": "execute_result"
    }
   ],
   "source": [
    "# Поскольку некоторых наблюдений мало - я отфильтрую данные с количеством наблюдений < 100, чтобы не сильно\n",
    "# исказить результаты\n",
    "# отсортирую по убыванию mean\n",
    "\n",
    "t[t['count'] > 100].sort_values(by='mean', ascending=False)"
   ]
  },
  {
   "cell_type": "markdown",
   "id": "847aead7",
   "metadata": {},
   "source": [
    "**Отвечая на вопрос исследования \" влияет ли семейное положение и количество детей клиента на факт погашения кредита в срок.\" - да, влияет. Если рассмтаривать влияние двух этих переменных на на факт погашения в срок, то отмечу следующее:**\n",
    "\n",
    "* Самые Высокие шансы на НЕпогашение кредита имеют (неженатые и пары в гражанском браке) с 1 ребенком (примерно 11.6% невозврата)\n",
    "\n",
    "* Самые низкие шансы на НЕпогашение кредита имеют вдовец/вдова без детей (примерно 6.2% невозврата)"
   ]
  },
  {
   "cell_type": "code",
   "execution_count": 36,
   "id": "b328db58",
   "metadata": {},
   "outputs": [
    {
     "data": {
      "text/plain": [
       "array(['женат / замужем', 'гражданский брак', 'вдовец / вдова',\n",
       "       'в разводе', 'Не женат / не замужем'], dtype=object)"
      ]
     },
     "execution_count": 36,
     "metadata": {},
     "output_type": "execute_result"
    }
   ],
   "source": [
    "data['family_status'].unique()"
   ]
  },
  {
   "cell_type": "code",
   "execution_count": 37,
   "id": "f2848c5e",
   "metadata": {},
   "outputs": [],
   "source": [
    "# Посмотрим подробнее на фичу семейное положение и изменю категоризацию на тех, кто был/есть в браке,\n",
    "# гражданский брак, и тех, кто не был в браке. \n",
    "\n",
    "def family_status_category(status):\n",
    "    try:\n",
    "        if status == 'женат / замужем' or status == 'вдовец / вдова' or status == 'в разводе':\n",
    "            return 'был в браке'\n",
    "        elif status == 'гражданский брак':\n",
    "            return 'гражданский брак'\n",
    "        \n",
    "        elif status == 'вдовец / вдова':\n",
    "            return 'вдовец / вдова'        \n",
    "        \n",
    "        elif status == 'Не женат / не замужем':\n",
    "            return 'НЕ был в браке'\n",
    "    except:\n",
    "        return 'нет категории'\n"
   ]
  },
  {
   "cell_type": "code",
   "execution_count": 38,
   "id": "5ce8078b",
   "metadata": {},
   "outputs": [],
   "source": [
    "data['family_status_category'] = data['family_status'].apply(family_status_category)"
   ]
  },
  {
   "cell_type": "code",
   "execution_count": 39,
   "id": "aeed5aa2",
   "metadata": {},
   "outputs": [
    {
     "data": {
      "text/html": [
       "<div>\n",
       "<style scoped>\n",
       "    .dataframe tbody tr th:only-of-type {\n",
       "        vertical-align: middle;\n",
       "    }\n",
       "\n",
       "    .dataframe tbody tr th {\n",
       "        vertical-align: top;\n",
       "    }\n",
       "\n",
       "    .dataframe thead th {\n",
       "        text-align: right;\n",
       "    }\n",
       "</style>\n",
       "<table border=\"1\" class=\"dataframe\">\n",
       "  <thead>\n",
       "    <tr style=\"text-align: right;\">\n",
       "      <th></th>\n",
       "      <th></th>\n",
       "      <th>count</th>\n",
       "      <th>mean</th>\n",
       "      <th>sum</th>\n",
       "    </tr>\n",
       "    <tr>\n",
       "      <th>family_status_category</th>\n",
       "      <th>category_children_2</th>\n",
       "      <th></th>\n",
       "      <th></th>\n",
       "      <th></th>\n",
       "    </tr>\n",
       "  </thead>\n",
       "  <tbody>\n",
       "    <tr>\n",
       "      <th rowspan=\"3\" valign=\"top\">НЕ был в браке</th>\n",
       "      <th>1 ребенок</th>\n",
       "      <td>449</td>\n",
       "      <td>0.115813</td>\n",
       "      <td>52</td>\n",
       "    </tr>\n",
       "    <tr>\n",
       "      <th>многодетные</th>\n",
       "      <td>85</td>\n",
       "      <td>0.129412</td>\n",
       "      <td>11</td>\n",
       "    </tr>\n",
       "    <tr>\n",
       "      <th>нет детей</th>\n",
       "      <td>2262</td>\n",
       "      <td>0.092838</td>\n",
       "      <td>210</td>\n",
       "    </tr>\n",
       "    <tr>\n",
       "      <th rowspan=\"3\" valign=\"top\">был в браке</th>\n",
       "      <th>1 ребенок</th>\n",
       "      <td>3364</td>\n",
       "      <td>0.081451</td>\n",
       "      <td>274</td>\n",
       "    </tr>\n",
       "    <tr>\n",
       "      <th>многодетные</th>\n",
       "      <td>1938</td>\n",
       "      <td>0.090815</td>\n",
       "      <td>176</td>\n",
       "    </tr>\n",
       "    <tr>\n",
       "      <th>нет детей</th>\n",
       "      <td>9099</td>\n",
       "      <td>0.068579</td>\n",
       "      <td>624</td>\n",
       "    </tr>\n",
       "    <tr>\n",
       "      <th rowspan=\"3\" valign=\"top\">гражданский брак</th>\n",
       "      <th>1 ребенок</th>\n",
       "      <td>995</td>\n",
       "      <td>0.118593</td>\n",
       "      <td>118</td>\n",
       "    </tr>\n",
       "    <tr>\n",
       "      <th>многодетные</th>\n",
       "      <td>409</td>\n",
       "      <td>0.092910</td>\n",
       "      <td>38</td>\n",
       "    </tr>\n",
       "    <tr>\n",
       "      <th>нет детей</th>\n",
       "      <td>2730</td>\n",
       "      <td>0.083883</td>\n",
       "      <td>229</td>\n",
       "    </tr>\n",
       "  </tbody>\n",
       "</table>\n",
       "</div>"
      ],
      "text/plain": [
       "                                            count      mean  sum\n",
       "family_status_category category_children_2                      \n",
       "НЕ был в браке         1 ребенок              449  0.115813   52\n",
       "                       многодетные             85  0.129412   11\n",
       "                       нет детей             2262  0.092838  210\n",
       "был в браке            1 ребенок             3364  0.081451  274\n",
       "                       многодетные           1938  0.090815  176\n",
       "                       нет детей             9099  0.068579  624\n",
       "гражданский брак       1 ребенок              995  0.118593  118\n",
       "                       многодетные            409  0.092910   38\n",
       "                       нет детей             2730  0.083883  229"
      ]
     },
     "execution_count": 39,
     "metadata": {},
     "output_type": "execute_result"
    }
   ],
   "source": [
    "# Изучив влияние количества детей и семейного положения сгруппируем их вместе, чтобы посмотреть влияние обеих \n",
    "# переменных на debt.\n",
    "\n",
    "t = data.groupby(['family_status_category',\n",
    "                  'category_children_2'])['debt'].agg(['count', 'mean', 'sum'])\n",
    "t"
   ]
  },
  {
   "cell_type": "code",
   "execution_count": 40,
   "id": "94925c5a",
   "metadata": {},
   "outputs": [
    {
     "data": {
      "text/html": [
       "<div>\n",
       "<style scoped>\n",
       "    .dataframe tbody tr th:only-of-type {\n",
       "        vertical-align: middle;\n",
       "    }\n",
       "\n",
       "    .dataframe tbody tr th {\n",
       "        vertical-align: top;\n",
       "    }\n",
       "\n",
       "    .dataframe thead th {\n",
       "        text-align: right;\n",
       "    }\n",
       "</style>\n",
       "<table border=\"1\" class=\"dataframe\">\n",
       "  <thead>\n",
       "    <tr style=\"text-align: right;\">\n",
       "      <th></th>\n",
       "      <th></th>\n",
       "      <th>count</th>\n",
       "      <th>mean</th>\n",
       "      <th>sum</th>\n",
       "    </tr>\n",
       "    <tr>\n",
       "      <th>family_status_category</th>\n",
       "      <th>category_children_2</th>\n",
       "      <th></th>\n",
       "      <th></th>\n",
       "      <th></th>\n",
       "    </tr>\n",
       "  </thead>\n",
       "  <tbody>\n",
       "    <tr>\n",
       "      <th>гражданский брак</th>\n",
       "      <th>1 ребенок</th>\n",
       "      <td>995</td>\n",
       "      <td>0.118593</td>\n",
       "      <td>118</td>\n",
       "    </tr>\n",
       "    <tr>\n",
       "      <th>НЕ был в браке</th>\n",
       "      <th>1 ребенок</th>\n",
       "      <td>449</td>\n",
       "      <td>0.115813</td>\n",
       "      <td>52</td>\n",
       "    </tr>\n",
       "    <tr>\n",
       "      <th>гражданский брак</th>\n",
       "      <th>многодетные</th>\n",
       "      <td>409</td>\n",
       "      <td>0.092910</td>\n",
       "      <td>38</td>\n",
       "    </tr>\n",
       "    <tr>\n",
       "      <th>НЕ был в браке</th>\n",
       "      <th>нет детей</th>\n",
       "      <td>2262</td>\n",
       "      <td>0.092838</td>\n",
       "      <td>210</td>\n",
       "    </tr>\n",
       "    <tr>\n",
       "      <th>был в браке</th>\n",
       "      <th>многодетные</th>\n",
       "      <td>1938</td>\n",
       "      <td>0.090815</td>\n",
       "      <td>176</td>\n",
       "    </tr>\n",
       "    <tr>\n",
       "      <th>гражданский брак</th>\n",
       "      <th>нет детей</th>\n",
       "      <td>2730</td>\n",
       "      <td>0.083883</td>\n",
       "      <td>229</td>\n",
       "    </tr>\n",
       "    <tr>\n",
       "      <th rowspan=\"2\" valign=\"top\">был в браке</th>\n",
       "      <th>1 ребенок</th>\n",
       "      <td>3364</td>\n",
       "      <td>0.081451</td>\n",
       "      <td>274</td>\n",
       "    </tr>\n",
       "    <tr>\n",
       "      <th>нет детей</th>\n",
       "      <td>9099</td>\n",
       "      <td>0.068579</td>\n",
       "      <td>624</td>\n",
       "    </tr>\n",
       "  </tbody>\n",
       "</table>\n",
       "</div>"
      ],
      "text/plain": [
       "                                            count      mean  sum\n",
       "family_status_category category_children_2                      \n",
       "гражданский брак       1 ребенок              995  0.118593  118\n",
       "НЕ был в браке         1 ребенок              449  0.115813   52\n",
       "гражданский брак       многодетные            409  0.092910   38\n",
       "НЕ был в браке         нет детей             2262  0.092838  210\n",
       "был в браке            многодетные           1938  0.090815  176\n",
       "гражданский брак       нет детей             2730  0.083883  229\n",
       "был в браке            1 ребенок             3364  0.081451  274\n",
       "                       нет детей             9099  0.068579  624"
      ]
     },
     "execution_count": 40,
     "metadata": {},
     "output_type": "execute_result"
    }
   ],
   "source": [
    "# Поскольку некоторых наблюдений мало - я отфильтрую данные с количеством наблюдений > 100, чтобы не сильно\n",
    "# исказить результаты\n",
    "# отсортирую по убыванию mean\n",
    "\n",
    "t[t['count'] > 100].sort_values(by='mean', ascending=False)"
   ]
  },
  {
   "cell_type": "markdown",
   "id": "680ee137",
   "metadata": {},
   "source": [
    "**Вывод: Теперь хорошо наблюдается следующая зависимость:**\n",
    "* Люди, которые были в браке и у них нет детей - имеют НАИБОЛЬШИЕ шансы на возврат кредита.\n",
    "* Люди в гражданском браке с ребенком имеют НАИМЕНЬШИЕ шансы на возврат\n"
   ]
  },
  {
   "cell_type": "markdown",
   "id": "85e41e64",
   "metadata": {},
   "source": [
    "### Есть ли зависимость между уровнем дохода и возвратом кредита в срок?"
   ]
  },
  {
   "cell_type": "markdown",
   "id": "6c394b68",
   "metadata": {},
   "source": [
    "**Для ответа на этот вопрос сагрегируем данные. Поскольку feature debt является бинарной, то среднее по этому столбцу, в зависимости от категории покажет нам долю невозврата. Итак, сгруппируем данные по уровню дохода, ранее мы категоризовали уровень дохода, результат находится в столбце total_income_category, где**\n",
    "- 0–30000 — `'E'`;\n",
    "- 30001–50000 — `'D'`;\n",
    "- 50001–200000 — `'C'`;\n",
    "- 200001–1000000 — `'B'`;\n",
    "- 1000001 и выше — `'A'`.\n"
   ]
  },
  {
   "cell_type": "code",
   "execution_count": 41,
   "id": "2bb11add",
   "metadata": {},
   "outputs": [
    {
     "data": {
      "text/html": [
       "<div>\n",
       "<style scoped>\n",
       "    .dataframe tbody tr th:only-of-type {\n",
       "        vertical-align: middle;\n",
       "    }\n",
       "\n",
       "    .dataframe tbody tr th {\n",
       "        vertical-align: top;\n",
       "    }\n",
       "\n",
       "    .dataframe thead th {\n",
       "        text-align: right;\n",
       "    }\n",
       "</style>\n",
       "<table border=\"1\" class=\"dataframe\">\n",
       "  <thead>\n",
       "    <tr style=\"text-align: right;\">\n",
       "      <th></th>\n",
       "      <th>count</th>\n",
       "      <th>mean</th>\n",
       "      <th>sum</th>\n",
       "    </tr>\n",
       "    <tr>\n",
       "      <th>total_income_category</th>\n",
       "      <th></th>\n",
       "      <th></th>\n",
       "      <th></th>\n",
       "    </tr>\n",
       "  </thead>\n",
       "  <tbody>\n",
       "    <tr>\n",
       "      <th>A</th>\n",
       "      <td>25</td>\n",
       "      <td>0.080000</td>\n",
       "      <td>2</td>\n",
       "    </tr>\n",
       "    <tr>\n",
       "      <th>B</th>\n",
       "      <td>5014</td>\n",
       "      <td>0.070602</td>\n",
       "      <td>354</td>\n",
       "    </tr>\n",
       "    <tr>\n",
       "      <th>C</th>\n",
       "      <td>15921</td>\n",
       "      <td>0.084982</td>\n",
       "      <td>1353</td>\n",
       "    </tr>\n",
       "    <tr>\n",
       "      <th>D</th>\n",
       "      <td>349</td>\n",
       "      <td>0.060172</td>\n",
       "      <td>21</td>\n",
       "    </tr>\n",
       "    <tr>\n",
       "      <th>E</th>\n",
       "      <td>22</td>\n",
       "      <td>0.090909</td>\n",
       "      <td>2</td>\n",
       "    </tr>\n",
       "  </tbody>\n",
       "</table>\n",
       "</div>"
      ],
      "text/plain": [
       "                       count      mean   sum\n",
       "total_income_category                       \n",
       "A                         25  0.080000     2\n",
       "B                       5014  0.070602   354\n",
       "C                      15921  0.084982  1353\n",
       "D                        349  0.060172    21\n",
       "E                         22  0.090909     2"
      ]
     },
     "execution_count": 41,
     "metadata": {},
     "output_type": "execute_result"
    }
   ],
   "source": [
    "# применим три функции агрегации\n",
    "\n",
    "data.groupby('total_income_category')['debt'].agg(['count', 'mean', 'sum'])"
   ]
  },
  {
   "cell_type": "markdown",
   "id": "ea0ec3a7",
   "metadata": {},
   "source": [
    "**Из таблицы я вижу 5 категорий. И наблюдается следующее:**\n",
    "\n",
    "- 0–30000 — `'E'` - 9% невозврата\n",
    "- 30001–50000 — `'D'` - 6% невозврата\n",
    "- 50001–200000 — `'C'` - 8.4% невозврата\n",
    "- 200001–1000000 — `'B'`- 7% невозврата\n",
    "- 1000001 и выше — `'A'` - 8% невозврата\n",
    "\n"
   ]
  },
  {
   "cell_type": "markdown",
   "id": "3a5bc836",
   "metadata": {},
   "source": [
    "**В целом, мы видим динамику:**\n",
    "\n",
    "* Наименьший невозврат наблюдается у категории с доходом 30001–50000, наблюдается 6% невозврата\n",
    "* Наибольший невозврат наблюдается у категории с наименьшим доходом 0–30000, наблюдается 9% невозврата"
   ]
  },
  {
   "cell_type": "markdown",
   "id": "dc348c08",
   "metadata": {},
   "source": [
    "**Вывод: зависимость между уровнем дохода и возвратом кредита в срок есть. Люди с меньшим доходом имеют меньше шансов на возврат кредита, люди (скорее всего среднего класса ) с доходом 30001–50000 имеют бОльшие шансы на возврат кредита. Выводы справедливы, если учитывать, что количество наблюдений для категорий A и E достаточно.** "
   ]
  },
  {
   "cell_type": "code",
   "execution_count": 42,
   "id": "6282e9a4",
   "metadata": {},
   "outputs": [],
   "source": [
    "# Попробую изменить категоризацию, чтобы включить малые группы в бОльшие:\n",
    "\n",
    "def category_total_2(total):\n",
    "    try:\n",
    "        if total <= 200000:\n",
    "            return '<=200000'\n",
    "\n",
    "        elif total >= 200001 :\n",
    "            return '>=200001'\n",
    "\n",
    "    except:\n",
    "            pass"
   ]
  },
  {
   "cell_type": "code",
   "execution_count": 43,
   "id": "98152bbf",
   "metadata": {},
   "outputs": [],
   "source": [
    "data['category_total_2'] = data['total_income'].apply(category_total_2)"
   ]
  },
  {
   "cell_type": "code",
   "execution_count": 44,
   "id": "93f7b001",
   "metadata": {},
   "outputs": [
    {
     "data": {
      "text/html": [
       "<div>\n",
       "<style scoped>\n",
       "    .dataframe tbody tr th:only-of-type {\n",
       "        vertical-align: middle;\n",
       "    }\n",
       "\n",
       "    .dataframe tbody tr th {\n",
       "        vertical-align: top;\n",
       "    }\n",
       "\n",
       "    .dataframe thead th {\n",
       "        text-align: right;\n",
       "    }\n",
       "</style>\n",
       "<table border=\"1\" class=\"dataframe\">\n",
       "  <thead>\n",
       "    <tr style=\"text-align: right;\">\n",
       "      <th></th>\n",
       "      <th>count</th>\n",
       "      <th>mean</th>\n",
       "      <th>sum</th>\n",
       "    </tr>\n",
       "    <tr>\n",
       "      <th>category_total_2</th>\n",
       "      <th></th>\n",
       "      <th></th>\n",
       "      <th></th>\n",
       "    </tr>\n",
       "  </thead>\n",
       "  <tbody>\n",
       "    <tr>\n",
       "      <th>&lt;=200000</th>\n",
       "      <td>16292</td>\n",
       "      <td>0.084459</td>\n",
       "      <td>1376</td>\n",
       "    </tr>\n",
       "    <tr>\n",
       "      <th>&gt;=200001</th>\n",
       "      <td>5039</td>\n",
       "      <td>0.070649</td>\n",
       "      <td>356</td>\n",
       "    </tr>\n",
       "  </tbody>\n",
       "</table>\n",
       "</div>"
      ],
      "text/plain": [
       "                  count      mean   sum\n",
       "category_total_2                       \n",
       "<=200000          16292  0.084459  1376\n",
       ">=200001           5039  0.070649   356"
      ]
     },
     "execution_count": 44,
     "metadata": {},
     "output_type": "execute_result"
    }
   ],
   "source": [
    "# построим теперь новую сводную таблицу \n",
    "\n",
    "\n",
    "data.groupby('category_total_2')['debt'].agg(['count', 'mean', 'sum'])"
   ]
  },
  {
   "cell_type": "markdown",
   "id": "e26fbe80",
   "metadata": {},
   "source": [
    "**Объединив малые группы теперь явно прослеживается следующее:**\n",
    "* Шанс невозврата у людей с доходом меньше 200000 увеличивается.\n",
    "* Шанс невозврата у людей с доходом больше 200001 уменьшается."
   ]
  },
  {
   "cell_type": "markdown",
   "id": "badba490",
   "metadata": {},
   "source": [
    "### Как разные цели кредита влияют на его возврат в срок?"
   ]
  },
  {
   "cell_type": "markdown",
   "id": "ba510a2b",
   "metadata": {},
   "source": [
    "**Для ответа на этот вопрос сагрегируем данные. Поскольку feature debt является бинарной, то среднее по этому столбцу, в зависимости от категории покажет нам долю невозврата. Итак, сгруппируем данные по цели кредита, ранее мы категоризовали их, результат находится в столбце purpose_category.**\n"
   ]
  },
  {
   "cell_type": "code",
   "execution_count": 45,
   "id": "47cbe004",
   "metadata": {},
   "outputs": [
    {
     "data": {
      "text/html": [
       "<div>\n",
       "<style scoped>\n",
       "    .dataframe tbody tr th:only-of-type {\n",
       "        vertical-align: middle;\n",
       "    }\n",
       "\n",
       "    .dataframe tbody tr th {\n",
       "        vertical-align: top;\n",
       "    }\n",
       "\n",
       "    .dataframe thead th {\n",
       "        text-align: right;\n",
       "    }\n",
       "</style>\n",
       "<table border=\"1\" class=\"dataframe\">\n",
       "  <thead>\n",
       "    <tr style=\"text-align: right;\">\n",
       "      <th></th>\n",
       "      <th>count</th>\n",
       "      <th>mean</th>\n",
       "      <th>sum</th>\n",
       "    </tr>\n",
       "    <tr>\n",
       "      <th>purpose_category</th>\n",
       "      <th></th>\n",
       "      <th></th>\n",
       "      <th></th>\n",
       "    </tr>\n",
       "  </thead>\n",
       "  <tbody>\n",
       "    <tr>\n",
       "      <th>операции с автомобилем</th>\n",
       "      <td>4279</td>\n",
       "      <td>0.093480</td>\n",
       "      <td>400</td>\n",
       "    </tr>\n",
       "    <tr>\n",
       "      <th>операции с недвижимостью</th>\n",
       "      <td>10751</td>\n",
       "      <td>0.072551</td>\n",
       "      <td>780</td>\n",
       "    </tr>\n",
       "    <tr>\n",
       "      <th>получение образования</th>\n",
       "      <td>3988</td>\n",
       "      <td>0.092528</td>\n",
       "      <td>369</td>\n",
       "    </tr>\n",
       "    <tr>\n",
       "      <th>проведение свадьбы</th>\n",
       "      <td>2313</td>\n",
       "      <td>0.079118</td>\n",
       "      <td>183</td>\n",
       "    </tr>\n",
       "  </tbody>\n",
       "</table>\n",
       "</div>"
      ],
      "text/plain": [
       "                          count      mean  sum\n",
       "purpose_category                              \n",
       "операции с автомобилем     4279  0.093480  400\n",
       "операции с недвижимостью  10751  0.072551  780\n",
       "получение образования      3988  0.092528  369\n",
       "проведение свадьбы         2313  0.079118  183"
      ]
     },
     "execution_count": 45,
     "metadata": {},
     "output_type": "execute_result"
    }
   ],
   "source": [
    "# применим три функции агрегации\n",
    "\n",
    "data.groupby('purpose_category')['debt'].agg(['count', 'mean', 'sum'])"
   ]
  },
  {
   "cell_type": "markdown",
   "id": "978d4e47",
   "metadata": {},
   "source": [
    "**Из таблицы я вижу 4 категории. И наблюдается следующее:**\n",
    "\n",
    "- операции с автомобилем - 9.34% невозврата\n",
    "- операции с недвижимостью - 7.25% невозврата\n",
    "- получение образования\t - 9.25% невозврата\n",
    "- проведение свадьбы - 7.9% невозврата\n",
    "\n",
    "\n"
   ]
  },
  {
   "cell_type": "markdown",
   "id": "74b70cc6",
   "metadata": {},
   "source": [
    "**В целом, мы видим динамику:**\n",
    "\n",
    "* Наименьший невозврат наблюдается у категории с операциями на недвижимость, наблюдается 7.25% невозврата.\n",
    "* Наибольший невозврат наблюдается у категории с операциями по покупке автомобиля, наблюдается 9.34% невозврата"
   ]
  },
  {
   "cell_type": "markdown",
   "id": "c0f0ec32",
   "metadata": {},
   "source": [
    "**Вывод:  разные цели кредита влияют на его возврат в срок следующим образом:**\n",
    "* Если цель кредита - недвижимость, то шанс невозврата самый маленький (7.25%) в сравнении категорий.\n",
    "* На втором месте по минимальной доле невозврата - цели на проведение свадьбы(7.9%). \n",
    "\n",
    "**То есть две эти категории имеют больше шансов на возврат кредита, чем следующие.**\n",
    "\n",
    "* Если цель кредита образование, то шанс невозврата выше, чем у прошлых категорий (9.25%)\n",
    "* Наибольший невозврат наблюдается у категории с операциями по покупке автомобиля, наблюдается 9.34% невозврата\n"
   ]
  },
  {
   "cell_type": "code",
   "execution_count": 46,
   "id": "b7c981c8",
   "metadata": {},
   "outputs": [
    {
     "data": {
      "text/html": [
       "<div>\n",
       "<style scoped>\n",
       "    .dataframe tbody tr th:only-of-type {\n",
       "        vertical-align: middle;\n",
       "    }\n",
       "\n",
       "    .dataframe tbody tr th {\n",
       "        vertical-align: top;\n",
       "    }\n",
       "\n",
       "    .dataframe thead th {\n",
       "        text-align: right;\n",
       "    }\n",
       "</style>\n",
       "<table border=\"1\" class=\"dataframe\">\n",
       "  <thead>\n",
       "    <tr style=\"text-align: right;\">\n",
       "      <th></th>\n",
       "      <th></th>\n",
       "      <th>count</th>\n",
       "      <th>mean</th>\n",
       "      <th>sum</th>\n",
       "    </tr>\n",
       "    <tr>\n",
       "      <th>category_total_2</th>\n",
       "      <th>purpose_category</th>\n",
       "      <th></th>\n",
       "      <th></th>\n",
       "      <th></th>\n",
       "    </tr>\n",
       "  </thead>\n",
       "  <tbody>\n",
       "    <tr>\n",
       "      <th rowspan=\"4\" valign=\"top\">&lt;=200000</th>\n",
       "      <th>операции с автомобилем</th>\n",
       "      <td>3255</td>\n",
       "      <td>0.096774</td>\n",
       "      <td>315</td>\n",
       "    </tr>\n",
       "    <tr>\n",
       "      <th>операции с недвижимостью</th>\n",
       "      <td>8176</td>\n",
       "      <td>0.074242</td>\n",
       "      <td>607</td>\n",
       "    </tr>\n",
       "    <tr>\n",
       "      <th>получение образования</th>\n",
       "      <td>3094</td>\n",
       "      <td>0.096639</td>\n",
       "      <td>299</td>\n",
       "    </tr>\n",
       "    <tr>\n",
       "      <th>проведение свадьбы</th>\n",
       "      <td>1767</td>\n",
       "      <td>0.087719</td>\n",
       "      <td>155</td>\n",
       "    </tr>\n",
       "    <tr>\n",
       "      <th rowspan=\"4\" valign=\"top\">&gt;=200001</th>\n",
       "      <th>операции с автомобилем</th>\n",
       "      <td>1024</td>\n",
       "      <td>0.083008</td>\n",
       "      <td>85</td>\n",
       "    </tr>\n",
       "    <tr>\n",
       "      <th>операции с недвижимостью</th>\n",
       "      <td>2575</td>\n",
       "      <td>0.067184</td>\n",
       "      <td>173</td>\n",
       "    </tr>\n",
       "    <tr>\n",
       "      <th>получение образования</th>\n",
       "      <td>894</td>\n",
       "      <td>0.078300</td>\n",
       "      <td>70</td>\n",
       "    </tr>\n",
       "    <tr>\n",
       "      <th>проведение свадьбы</th>\n",
       "      <td>546</td>\n",
       "      <td>0.051282</td>\n",
       "      <td>28</td>\n",
       "    </tr>\n",
       "  </tbody>\n",
       "</table>\n",
       "</div>"
      ],
      "text/plain": [
       "                                           count      mean  sum\n",
       "category_total_2 purpose_category                              \n",
       "<=200000         операции с автомобилем     3255  0.096774  315\n",
       "                 операции с недвижимостью   8176  0.074242  607\n",
       "                 получение образования      3094  0.096639  299\n",
       "                 проведение свадьбы         1767  0.087719  155\n",
       ">=200001         операции с автомобилем     1024  0.083008   85\n",
       "                 операции с недвижимостью   2575  0.067184  173\n",
       "                 получение образования       894  0.078300   70\n",
       "                 проведение свадьбы          546  0.051282   28"
      ]
     },
     "execution_count": 46,
     "metadata": {},
     "output_type": "execute_result"
    }
   ],
   "source": [
    "# попробуем сгруппировать людей по уровню дохода и их цели кредита\n",
    "\n",
    "data.groupby(['category_total_2' , 'purpose_category'])['debt'].agg(['count', 'mean', 'sum'])"
   ]
  },
  {
   "cell_type": "markdown",
   "id": "b9ebce5d",
   "metadata": {},
   "source": [
    "**Что я здесь вижу:**\n",
    "* Люди с высоким уровнем дохода имеют бОльший шанс на возврат кредита.\n",
    "* Люди с меньшим уровнем дохода чаще всего берут кредит на машину и недвижимость и имеют меньший шанс на возврат кредита.\n",
    "* Больший шанс невозврата у людей с меньшим уровнем дохода на категории (машина и образование)"
   ]
  },
  {
   "cell_type": "code",
   "execution_count": 47,
   "id": "4c55ca2a",
   "metadata": {},
   "outputs": [
    {
     "data": {
      "text/html": [
       "<div>\n",
       "<style scoped>\n",
       "    .dataframe tbody tr th:only-of-type {\n",
       "        vertical-align: middle;\n",
       "    }\n",
       "\n",
       "    .dataframe tbody tr th {\n",
       "        vertical-align: top;\n",
       "    }\n",
       "\n",
       "    .dataframe thead th {\n",
       "        text-align: right;\n",
       "    }\n",
       "</style>\n",
       "<table border=\"1\" class=\"dataframe\">\n",
       "  <thead>\n",
       "    <tr style=\"text-align: right;\">\n",
       "      <th></th>\n",
       "      <th></th>\n",
       "      <th>count</th>\n",
       "      <th>mean</th>\n",
       "      <th>sum</th>\n",
       "    </tr>\n",
       "    <tr>\n",
       "      <th>category_total_2</th>\n",
       "      <th>category_children_2</th>\n",
       "      <th></th>\n",
       "      <th></th>\n",
       "      <th></th>\n",
       "    </tr>\n",
       "  </thead>\n",
       "  <tbody>\n",
       "    <tr>\n",
       "      <th rowspan=\"3\" valign=\"top\">&lt;=200000</th>\n",
       "      <th>1 ребенок</th>\n",
       "      <td>3632</td>\n",
       "      <td>0.097742</td>\n",
       "      <td>355</td>\n",
       "    </tr>\n",
       "    <tr>\n",
       "      <th>многодетные</th>\n",
       "      <td>1827</td>\n",
       "      <td>0.097975</td>\n",
       "      <td>179</td>\n",
       "    </tr>\n",
       "    <tr>\n",
       "      <th>нет детей</th>\n",
       "      <td>10833</td>\n",
       "      <td>0.077725</td>\n",
       "      <td>842</td>\n",
       "    </tr>\n",
       "    <tr>\n",
       "      <th rowspan=\"3\" valign=\"top\">&gt;=200001</th>\n",
       "      <th>1 ребенок</th>\n",
       "      <td>1176</td>\n",
       "      <td>0.075680</td>\n",
       "      <td>89</td>\n",
       "    </tr>\n",
       "    <tr>\n",
       "      <th>многодетные</th>\n",
       "      <td>605</td>\n",
       "      <td>0.076033</td>\n",
       "      <td>46</td>\n",
       "    </tr>\n",
       "    <tr>\n",
       "      <th>нет детей</th>\n",
       "      <td>3258</td>\n",
       "      <td>0.067833</td>\n",
       "      <td>221</td>\n",
       "    </tr>\n",
       "  </tbody>\n",
       "</table>\n",
       "</div>"
      ],
      "text/plain": [
       "                                      count      mean  sum\n",
       "category_total_2 category_children_2                      \n",
       "<=200000         1 ребенок             3632  0.097742  355\n",
       "                 многодетные           1827  0.097975  179\n",
       "                 нет детей            10833  0.077725  842\n",
       ">=200001         1 ребенок             1176  0.075680   89\n",
       "                 многодетные            605  0.076033   46\n",
       "                 нет детей             3258  0.067833  221"
      ]
     },
     "execution_count": 47,
     "metadata": {},
     "output_type": "execute_result"
    }
   ],
   "source": [
    "# Попробуем сгруппировать теперь людей по уровню дохода,  количеству детей\n",
    "\n",
    "data.groupby(['category_total_2', 'category_children_2'])['debt'].agg(['count', 'mean', 'sum'])"
   ]
  },
  {
   "cell_type": "markdown",
   "id": "a7e1aa75",
   "metadata": {},
   "source": [
    "**В сводной таблице мы видим, что:**\n",
    "* Многодетные семьи с меньшим уровнем дохода с детьми имеют бОльший шанс на невозврат кредита\n",
    "* Категория людей без детей и с высоким уровнем дохода имеют наименьший шанс на невозврат кредита\n"
   ]
  },
  {
   "cell_type": "markdown",
   "id": "540a3b6e",
   "metadata": {},
   "source": [
    "### возможные причины появления пропусков в исходных данных"
   ]
  },
  {
   "cell_type": "markdown",
   "id": "50062399",
   "metadata": {},
   "source": [
    "Пропуски у нас были только в двух переменных:\n",
    "*  трудовой стаж в днях (days_employed)\n",
    "*  данные о доходах (total_income)"
   ]
  },
  {
   "cell_type": "markdown",
   "id": "f90b9e20",
   "metadata": {},
   "source": [
    "**Ответ:** \n",
    "\n",
    "**1) Возможные причины для переменной days_employed:**\n",
    "* Утеря трудовой книжки \n",
    "* Перенос трудовой книжки в электронной вид (откуда возможно и брались данные) и человек скрыл некоторые данные\n",
    "\n",
    "**2) Возможные причины для переменной total_income:**\n",
    "* Человек старался скрыть свои реальные доходы\n",
    "\n",
    "**Глобальные причины для обеих переменных:**\n",
    "* Ошибки при чтении из баз данных\n",
    "* Ошибка при загрузке данных из файла\n",
    "* Либо, если это заполнял человек, то возможно ошибься он\n",
    "* Человек сам не указал какие-то данные, а в электронной базе(электронной трудовой книги) их получить не удалось\n"
   ]
  },
  {
   "cell_type": "markdown",
   "id": "0bc3791d",
   "metadata": {},
   "source": [
    "### Почему заполнить пропуски медианным значением — лучшее решение для количественных переменных."
   ]
  },
  {
   "cell_type": "markdown",
   "id": "8a24bfeb",
   "metadata": {},
   "source": [
    "**Ответ: Для количественных переменных часто применяют среднее и медиану.  Но почему же лучше применять медиану? Дело в том, что выбросы в данных (аномально большие и аномально маленкие) могут сильно смещать среднее, что в конечном итоге может привести к искажению данных. А в случае с медианой мы берем такое число в выборке, что ровно половина элементов больше него, а другая половина — меньше, значит выбросы не повлияют на итоговое значение, и искажение данных будет меньшее.*** "
   ]
  },
  {
   "cell_type": "markdown",
   "id": "8c34f470",
   "metadata": {},
   "source": [
    "## Вывод"
   ]
  },
  {
   "cell_type": "markdown",
   "id": "a4818457",
   "metadata": {},
   "source": [
    "Отвечая на вопрос исследования \" влияет ли семейное положение и количество детей клиента на факт погашения кредита в срок.\" - **да, влияет**. Если рассматривать влияние **семейного положения, уровня дохода, цели кредита, количества детей**  на факт погашения в срок, то отмечу следующее:\n",
    "\n",
    "**Если рассматривать зависимость количества детей, дохода на возврат, то отмечу:**\n",
    "* Категория людей без детей имеют бОльшие шансы на возврат кредита. С увеличением количества детей шансы на возврат кредита уменьшаются.\n",
    "* Люди с высоким уровнем дохода имеют большие шансы на возврат кредита. Люди с меньшим доходом имеют меньше шансов на возврат кредита.\n",
    "\n",
    "**Если рассматривать зависимость цели кредита на возврат, то отмечу**\n",
    "* Если цель кредита - недвижимость, то шанс невозврата самый маленький (7.25%) в сравнении категорий.\n",
    "* На втором месте по минимальной доле невозврата - цели на проведение свадьбы(7.9%). \n",
    "* Если цель кредита образование, то шанс невозврата выше, чем у прошлых категорий (9.25%)\n",
    "* Наибольший невозврат наблюдается у категории с операциями по покупке автомобиля, наблюдается 9.34% невозврата\n",
    "\n",
    "**Если рассматривать зависимость дохода, и цели кредита на возврат, то отмечу:**\n",
    "\n",
    "* Люди с высоким уровнем дохода имеют бОльший шанс на возврат кредита.\n",
    "* Люди с меньшим уровнем дохода чаще всего берут кредит на машину и недвижимость и имеют меньший шанс на возврат кредита.\n",
    "* Больший шанс невозврата у людей с меньшим уровнем дохода на категории (машина и образование)\n",
    "\n",
    "**Если рассматривать зависимость семейного положения, количества детей на возврат, то отмечу:**\n",
    "\n",
    "* Люди, которые были в браке и у них нет детей - имеют НАИБОЛЬШИЕ шансы на возврат кредита.\n",
    "* Люди в гражданском браке с ребенком имеют НАИМЕНЬШИЕ шансы на возврат\n"
   ]
  }
 ],
 "metadata": {
  "kernelspec": {
   "display_name": "Python 3 (ipykernel)",
   "language": "python",
   "name": "python3"
  },
  "language_info": {
   "codemirror_mode": {
    "name": "ipython",
    "version": 3
   },
   "file_extension": ".py",
   "mimetype": "text/x-python",
   "name": "python",
   "nbconvert_exporter": "python",
   "pygments_lexer": "ipython3",
   "version": "3.10.9"
  }
 },
 "nbformat": 4,
 "nbformat_minor": 5
}
